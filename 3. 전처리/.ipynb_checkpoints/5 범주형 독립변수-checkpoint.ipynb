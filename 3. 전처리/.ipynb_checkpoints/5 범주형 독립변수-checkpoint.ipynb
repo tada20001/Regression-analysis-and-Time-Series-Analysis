{
 "cells": [
  {
   "cell_type": "markdown",
   "metadata": {},
   "source": [
    "범주형 값은 여러 개의 다른 상태를 나타내는 값이다. 범주형 값을 'A', 'B', 'C'라는 문자로 표현하는 경우도 있고 '1', '2', '3'과 같이 숫자로 표현하는 경우도 있지만 이 경우는 'A'라는 글자대신 '1'이라는 글자를 이용한 것 뿐이지 숫자로서의 의미는 없다. 즉, '2'라는 값이 '1'이라는 값보다 2배 더 크다는 뜻이 아니다.\n",
    "\n",
    "회귀분석을 할 때는 숫자가 아닌 독립변수 값은 쓸 수 없기 때문에 어떤 방식으로든 범주형 독립변수의 값을 사용할 수 있는 방법을 찾아야 한다. 범주형 독립변수를 처리하는 가장 일반적인 방법은 더미변수(dummy variable)로 변환하는 것이다."
   ]
  },
  {
   "cell_type": "markdown",
   "metadata": {},
   "source": [
    "## 더미변수\n",
    "\n",
    "더미변수(dummy variable)는 0 또는 1만으로 표현되는 값으로 어떤 특징이 존재하는가 존재하지 않는가를 표시하는 독립변수다. 다음과 같은 명칭으로도 불린다.\n",
    "\n",
    "+ Boolean indicator\n",
    "+ binary variable\n",
    "+ indicator variable\n",
    "+ design variable\n",
    "+ treatment\n",
    "\n",
    "patsy 패키지의 dmatrix 명령과 OLS 클래스의 from_formula 메서드는 포뮬러 문자열을 이용하여 범주형 변수의 값을 더미변수로 인코딩하는 기능을 제공한다."
   ]
  },
  {
   "cell_type": "code",
   "execution_count": 1,
   "metadata": {},
   "outputs": [],
   "source": [
    "from patsy import *"
   ]
  },
  {
   "cell_type": "markdown",
   "metadata": {},
   "source": [
    "## 범주형 변수가 하나인 경우\n",
    "\n",
    "𝑥1,𝑥2,…,𝑥𝐷 라는  𝐷 개의 독립변수를 가지는 선형회귀모형을 생각하자.\n",
    "\n",
    "$$\\hat{y} = w_0 + w_1x_1 + w_2x_2 + \\cdots + w_Dx_D$$\n",
    "\n",
    "여기에서  𝑥1 이라는 독립변수만 범주형 변수이고 'A'과 'B'라는 두 가지의 범주값을 가질 수 있다고 하자.\n",
    "\n",
    "가장 간단한 방법은 전체 데이터를  𝑥1=𝐴 인 데이터와  𝑥2=𝐵 인 데이터 두 그룹으로 나누어 각각의 데이터에 대한 선형회귀모형을 만드는 것이다. 즉 다음과 같은 2개의 선형회귀모형을 만든다.\n",
    "\n",
    "$$\\text{model A}:\\;\\; \\hat{y} = w_{A,0} \\; + w_{A,2}x_2 + \\cdots + w_{A,D}x_D \\;\\; (\\text{if } x_1 = A)$$\n",
    "\n",
    "$$\\text{model B}:\\;\\; \\hat{y} = w_{B,0} \\; + w_{B,2}x_2 + \\cdots + w_{B,D}x_D \\;\\; (\\text{if } x_1 = B)$$"
   ]
  },
  {
   "cell_type": "markdown",
   "metadata": {},
   "source": [
    "그런데 올바른 선형회귀모형에서는  𝑥1 이 아닌 다른 변수 예를 들어  𝑥2 의 값이 변할 때  𝑦 값이 변화하는 정도, 즉 가중치  𝑤2 는  𝑥1 의 값이 A이든 B든 같아야 한다. 하지만 위와 같은 두 개의 선형회귀모형을 만들면  𝑤2 의 값이  𝑤𝐴,2 와  𝑤𝐵,2 라는 두 가지의 다른 값이 나오므로 위 모형은 적당하지 않다.\n",
    "\n",
    "더미변수 방법은 범주형 변수  𝑥1 을  𝑑1𝐴,𝑑1𝐵 라는 두 개의 더미변수로 바꾸는 것이다. 더미변수로 변환하면 상수항은 없어진다. 그 이유는 나중에 설명한다."
   ]
  },
  {
   "cell_type": "markdown",
   "metadata": {},
   "source": [
    "\\begin{aligned}\n",
    "\\hat{y} &= w_0 && + && \\hspace{1cm} w_1 x_1          & +  w_2 x_2  + \\cdots  + w_D x_D \\\\\n",
    "        &      &&   && \\hspace{1.2cm} \\downarrow       &     \\\\\n",
    "\\hat{y} &=     &&   && w_{1A} d_{1A} + w_{1B} d_{1B} & +  w_2 x_2  + \\cdots  + w_D x_D \\\\\n",
    "\\end{aligned}"
   ]
  },
  {
   "cell_type": "markdown",
   "metadata": {},
   "source": [
    "더미변수가 2개인 이유는 더미변수가 가질 수 있는 범주값이 2개이기 때문이다. 범주값이  𝐾 개이면 범주형 변수  𝑥1 을  𝑑11,…,𝑑1𝐾 라는  𝐾 개의 더미변수로 바꾸어야 한다.\n",
    "\n",
    "##### 더미변수의 값은 항상 0 또는 1이어야 하는데 더미변수의 값을 지정하는 방법에는 축소랭크(reduced-rank) 방식과 풀랭크(full-rank) 방식 두가지가 있다."
   ]
  },
  {
   "cell_type": "markdown",
   "metadata": {},
   "source": [
    "## 풀랭크 방식\n",
    "\n",
    "풀랭크(full-rank) 방식에서는 더미변수의 값을 원핫인코딩(one-hot-encoding) 방식으로 지정한다. 즉 범주값이 2가지인 경우에는\n",
    "\n",
    "\\begin{aligned}\n",
    "x_1=A \\;\\;&\\rightarrow\\;\\;  d_{1A}=1,\\, d_{1B} = 0 \\\\\n",
    "x_1=B \\;\\;&\\rightarrow\\;\\;  d_{1A}=0,\\, d_{1B} = 1 \\\\\n",
    "\\end{aligned}\n",
    "\n",
    "이 된다. 이 값을 대입하면 더미변수의 가중치는 상수항이 된다.\n",
    "\n",
    "\\begin{aligned}\n",
    "x_1=A \\;\\;&\\rightarrow\\;\\;  \\hat{y} = w_{1A} + w_2 x_2  + \\cdots  + w_D x_D \\\\\n",
    "x_1=B \\;\\;&\\rightarrow\\;\\;  \\hat{y} = w_{1B} + w_2 x_2  + \\cdots  + w_D x_D \\\\\n",
    "\\end{aligned}"
   ]
  },
  {
   "cell_type": "markdown",
   "metadata": {},
   "source": [
    "다시 말해 범주값이 달라지면 상수항만 달라지고 다른 독립변수의 가중치(영향)는 같은 모형이 되는 것이다.\n",
    "\n",
    "[그림] 풀랭크방식 더미변수 가중치의 의미 : https://datascienceschool.net/upfiles/cc2b959c098f4e3ebf82743eca24b326.png"
   ]
  },
  {
   "cell_type": "markdown",
   "metadata": {},
   "source": [
    "###### 선형회귀모형에 범주형 독립변수가 있으면 더미변수의 가중치 이외에 별도의 상수항이 있으면 안된다. \n",
    "\n",
    "만약 위의 모형에서 별도의 상수항  𝑤0 이 존재한다면 모형은 다음과 같이 될 것이다.\n",
    "\n",
    "\\begin{aligned}\n",
    "x_1=A \\;\\;&\\rightarrow\\;\\;  \\hat{y} = (w_0 + w_{1A}) + w_2 x_2  + \\cdots  + w_D x_D \\\\\n",
    "x_1=B \\;\\;&\\rightarrow\\;\\;  \\hat{y} = (w_0 + w_{1B}) + w_2 x_2  + \\cdots  + w_D x_D \\\\\n",
    "\\end{aligned}"
   ]
  },
  {
   "cell_type": "markdown",
   "metadata": {},
   "source": [
    "이 경우에는  𝑤0+𝑤1𝐴 나  𝑤0+𝑤1𝐵 의 값은 구할 수 있어도  𝑤0  값과  𝑤1𝐴  값을 분리할 수는 없다. 범주형 독립변수가 있으면 상수항은 포함시키지 않는다.\n",
    "\n",
    "patsy 패키지는 변수의 값이 문자이면 자동으로 범주형 독립변수로 인식한다. 풀랭크 모형을 사용하려면 포뮬러 문자열에 +0 또는 -1을 붙여야 한다. 더미변수의 이름은 자동으로 원래변수의 이름 + [범주값]으로 정해진다."
   ]
  },
  {
   "cell_type": "code",
   "execution_count": 2,
   "metadata": {},
   "outputs": [
    {
     "data": {
      "text/html": [
       "<div>\n",
       "<style scoped>\n",
       "    .dataframe tbody tr th:only-of-type {\n",
       "        vertical-align: middle;\n",
       "    }\n",
       "\n",
       "    .dataframe tbody tr th {\n",
       "        vertical-align: top;\n",
       "    }\n",
       "\n",
       "    .dataframe thead th {\n",
       "        text-align: right;\n",
       "    }\n",
       "</style>\n",
       "<table border=\"1\" class=\"dataframe\">\n",
       "  <thead>\n",
       "    <tr style=\"text-align: right;\">\n",
       "      <th></th>\n",
       "      <th>x1</th>\n",
       "    </tr>\n",
       "  </thead>\n",
       "  <tbody>\n",
       "    <tr>\n",
       "      <th>0</th>\n",
       "      <td>A</td>\n",
       "    </tr>\n",
       "    <tr>\n",
       "      <th>1</th>\n",
       "      <td>A</td>\n",
       "    </tr>\n",
       "    <tr>\n",
       "      <th>2</th>\n",
       "      <td>B</td>\n",
       "    </tr>\n",
       "    <tr>\n",
       "      <th>3</th>\n",
       "      <td>B</td>\n",
       "    </tr>\n",
       "  </tbody>\n",
       "</table>\n",
       "</div>"
      ],
      "text/plain": [
       "  x1\n",
       "0  A\n",
       "1  A\n",
       "2  B\n",
       "3  B"
      ]
     },
     "execution_count": 2,
     "metadata": {},
     "output_type": "execute_result"
    }
   ],
   "source": [
    "import pandas as pd\n",
    "\n",
    "df1 = pd.DataFrame([\"A\", \"A\", \"B\", \"B\"], columns=[\"x1\"])\n",
    "df1"
   ]
  },
  {
   "cell_type": "code",
   "execution_count": 3,
   "metadata": {},
   "outputs": [
    {
     "data": {
      "text/plain": [
       "DesignMatrix with shape (4, 2)\n",
       "  x1[A]  x1[B]\n",
       "      1      0\n",
       "      1      0\n",
       "      0      1\n",
       "      0      1\n",
       "  Terms:\n",
       "    'x1' (columns 0:2)"
      ]
     },
     "execution_count": 3,
     "metadata": {},
     "output_type": "execute_result"
    }
   ],
   "source": [
    "dmatrix(\"x1 + 0\", df1)"
   ]
  },
  {
   "cell_type": "code",
   "execution_count": 4,
   "metadata": {},
   "outputs": [
    {
     "data": {
      "text/plain": [
       "DesignMatrix with shape (4, 2)\n",
       "  x1[A]  x1[B]\n",
       "      1      0\n",
       "      1      0\n",
       "      0      1\n",
       "      0      1\n",
       "  Terms:\n",
       "    'x1' (columns 0:2)"
      ]
     },
     "execution_count": 4,
     "metadata": {},
     "output_type": "execute_result"
    }
   ],
   "source": [
    "dmatrix(\"x1 - 1\", df1)"
   ]
  },
  {
   "cell_type": "markdown",
   "metadata": {},
   "source": [
    "데이터가 범주형 값이지만 정수로 표시된 경우에는 C( ) 연산자를 이용하여 범주형 값임을 명시적으로 지정할 수 있다."
   ]
  },
  {
   "cell_type": "code",
   "execution_count": 5,
   "metadata": {},
   "outputs": [
    {
     "data": {
      "text/html": [
       "<div>\n",
       "<style scoped>\n",
       "    .dataframe tbody tr th:only-of-type {\n",
       "        vertical-align: middle;\n",
       "    }\n",
       "\n",
       "    .dataframe tbody tr th {\n",
       "        vertical-align: top;\n",
       "    }\n",
       "\n",
       "    .dataframe thead th {\n",
       "        text-align: right;\n",
       "    }\n",
       "</style>\n",
       "<table border=\"1\" class=\"dataframe\">\n",
       "  <thead>\n",
       "    <tr style=\"text-align: right;\">\n",
       "      <th></th>\n",
       "      <th>x1</th>\n",
       "    </tr>\n",
       "  </thead>\n",
       "  <tbody>\n",
       "    <tr>\n",
       "      <th>0</th>\n",
       "      <td>1</td>\n",
       "    </tr>\n",
       "    <tr>\n",
       "      <th>1</th>\n",
       "      <td>2</td>\n",
       "    </tr>\n",
       "    <tr>\n",
       "      <th>2</th>\n",
       "      <td>3</td>\n",
       "    </tr>\n",
       "    <tr>\n",
       "      <th>3</th>\n",
       "      <td>4</td>\n",
       "    </tr>\n",
       "  </tbody>\n",
       "</table>\n",
       "</div>"
      ],
      "text/plain": [
       "   x1\n",
       "0   1\n",
       "1   2\n",
       "2   3\n",
       "3   4"
      ]
     },
     "execution_count": 5,
     "metadata": {},
     "output_type": "execute_result"
    }
   ],
   "source": [
    "df2 = pd.DataFrame([1, 2, 3, 4], columns=[\"x1\"])\n",
    "df2"
   ]
  },
  {
   "cell_type": "code",
   "execution_count": 6,
   "metadata": {},
   "outputs": [
    {
     "data": {
      "text/plain": [
       "DesignMatrix with shape (4, 4)\n",
       "  C(x1)[1]  C(x1)[2]  C(x1)[3]  C(x1)[4]\n",
       "         1         0         0         0\n",
       "         0         1         0         0\n",
       "         0         0         1         0\n",
       "         0         0         0         1\n",
       "  Terms:\n",
       "    'C(x1)' (columns 0:4)"
      ]
     },
     "execution_count": 6,
     "metadata": {},
     "output_type": "execute_result"
    }
   ],
   "source": [
    "dmatrix(\"C(x1) - 1\", df2)"
   ]
  },
  {
   "cell_type": "markdown",
   "metadata": {},
   "source": [
    "## 축소랭크 방식\n",
    "\n",
    "축소랭크(reducec-rank) 방식에서는 특정한 하나의 범주값을 기준값(reference, baseline)으로 하고 기준값에 대응하는 더미변수의 가중치는 항상 1로 놓는다. \n",
    "\n",
    "다른 범주형 값을 가지는 경우는 기준값에 추가적인 특성이 있는 것으로 간주한다. 예를 들어 다음 축소랭크 방식은  𝑥1=𝐴 를 기준값으로 하는 경우이다.\n",
    "\n",
    "\\begin{aligned}\n",
    "x_1=A \\;\\;&\\rightarrow\\;\\;  d_{1A}=1,\\, d_{1B} = 0 \\\\\n",
    "x_1=B \\;\\;&\\rightarrow\\;\\;  d_{1A}=1,\\, d_{1B} = 1 \\\\\n",
    "\\end{aligned}"
   ]
  },
  {
   "cell_type": "markdown",
   "metadata": {},
   "source": [
    "반대로  𝑥1=𝐵 를 기준값으로 하면 다음과 같아진다.\n",
    "\n",
    "\\begin{aligned}\n",
    "x_1=A \\;\\;&\\rightarrow\\;\\;  d_{1A}=1,\\, d_{1B} = 1 \\\\\n",
    "x_1=B \\;\\;&\\rightarrow\\;\\;  d_{1A}=0,\\, d_{1B} = 1 \\\\\n",
    "\\end{aligned}"
   ]
  },
  {
   "cell_type": "markdown",
   "metadata": {},
   "source": [
    "이 값을 대입하면 기준값인 더미변수의 가중치는 상수항이 되고 나머지 더미변수의 가중치는 그 상수항에 추가적으로 더해지는 상수항이 된다.  𝑥1=𝐴 를 기준값으로 하는 경우에는 다음과 같다.\n",
    "\n",
    "\\begin{aligned}\n",
    "x_1=A \\;\\;&\\rightarrow\\;\\;  \\hat{y} = w_{1A}          &+ w_2 x_2  + \\cdots  + w_D x_D \\\\\n",
    "x_1=B \\;\\;&\\rightarrow\\;\\;  \\hat{y} = w_{1A} + w_{1B} &+ w_2 x_2  + \\cdots  + w_D x_D \\\\\n",
    "\\end{aligned}"
   ]
  },
  {
   "cell_type": "markdown",
   "metadata": {},
   "source": [
    "[그림] 축소랭크 방식 더미변수 가중치의 의미 : https://datascienceschool.net/upfiles/5cdba8a462f44c1c9f91446b6af3122b.png"
   ]
  },
  {
   "cell_type": "markdown",
   "metadata": {},
   "source": [
    "patsy에서 포뮬러 문자열에 +0 또는 -1이 없으면 축소랭크 방식으로 간주한다. 별도로 지정하지 않으면 알파벳 순서로 가장 빠른 범주값이 기준값이 된다. 축소랭크 방식에서는 범주값 이름 앞에 Treatment를 뜻하는 T. 기호가 붙는다."
   ]
  },
  {
   "cell_type": "code",
   "execution_count": 7,
   "metadata": {},
   "outputs": [
    {
     "data": {
      "text/html": [
       "<div>\n",
       "<style scoped>\n",
       "    .dataframe tbody tr th:only-of-type {\n",
       "        vertical-align: middle;\n",
       "    }\n",
       "\n",
       "    .dataframe tbody tr th {\n",
       "        vertical-align: top;\n",
       "    }\n",
       "\n",
       "    .dataframe thead th {\n",
       "        text-align: right;\n",
       "    }\n",
       "</style>\n",
       "<table border=\"1\" class=\"dataframe\">\n",
       "  <thead>\n",
       "    <tr style=\"text-align: right;\">\n",
       "      <th></th>\n",
       "      <th>x1</th>\n",
       "    </tr>\n",
       "  </thead>\n",
       "  <tbody>\n",
       "    <tr>\n",
       "      <th>0</th>\n",
       "      <td>A</td>\n",
       "    </tr>\n",
       "    <tr>\n",
       "      <th>1</th>\n",
       "      <td>B</td>\n",
       "    </tr>\n",
       "    <tr>\n",
       "      <th>2</th>\n",
       "      <td>C</td>\n",
       "    </tr>\n",
       "  </tbody>\n",
       "</table>\n",
       "</div>"
      ],
      "text/plain": [
       "  x1\n",
       "0  A\n",
       "1  B\n",
       "2  C"
      ]
     },
     "execution_count": 7,
     "metadata": {},
     "output_type": "execute_result"
    }
   ],
   "source": [
    "df3 = pd.DataFrame([\"A\", \"B\", \"C\"], columns=[\"x1\"])\n",
    "df3"
   ]
  },
  {
   "cell_type": "code",
   "execution_count": 8,
   "metadata": {},
   "outputs": [
    {
     "data": {
      "text/plain": [
       "DesignMatrix with shape (3, 3)\n",
       "  Intercept  x1[T.B]  x1[T.C]\n",
       "          1        0        0\n",
       "          1        1        0\n",
       "          1        0        1\n",
       "  Terms:\n",
       "    'Intercept' (column 0)\n",
       "    'x1' (columns 1:3)"
      ]
     },
     "execution_count": 8,
     "metadata": {},
     "output_type": "execute_result"
    }
   ],
   "source": [
    "dmatrix(\"x1\", df3)"
   ]
  },
  {
   "cell_type": "markdown",
   "metadata": {},
   "source": [
    "만약 기준값을 다른 값으로 바꾸고 싶으면 Treatment 연산자를 사용한다. 다음 코드에서는 B를 기준값으로 사용하였다."
   ]
  },
  {
   "cell_type": "code",
   "execution_count": 9,
   "metadata": {},
   "outputs": [
    {
     "data": {
      "text/plain": [
       "DesignMatrix with shape (3, 3)\n",
       "  Intercept  C(x1, Treatment('B'))[T.A]  C(x1, Treatment('B'))[T.C]\n",
       "          1                           1                           0\n",
       "          1                           0                           0\n",
       "          1                           0                           1\n",
       "  Terms:\n",
       "    'Intercept' (column 0)\n",
       "    \"C(x1, Treatment('B'))\" (columns 1:3)"
      ]
     },
     "execution_count": 9,
     "metadata": {},
     "output_type": "execute_result"
    }
   ],
   "source": [
    "dmatrix(\"C(x1, Treatment('B'))\", df3)"
   ]
  },
  {
   "cell_type": "markdown",
   "metadata": {},
   "source": [
    "## 하나의 범주형 독립변수가 있는 회귀분석\n",
    "\n",
    "### 예제\n",
    "\n",
    "월(month)을 독립변수로 하여 해당 월의 기온을 예측하는 회귀분석을 해보자. 데이터는 다음과 같다."
   ]
  },
  {
   "cell_type": "code",
   "execution_count": 19,
   "metadata": {},
   "outputs": [],
   "source": [
    "import statsmodels.api as sm"
   ]
  },
  {
   "cell_type": "code",
   "execution_count": 20,
   "metadata": {},
   "outputs": [],
   "source": [
    "df_nottem = sm.datasets.get_rdataset(\"nottem\").data"
   ]
  },
  {
   "cell_type": "markdown",
   "metadata": {},
   "source": [
    "일단 다음 코드를 사용하여 연단위(year fraction) 데이터에서 월을 추출해낸다."
   ]
  },
  {
   "cell_type": "code",
   "execution_count": 21,
   "metadata": {},
   "outputs": [],
   "source": [
    "import datetime\n",
    "from calendar import isleap\n",
    "\n",
    "def convert_partial_year(number):\n",
    "    year = int(number)\n",
    "    d = datetime.timedelta(days=(number - year) * (365 + isleap(year)))\n",
    "    day_one = datetime.datetime(year, 1, 1)\n",
    "    date = d + day_one\n",
    "    return date"
   ]
  },
  {
   "cell_type": "code",
   "execution_count": 22,
   "metadata": {},
   "outputs": [
    {
     "data": {
      "text/html": [
       "<div>\n",
       "<style scoped>\n",
       "    .dataframe tbody tr th:only-of-type {\n",
       "        vertical-align: middle;\n",
       "    }\n",
       "\n",
       "    .dataframe tbody tr th {\n",
       "        vertical-align: top;\n",
       "    }\n",
       "\n",
       "    .dataframe thead th {\n",
       "        text-align: right;\n",
       "    }\n",
       "</style>\n",
       "<table border=\"1\" class=\"dataframe\">\n",
       "  <thead>\n",
       "    <tr style=\"text-align: right;\">\n",
       "      <th></th>\n",
       "      <th>time</th>\n",
       "      <th>value</th>\n",
       "    </tr>\n",
       "  </thead>\n",
       "  <tbody>\n",
       "    <tr>\n",
       "      <th>235</th>\n",
       "      <td>1939.583333</td>\n",
       "      <td>61.8</td>\n",
       "    </tr>\n",
       "    <tr>\n",
       "      <th>236</th>\n",
       "      <td>1939.666667</td>\n",
       "      <td>58.2</td>\n",
       "    </tr>\n",
       "    <tr>\n",
       "      <th>237</th>\n",
       "      <td>1939.750000</td>\n",
       "      <td>46.7</td>\n",
       "    </tr>\n",
       "    <tr>\n",
       "      <th>238</th>\n",
       "      <td>1939.833333</td>\n",
       "      <td>46.6</td>\n",
       "    </tr>\n",
       "    <tr>\n",
       "      <th>239</th>\n",
       "      <td>1939.916667</td>\n",
       "      <td>37.8</td>\n",
       "    </tr>\n",
       "  </tbody>\n",
       "</table>\n",
       "</div>"
      ],
      "text/plain": [
       "            time  value\n",
       "235  1939.583333   61.8\n",
       "236  1939.666667   58.2\n",
       "237  1939.750000   46.7\n",
       "238  1939.833333   46.6\n",
       "239  1939.916667   37.8"
      ]
     },
     "execution_count": 22,
     "metadata": {},
     "output_type": "execute_result"
    }
   ],
   "source": [
    "df_nottem.tail()"
   ]
  },
  {
   "cell_type": "code",
   "execution_count": 23,
   "metadata": {},
   "outputs": [
    {
     "data": {
      "text/html": [
       "<div>\n",
       "<style scoped>\n",
       "    .dataframe tbody tr th:only-of-type {\n",
       "        vertical-align: middle;\n",
       "    }\n",
       "\n",
       "    .dataframe tbody tr th {\n",
       "        vertical-align: top;\n",
       "    }\n",
       "\n",
       "    .dataframe thead th {\n",
       "        text-align: right;\n",
       "    }\n",
       "</style>\n",
       "<table border=\"1\" class=\"dataframe\">\n",
       "  <thead>\n",
       "    <tr style=\"text-align: right;\">\n",
       "      <th></th>\n",
       "      <th>time</th>\n",
       "      <th>value</th>\n",
       "      <th>date0</th>\n",
       "    </tr>\n",
       "  </thead>\n",
       "  <tbody>\n",
       "    <tr>\n",
       "      <th>235</th>\n",
       "      <td>1939.583333</td>\n",
       "      <td>61.8</td>\n",
       "      <td>1939-08-01 21:59:59.999897</td>\n",
       "    </tr>\n",
       "    <tr>\n",
       "      <th>236</th>\n",
       "      <td>1939.666667</td>\n",
       "      <td>58.2</td>\n",
       "      <td>1939-09-01 08:00:00.000103</td>\n",
       "    </tr>\n",
       "    <tr>\n",
       "      <th>237</th>\n",
       "      <td>1939.750000</td>\n",
       "      <td>46.7</td>\n",
       "      <td>1939-10-01 18:00:00.000000</td>\n",
       "    </tr>\n",
       "    <tr>\n",
       "      <th>238</th>\n",
       "      <td>1939.833333</td>\n",
       "      <td>46.6</td>\n",
       "      <td>1939-11-01 03:59:59.999897</td>\n",
       "    </tr>\n",
       "    <tr>\n",
       "      <th>239</th>\n",
       "      <td>1939.916667</td>\n",
       "      <td>37.8</td>\n",
       "      <td>1939-12-01 14:00:00.000103</td>\n",
       "    </tr>\n",
       "  </tbody>\n",
       "</table>\n",
       "</div>"
      ],
      "text/plain": [
       "            time  value                      date0\n",
       "235  1939.583333   61.8 1939-08-01 21:59:59.999897\n",
       "236  1939.666667   58.2 1939-09-01 08:00:00.000103\n",
       "237  1939.750000   46.7 1939-10-01 18:00:00.000000\n",
       "238  1939.833333   46.6 1939-11-01 03:59:59.999897\n",
       "239  1939.916667   37.8 1939-12-01 14:00:00.000103"
      ]
     },
     "execution_count": 23,
     "metadata": {},
     "output_type": "execute_result"
    }
   ],
   "source": [
    "df_nottem[\"date0\"] = df_nottem[[\"time\"]].applymap(convert_partial_year)\n",
    "df_nottem.tail()"
   ]
  },
  {
   "cell_type": "code",
   "execution_count": 24,
   "metadata": {},
   "outputs": [
    {
     "data": {
      "text/html": [
       "<div>\n",
       "<style scoped>\n",
       "    .dataframe tbody tr th:only-of-type {\n",
       "        vertical-align: middle;\n",
       "    }\n",
       "\n",
       "    .dataframe tbody tr th {\n",
       "        vertical-align: top;\n",
       "    }\n",
       "\n",
       "    .dataframe thead th {\n",
       "        text-align: right;\n",
       "    }\n",
       "</style>\n",
       "<table border=\"1\" class=\"dataframe\">\n",
       "  <thead>\n",
       "    <tr style=\"text-align: right;\">\n",
       "      <th></th>\n",
       "      <th>time</th>\n",
       "      <th>value</th>\n",
       "      <th>date0</th>\n",
       "      <th>date</th>\n",
       "    </tr>\n",
       "  </thead>\n",
       "  <tbody>\n",
       "    <tr>\n",
       "      <th>235</th>\n",
       "      <td>1939.583333</td>\n",
       "      <td>61.8</td>\n",
       "      <td>1939-08-01 21:59:59.999897</td>\n",
       "      <td>1939-08-02 22:00:00</td>\n",
       "    </tr>\n",
       "    <tr>\n",
       "      <th>236</th>\n",
       "      <td>1939.666667</td>\n",
       "      <td>58.2</td>\n",
       "      <td>1939-09-01 08:00:00.000103</td>\n",
       "      <td>1939-09-02 08:00:00</td>\n",
       "    </tr>\n",
       "    <tr>\n",
       "      <th>237</th>\n",
       "      <td>1939.750000</td>\n",
       "      <td>46.7</td>\n",
       "      <td>1939-10-01 18:00:00.000000</td>\n",
       "      <td>1939-10-02 18:00:00</td>\n",
       "    </tr>\n",
       "    <tr>\n",
       "      <th>238</th>\n",
       "      <td>1939.833333</td>\n",
       "      <td>46.6</td>\n",
       "      <td>1939-11-01 03:59:59.999897</td>\n",
       "      <td>1939-11-02 04:00:00</td>\n",
       "    </tr>\n",
       "    <tr>\n",
       "      <th>239</th>\n",
       "      <td>1939.916667</td>\n",
       "      <td>37.8</td>\n",
       "      <td>1939-12-01 14:00:00.000103</td>\n",
       "      <td>1939-12-02 14:00:00</td>\n",
       "    </tr>\n",
       "  </tbody>\n",
       "</table>\n",
       "</div>"
      ],
      "text/plain": [
       "            time  value                      date0                date\n",
       "235  1939.583333   61.8 1939-08-01 21:59:59.999897 1939-08-02 22:00:00\n",
       "236  1939.666667   58.2 1939-09-01 08:00:00.000103 1939-09-02 08:00:00\n",
       "237  1939.750000   46.7 1939-10-01 18:00:00.000000 1939-10-02 18:00:00\n",
       "238  1939.833333   46.6 1939-11-01 03:59:59.999897 1939-11-02 04:00:00\n",
       "239  1939.916667   37.8 1939-12-01 14:00:00.000103 1939-12-02 14:00:00"
      ]
     },
     "execution_count": 24,
     "metadata": {},
     "output_type": "execute_result"
    }
   ],
   "source": [
    "df_nottem[\"date\"] = pd.DatetimeIndex(df_nottem[\"date0\"]).round('60min') + datetime.timedelta(seconds=3600*24)\n",
    "df_nottem.tail()"
   ]
  },
  {
   "cell_type": "code",
   "execution_count": 25,
   "metadata": {},
   "outputs": [
    {
     "data": {
      "text/html": [
       "<div>\n",
       "<style scoped>\n",
       "    .dataframe tbody tr th:only-of-type {\n",
       "        vertical-align: middle;\n",
       "    }\n",
       "\n",
       "    .dataframe tbody tr th {\n",
       "        vertical-align: top;\n",
       "    }\n",
       "\n",
       "    .dataframe thead th {\n",
       "        text-align: right;\n",
       "    }\n",
       "</style>\n",
       "<table border=\"1\" class=\"dataframe\">\n",
       "  <thead>\n",
       "    <tr style=\"text-align: right;\">\n",
       "      <th></th>\n",
       "      <th>time</th>\n",
       "      <th>value</th>\n",
       "      <th>date0</th>\n",
       "      <th>date</th>\n",
       "      <th>month</th>\n",
       "    </tr>\n",
       "  </thead>\n",
       "  <tbody>\n",
       "    <tr>\n",
       "      <th>235</th>\n",
       "      <td>1939.583333</td>\n",
       "      <td>61.8</td>\n",
       "      <td>1939-08-01 21:59:59.999897</td>\n",
       "      <td>1939-08-02 22:00:00</td>\n",
       "      <td>08</td>\n",
       "    </tr>\n",
       "    <tr>\n",
       "      <th>236</th>\n",
       "      <td>1939.666667</td>\n",
       "      <td>58.2</td>\n",
       "      <td>1939-09-01 08:00:00.000103</td>\n",
       "      <td>1939-09-02 08:00:00</td>\n",
       "      <td>09</td>\n",
       "    </tr>\n",
       "    <tr>\n",
       "      <th>237</th>\n",
       "      <td>1939.750000</td>\n",
       "      <td>46.7</td>\n",
       "      <td>1939-10-01 18:00:00.000000</td>\n",
       "      <td>1939-10-02 18:00:00</td>\n",
       "      <td>10</td>\n",
       "    </tr>\n",
       "    <tr>\n",
       "      <th>238</th>\n",
       "      <td>1939.833333</td>\n",
       "      <td>46.6</td>\n",
       "      <td>1939-11-01 03:59:59.999897</td>\n",
       "      <td>1939-11-02 04:00:00</td>\n",
       "      <td>11</td>\n",
       "    </tr>\n",
       "    <tr>\n",
       "      <th>239</th>\n",
       "      <td>1939.916667</td>\n",
       "      <td>37.8</td>\n",
       "      <td>1939-12-01 14:00:00.000103</td>\n",
       "      <td>1939-12-02 14:00:00</td>\n",
       "      <td>12</td>\n",
       "    </tr>\n",
       "  </tbody>\n",
       "</table>\n",
       "</div>"
      ],
      "text/plain": [
       "            time  value                      date0                date month\n",
       "235  1939.583333   61.8 1939-08-01 21:59:59.999897 1939-08-02 22:00:00    08\n",
       "236  1939.666667   58.2 1939-09-01 08:00:00.000103 1939-09-02 08:00:00    09\n",
       "237  1939.750000   46.7 1939-10-01 18:00:00.000000 1939-10-02 18:00:00    10\n",
       "238  1939.833333   46.6 1939-11-01 03:59:59.999897 1939-11-02 04:00:00    11\n",
       "239  1939.916667   37.8 1939-12-01 14:00:00.000103 1939-12-02 14:00:00    12"
      ]
     },
     "execution_count": 25,
     "metadata": {},
     "output_type": "execute_result"
    }
   ],
   "source": [
    "df_nottem[\"month\"] = df_nottem[\"date\"].dt.strftime(\"%m\").astype('category')\n",
    "df_nottem.tail()"
   ]
  },
  {
   "cell_type": "code",
   "execution_count": 26,
   "metadata": {},
   "outputs": [
    {
     "data": {
      "text/html": [
       "<div>\n",
       "<style scoped>\n",
       "    .dataframe tbody tr th:only-of-type {\n",
       "        vertical-align: middle;\n",
       "    }\n",
       "\n",
       "    .dataframe tbody tr th {\n",
       "        vertical-align: top;\n",
       "    }\n",
       "\n",
       "    .dataframe thead th {\n",
       "        text-align: right;\n",
       "    }\n",
       "</style>\n",
       "<table border=\"1\" class=\"dataframe\">\n",
       "  <thead>\n",
       "    <tr style=\"text-align: right;\">\n",
       "      <th></th>\n",
       "      <th>time</th>\n",
       "      <th>value</th>\n",
       "      <th>month</th>\n",
       "    </tr>\n",
       "  </thead>\n",
       "  <tbody>\n",
       "    <tr>\n",
       "      <th>235</th>\n",
       "      <td>1939.583333</td>\n",
       "      <td>61.8</td>\n",
       "      <td>08</td>\n",
       "    </tr>\n",
       "    <tr>\n",
       "      <th>236</th>\n",
       "      <td>1939.666667</td>\n",
       "      <td>58.2</td>\n",
       "      <td>09</td>\n",
       "    </tr>\n",
       "    <tr>\n",
       "      <th>237</th>\n",
       "      <td>1939.750000</td>\n",
       "      <td>46.7</td>\n",
       "      <td>10</td>\n",
       "    </tr>\n",
       "    <tr>\n",
       "      <th>238</th>\n",
       "      <td>1939.833333</td>\n",
       "      <td>46.6</td>\n",
       "      <td>11</td>\n",
       "    </tr>\n",
       "    <tr>\n",
       "      <th>239</th>\n",
       "      <td>1939.916667</td>\n",
       "      <td>37.8</td>\n",
       "      <td>12</td>\n",
       "    </tr>\n",
       "  </tbody>\n",
       "</table>\n",
       "</div>"
      ],
      "text/plain": [
       "            time  value month\n",
       "235  1939.583333   61.8    08\n",
       "236  1939.666667   58.2    09\n",
       "237  1939.750000   46.7    10\n",
       "238  1939.833333   46.6    11\n",
       "239  1939.916667   37.8    12"
      ]
     },
     "execution_count": 26,
     "metadata": {},
     "output_type": "execute_result"
    }
   ],
   "source": [
    "del df_nottem[\"date0\"], df_nottem[\"date\"]\n",
    "df_nottem.tail()"
   ]
  },
  {
   "cell_type": "markdown",
   "metadata": {},
   "source": [
    "이 데이터를 박스플롯으로 시각화한다."
   ]
  },
  {
   "cell_type": "code",
   "execution_count": 27,
   "metadata": {},
   "outputs": [],
   "source": [
    "import matplotlib.pylab as plt\n",
    "import matplotlib as mpl\n",
    "import matplotlib.font_manager as fm\n",
    "import seaborn as sns\n",
    "import numpy as np\n",
    "\n",
    "sns.set_style(\"whitegrid\")\n",
    "mpl.rcParams['axes.unicode_minus'] = False\n",
    "plt.rcParams['font.size'] = 12\n",
    "\n",
    "path = \"/Library/Fonts/NanumGothic.otf\"\n",
    "font_name = fm.FontProperties(fname=path, size=20).get_name()\n",
    "\n",
    "plt.rc('font', family=font_name)"
   ]
  },
  {
   "cell_type": "code",
   "execution_count": 28,
   "metadata": {},
   "outputs": [
    {
     "data": {
      "image/png": "[encoded data removed]",
      "text/plain": [
       "<Figure size 432x288 with 1 Axes>"
      ]
     },
     "metadata": {
      "needs_background": "light"
     },
     "output_type": "display_data"
    }
   ],
   "source": [
    "df_nottem.boxplot(\"value\", \"month\") # 기온, 월\n",
    "plt.show()"
   ]
  },
  {
   "cell_type": "markdown",
   "metadata": {},
   "source": [
    "풀랭크 방식으로 더미변수를 만들어 회귀분석을 하면 각 월의 평균 기온을 구할 수 있다. 월 데이터가 숫자이므로 연속값으로 인식하지 않도록 C() 연산자를 사용하였다."
   ]
  },
  {
   "cell_type": "code",
   "execution_count": 29,
   "metadata": {},
   "outputs": [
    {
     "name": "stdout",
     "output_type": "stream",
     "text": [
      "                            OLS Regression Results                            \n",
      "==============================================================================\n",
      "Dep. Variable:                  value   R-squared:                       0.930\n",
      "Model:                            OLS   Adj. R-squared:                  0.927\n",
      "Method:                 Least Squares   F-statistic:                     277.3\n",
      "Date:                Tue, 13 Aug 2019   Prob (F-statistic):          2.96e-125\n",
      "Time:                        13:16:50   Log-Likelihood:                -535.82\n",
      "No. Observations:                 240   AIC:                             1096.\n",
      "Df Residuals:                     228   BIC:                             1137.\n",
      "Df Model:                          11                                         \n",
      "Covariance Type:            nonrobust                                         \n",
      "================================================================================\n",
      "                   coef    std err          t      P>|t|      [0.025      0.975]\n",
      "--------------------------------------------------------------------------------\n",
      "C(month)[01]    39.6950      0.518     76.691      0.000      38.675      40.715\n",
      "C(month)[02]    39.1900      0.518     75.716      0.000      38.170      40.210\n",
      "C(month)[03]    42.1950      0.518     81.521      0.000      41.175      43.215\n",
      "C(month)[04]    46.2900      0.518     89.433      0.000      45.270      47.310\n",
      "C(month)[05]    52.5600      0.518    101.547      0.000      51.540      53.580\n",
      "C(month)[06]    58.0400      0.518    112.134      0.000      57.020      59.060\n",
      "C(month)[07]    61.9000      0.518    119.592      0.000      60.880      62.920\n",
      "C(month)[08]    60.5200      0.518    116.926      0.000      59.500      61.540\n",
      "C(month)[09]    56.4800      0.518    109.120      0.000      55.460      57.500\n",
      "C(month)[10]    49.4950      0.518     95.625      0.000      48.475      50.515\n",
      "C(month)[11]    42.5800      0.518     82.265      0.000      41.560      43.600\n",
      "C(month)[12]    39.5300      0.518     76.373      0.000      38.510      40.550\n",
      "==============================================================================\n",
      "Omnibus:                        5.430   Durbin-Watson:                   1.529\n",
      "Prob(Omnibus):                  0.066   Jarque-Bera (JB):                5.299\n",
      "Skew:                          -0.281   Prob(JB):                       0.0707\n",
      "Kurtosis:                       3.463   Cond. No.                         1.00\n",
      "==============================================================================\n",
      "\n",
      "Warnings:\n",
      "[1] Standard Errors assume that the covariance matrix of the errors is correctly specified.\n"
     ]
    }
   ],
   "source": [
    "model = sm.OLS.from_formula(\"value ~ C(month) + 0\", data=df_nottem) # 풀랭크 방식(+0)\n",
    "result = model.fit()\n",
    "print(result.summary())"
   ]
  },
  {
   "cell_type": "markdown",
   "metadata": {},
   "source": [
    "포뮬러 문자열에서 +0을 제외하면 축소랭크 방식을 사용한다. 이 때는 1월의 평균 기온을 기준으로 각 월의 평균 기온이 얼마나 더 높은지를 나타내는 값이 회귀모형의 계수가 된다."
   ]
  },
  {
   "cell_type": "code",
   "execution_count": 30,
   "metadata": {},
   "outputs": [
    {
     "name": "stdout",
     "output_type": "stream",
     "text": [
      "                            OLS Regression Results                            \n",
      "==============================================================================\n",
      "Dep. Variable:                  value   R-squared:                       0.930\n",
      "Model:                            OLS   Adj. R-squared:                  0.927\n",
      "Method:                 Least Squares   F-statistic:                     277.3\n",
      "Date:                Tue, 13 Aug 2019   Prob (F-statistic):          2.96e-125\n",
      "Time:                        13:22:52   Log-Likelihood:                -535.82\n",
      "No. Observations:                 240   AIC:                             1096.\n",
      "Df Residuals:                     228   BIC:                             1137.\n",
      "Df Model:                          11                                         \n",
      "Covariance Type:            nonrobust                                         \n",
      "==================================================================================\n",
      "                     coef    std err          t      P>|t|      [0.025      0.975]\n",
      "----------------------------------------------------------------------------------\n",
      "Intercept         39.6950      0.518     76.691      0.000      38.675      40.715\n",
      "C(month)[T.02]    -0.5050      0.732     -0.690      0.491      -1.947       0.937\n",
      "C(month)[T.03]     2.5000      0.732      3.415      0.001       1.058       3.942\n",
      "C(month)[T.04]     6.5950      0.732      9.010      0.000       5.153       8.037\n",
      "C(month)[T.05]    12.8650      0.732     17.575      0.000      11.423      14.307\n",
      "C(month)[T.06]    18.3450      0.732     25.062      0.000      16.903      19.787\n",
      "C(month)[T.07]    22.2050      0.732     30.335      0.000      20.763      23.647\n",
      "C(month)[T.08]    20.8250      0.732     28.450      0.000      19.383      22.267\n",
      "C(month)[T.09]    16.7850      0.732     22.931      0.000      15.343      18.227\n",
      "C(month)[T.10]     9.8000      0.732     13.388      0.000       8.358      11.242\n",
      "C(month)[T.11]     2.8850      0.732      3.941      0.000       1.443       4.327\n",
      "C(month)[T.12]    -0.1650      0.732     -0.225      0.822      -1.607       1.277\n",
      "==============================================================================\n",
      "Omnibus:                        5.430   Durbin-Watson:                   1.529\n",
      "Prob(Omnibus):                  0.066   Jarque-Bera (JB):                5.299\n",
      "Skew:                          -0.281   Prob(JB):                       0.0707\n",
      "Kurtosis:                       3.463   Cond. No.                         12.9\n",
      "==============================================================================\n",
      "\n",
      "Warnings:\n",
      "[1] Standard Errors assume that the covariance matrix of the errors is correctly specified.\n"
     ]
    }
   ],
   "source": [
    "model1 = sm.OLS.from_formula(\"value ~ C(month)\", df_nottem)\n",
    "result1 = model1.fit()\n",
    "print(result1.summary())"
   ]
  },
  {
   "cell_type": "markdown",
   "metadata": {},
   "source": [
    "## 보스턴 집값 데이터의 범주형 변수\n",
    "\n",
    "보스턴 집값 데이터는 CHAS라는 범주형 변수를 가지고 있다. 이 변수는 0과 1 두 개의 값(클래스)를 가지므로 이미 full rank 더미변수로 변환되어 있는 것과 비슷하다. 즉 다음과 같은 두 개의 모형을 각각 회귀분석하는 경우라고 볼 수 있다.\n",
    "\n",
    "+ CHAS = 1 인 경우,\n",
    "\n",
    "$$y = (w_0 + w_{\\text{CHAS}}) + w_{\\text{CRIM}} \\text{CRIM} + w_{\\text{ZN}} \\text{ZN} + \\cdots$$\n",
    "\n",
    "+ CHAS = 0 인 경우,\n",
    "\n",
    "$$y = w_0 + w_{\\text{CRIM}} \\text{CRIM} + w_{\\text{ZN}} \\text{ZN} + \\cdots$$"
   ]
  },
  {
   "cell_type": "code",
   "execution_count": 32,
   "metadata": {},
   "outputs": [],
   "source": [
    "from sklearn.datasets import load_boston\n",
    "\n",
    "boston = load_boston()\n",
    "dfX0_boston = pd.DataFrame(boston.data, columns=boston.feature_names)\n",
    "dfX_boston = sm.add_constant(dfX0_boston)\n",
    "dfy_boston = pd.DataFrame(boston.target, columns=[\"MEDV\"])\n",
    "df_boston = pd.concat([dfX_boston, dfy_boston], axis=1)"
   ]
  },
  {
   "cell_type": "code",
   "execution_count": 34,
   "metadata": {},
   "outputs": [
    {
     "name": "stdout",
     "output_type": "stream",
     "text": [
      "                            OLS Regression Results                            \n",
      "==============================================================================\n",
      "Dep. Variable:                   MEDV   R-squared:                       0.741\n",
      "Model:                            OLS   Adj. R-squared:                  0.734\n",
      "Method:                 Least Squares   F-statistic:                     108.1\n",
      "Date:                Tue, 13 Aug 2019   Prob (F-statistic):          6.72e-135\n",
      "Time:                        13:31:36   Log-Likelihood:                -1498.8\n",
      "No. Observations:                 506   AIC:                             3026.\n",
      "Df Residuals:                     492   BIC:                             3085.\n",
      "Df Model:                          13                                         \n",
      "Covariance Type:            nonrobust                                         \n",
      "==============================================================================\n",
      "                 coef    std err          t      P>|t|      [0.025      0.975]\n",
      "------------------------------------------------------------------------------\n",
      "const         36.4595      5.103      7.144      0.000      26.432      46.487\n",
      "CRIM          -0.1080      0.033     -3.287      0.001      -0.173      -0.043\n",
      "ZN             0.0464      0.014      3.382      0.001       0.019       0.073\n",
      "INDUS          0.0206      0.061      0.334      0.738      -0.100       0.141\n",
      "CHAS           2.6867      0.862      3.118      0.002       0.994       4.380\n",
      "NOX          -17.7666      3.820     -4.651      0.000     -25.272     -10.262\n",
      "RM             3.8099      0.418      9.116      0.000       2.989       4.631\n",
      "AGE            0.0007      0.013      0.052      0.958      -0.025       0.027\n",
      "DIS           -1.4756      0.199     -7.398      0.000      -1.867      -1.084\n",
      "RAD            0.3060      0.066      4.613      0.000       0.176       0.436\n",
      "TAX           -0.0123      0.004     -3.280      0.001      -0.020      -0.005\n",
      "PTRATIO       -0.9527      0.131     -7.283      0.000      -1.210      -0.696\n",
      "B              0.0093      0.003      3.467      0.001       0.004       0.015\n",
      "LSTAT         -0.5248      0.051    -10.347      0.000      -0.624      -0.425\n",
      "==============================================================================\n",
      "Omnibus:                      178.041   Durbin-Watson:                   1.078\n",
      "Prob(Omnibus):                  0.000   Jarque-Bera (JB):              783.126\n",
      "Skew:                           1.521   Prob(JB):                    8.84e-171\n",
      "Kurtosis:                       8.281   Cond. No.                     1.51e+04\n",
      "==============================================================================\n",
      "\n",
      "Warnings:\n",
      "[1] Standard Errors assume that the covariance matrix of the errors is correctly specified.\n",
      "[2] The condition number is large, 1.51e+04. This might indicate that there are\n",
      "strong multicollinearity or other numerical problems.\n"
     ]
    }
   ],
   "source": [
    "model = sm.OLS(dfy_boston, dfX_boston)\n",
    "result = model.fit()\n",
    "print(result.summary())"
   ]
  },
  {
   "cell_type": "markdown",
   "metadata": {},
   "source": [
    "위 분석에서 두 데이터 그룹은 찰스강에 인접하지 않은 집의 가격 모형은 상수항이  36.4595  이지만 찰스강에 인접한 집의 가격 모형은 상수항이  36.4595 +2.6867 이라는 것을 알 수 있다."
   ]
  },
  {
   "cell_type": "markdown",
   "metadata": {},
   "source": [
    "### Practice 1\n",
    "\n",
    "1. from_formula 메서드를 사용하여 보스턴 집값 예측 문제를 다시 풀어라. C( ) 를 사용하여 범주형값임을 명시적으로 지정하는 것을 잊으면 안된다.\n",
    "\n",
    "2. 모형 문자열에서 상수항을 없애지 말고 다시 푼다. 이때 CHAS 변수의 가중치는 무엇을 뜻하는가."
   ]
  },
  {
   "cell_type": "code",
   "execution_count": 40,
   "metadata": {},
   "outputs": [
    {
     "data": {
      "text/plain": [
       "['CRIM',\n",
       " 'ZN',\n",
       " 'INDUS',\n",
       " 'C(CHAS)',\n",
       " 'NOX',\n",
       " 'RM',\n",
       " 'AGE',\n",
       " 'DIS',\n",
       " 'RAD',\n",
       " 'TAX',\n",
       " 'PTRATIO',\n",
       " 'B',\n",
       " 'LSTAT']"
      ]
     },
     "execution_count": 40,
     "metadata": {},
     "output_type": "execute_result"
    }
   ],
   "source": [
    "feature_names = list(boston.feature_names)\n",
    "feature_names[3] = \"C(CHAS)\"\n",
    "feature_names"
   ]
  },
  {
   "cell_type": "code",
   "execution_count": 41,
   "metadata": {},
   "outputs": [
    {
     "name": "stdout",
     "output_type": "stream",
     "text": [
      "                            OLS Regression Results                            \n",
      "==============================================================================\n",
      "Dep. Variable:                   MEDV   R-squared:                       0.741\n",
      "Model:                            OLS   Adj. R-squared:                  0.734\n",
      "Method:                 Least Squares   F-statistic:                     108.1\n",
      "Date:                Tue, 13 Aug 2019   Prob (F-statistic):          6.72e-135\n",
      "Time:                        16:03:27   Log-Likelihood:                -1498.8\n",
      "No. Observations:                 506   AIC:                             3026.\n",
      "Df Residuals:                     492   BIC:                             3085.\n",
      "Df Model:                          13                                         \n",
      "Covariance Type:            nonrobust                                         \n",
      "==================================================================================\n",
      "                     coef    std err          t      P>|t|      [0.025      0.975]\n",
      "----------------------------------------------------------------------------------\n",
      "Intercept         36.4595      5.103      7.144      0.000      26.432      46.487\n",
      "C(CHAS)[T.1.0]     2.6867      0.862      3.118      0.002       0.994       4.380\n",
      "CRIM              -0.1080      0.033     -3.287      0.001      -0.173      -0.043\n",
      "ZN                 0.0464      0.014      3.382      0.001       0.019       0.073\n",
      "INDUS              0.0206      0.061      0.334      0.738      -0.100       0.141\n",
      "NOX              -17.7666      3.820     -4.651      0.000     -25.272     -10.262\n",
      "RM                 3.8099      0.418      9.116      0.000       2.989       4.631\n",
      "AGE                0.0007      0.013      0.052      0.958      -0.025       0.027\n",
      "DIS               -1.4756      0.199     -7.398      0.000      -1.867      -1.084\n",
      "RAD                0.3060      0.066      4.613      0.000       0.176       0.436\n",
      "TAX               -0.0123      0.004     -3.280      0.001      -0.020      -0.005\n",
      "PTRATIO           -0.9527      0.131     -7.283      0.000      -1.210      -0.696\n",
      "B                  0.0093      0.003      3.467      0.001       0.004       0.015\n",
      "LSTAT             -0.5248      0.051    -10.347      0.000      -0.624      -0.425\n",
      "==============================================================================\n",
      "Omnibus:                      178.041   Durbin-Watson:                   1.078\n",
      "Prob(Omnibus):                  0.000   Jarque-Bera (JB):              783.126\n",
      "Skew:                           1.521   Prob(JB):                    8.84e-171\n",
      "Kurtosis:                       8.281   Cond. No.                     1.51e+04\n",
      "==============================================================================\n",
      "\n",
      "Warnings:\n",
      "[1] Standard Errors assume that the covariance matrix of the errors is correctly specified.\n",
      "[2] The condition number is large, 1.51e+04. This might indicate that there are\n",
      "strong multicollinearity or other numerical problems.\n"
     ]
    }
   ],
   "source": [
    "model2 = sm.OLS.from_formula(\"MEDV ~ \" + \"+\".join(feature_names), data=df_boston)\n",
    "result2 = model2.fit()\n",
    "print(result2.summary())"
   ]
  },
  {
   "cell_type": "markdown",
   "metadata": {},
   "source": [
    "## ContrastMatrix\n",
    "\n",
    "사용자가 원하는 특정한 더미변수 값을 지정하고 싶다면 ContrastMatrix 클래스를 사용한다. ContrastMatrix 행렬은 각 클래스가 인코딩될 벡터값 목록을 미리 정의한 행렬이다."
   ]
  },
  {
   "cell_type": "code",
   "execution_count": 42,
   "metadata": {},
   "outputs": [
    {
     "data": {
      "text/html": [
       "<div>\n",
       "<style scoped>\n",
       "    .dataframe tbody tr th:only-of-type {\n",
       "        vertical-align: middle;\n",
       "    }\n",
       "\n",
       "    .dataframe tbody tr th {\n",
       "        vertical-align: top;\n",
       "    }\n",
       "\n",
       "    .dataframe thead th {\n",
       "        text-align: right;\n",
       "    }\n",
       "</style>\n",
       "<table border=\"1\" class=\"dataframe\">\n",
       "  <thead>\n",
       "    <tr style=\"text-align: right;\">\n",
       "      <th></th>\n",
       "      <th>x1</th>\n",
       "    </tr>\n",
       "  </thead>\n",
       "  <tbody>\n",
       "    <tr>\n",
       "      <th>0</th>\n",
       "      <td>A</td>\n",
       "    </tr>\n",
       "    <tr>\n",
       "      <th>1</th>\n",
       "      <td>B</td>\n",
       "    </tr>\n",
       "    <tr>\n",
       "      <th>2</th>\n",
       "      <td>C</td>\n",
       "    </tr>\n",
       "    <tr>\n",
       "      <th>3</th>\n",
       "      <td>A</td>\n",
       "    </tr>\n",
       "    <tr>\n",
       "      <th>4</th>\n",
       "      <td>B</td>\n",
       "    </tr>\n",
       "  </tbody>\n",
       "</table>\n",
       "</div>"
      ],
      "text/plain": [
       "  x1\n",
       "0  A\n",
       "1  B\n",
       "2  C\n",
       "3  A\n",
       "4  B"
      ]
     },
     "execution_count": 42,
     "metadata": {},
     "output_type": "execute_result"
    }
   ],
   "source": [
    "df4 = pd.DataFrame([\"A\", \"B\", \"C\", \"A\", \"B\"], columns=[\"x1\"])\n",
    "df4"
   ]
  },
  {
   "cell_type": "markdown",
   "metadata": {},
   "source": [
    "예를 들어 위 데이터에서 B와 C 카테고리를 하나의 카테고리로 묶어서 인코딩하고 싶다면 다음처럼 코딩한다."
   ]
  },
  {
   "cell_type": "code",
   "execution_count": 44,
   "metadata": {},
   "outputs": [
    {
     "data": {
      "text/plain": [
       "DesignMatrix with shape (5, 2)\n",
       "  C(x1, contrast):A  C(x1, contrast):BC\n",
       "                  1                   0\n",
       "                  0                   1\n",
       "                  0                   1\n",
       "                  1                   0\n",
       "                  0                   1\n",
       "  Terms:\n",
       "    'C(x1, contrast)' (columns 0:2)"
      ]
     },
     "execution_count": 44,
     "metadata": {},
     "output_type": "execute_result"
    }
   ],
   "source": [
    "encoding_vectors = [[1, 0], [0, 1], [0, 1]]\n",
    "label_postfix = [\":A\", \":BC\"]\n",
    "contrast = ContrastMatrix(encoding_vectors, label_postfix)\n",
    "dmatrix(\"C(x1, contrast) + 0\", df4)"
   ]
  },
  {
   "cell_type": "markdown",
   "metadata": {},
   "source": [
    "## 두 개 이상의 범주형 변수가 있는 경우\n",
    "\n",
    "##### 두 개 이상의 범주형 변수가 있는 경우에는 축소형 방식을 사용한다. \n",
    "\n",
    "이 때 주의할 점은 모든 범주형 범수의 가중치는 기준값 상수항에 더해지는 상수항으로 취급된다. 예들 들어  𝑥1 은 A, B 의 두가지 값을 가지고  𝑥2 은 X, Y의 두가지 값을 가지고 값을 가지는 경우 상수항과 각 더미변수의 가중치의 의미는 다음과 같아진다."
   ]
  },
  {
   "cell_type": "markdown",
   "metadata": {},
   "source": [
    "\\begin{aligned}\n",
    "\\hat{y} &= w_0    && + && w_1 x_1                 && + && w_2 x_2                 &+ \\cdots  + w_D x_D \\\\\n",
    "        &         &&   && \\hspace{5pt} \\downarrow &&   && \\hspace{5pt} \\downarrow & \\\\\n",
    "\\hat{y} &= w_{AX} && + && w_{1B} d_{1B}           && + && w_{2Y} d_{2Y}           &+ \\cdots  + w_D x_D \\\\\n",
    "\\end{aligned}"
   ]
  },
  {
   "cell_type": "markdown",
   "metadata": {},
   "source": [
    "+ 𝑤𝐴𝑋 : 기준값  𝑥1=𝐴,𝑥2=𝑋 인 경우의 상수항\n",
    "+ 𝑤1,𝐵 : 기준값  𝑥1=𝐵,𝑥2=𝑋 인 경우에 추가되는 상수항\n",
    "+ 𝑤1,𝑌 : 기준값  𝑥1=𝐴,𝑥2=𝑌 인 경우에 추가되는 상수항\n",
    "+ 𝑤1,𝐵+𝑤1,𝑌 : 기준값  𝑥1=𝐵,𝑥2=𝑌 인 경우에 추가되는 상수항"
   ]
  },
  {
   "cell_type": "code",
   "execution_count": 45,
   "metadata": {},
   "outputs": [
    {
     "data": {
      "text/html": [
       "<div>\n",
       "<style scoped>\n",
       "    .dataframe tbody tr th:only-of-type {\n",
       "        vertical-align: middle;\n",
       "    }\n",
       "\n",
       "    .dataframe tbody tr th {\n",
       "        vertical-align: top;\n",
       "    }\n",
       "\n",
       "    .dataframe thead th {\n",
       "        text-align: right;\n",
       "    }\n",
       "</style>\n",
       "<table border=\"1\" class=\"dataframe\">\n",
       "  <thead>\n",
       "    <tr style=\"text-align: right;\">\n",
       "      <th></th>\n",
       "      <th>x1</th>\n",
       "      <th>x2</th>\n",
       "    </tr>\n",
       "  </thead>\n",
       "  <tbody>\n",
       "    <tr>\n",
       "      <th>0</th>\n",
       "      <td>A</td>\n",
       "      <td>X</td>\n",
       "    </tr>\n",
       "    <tr>\n",
       "      <th>1</th>\n",
       "      <td>B</td>\n",
       "      <td>X</td>\n",
       "    </tr>\n",
       "    <tr>\n",
       "      <th>2</th>\n",
       "      <td>A</td>\n",
       "      <td>Y</td>\n",
       "    </tr>\n",
       "    <tr>\n",
       "      <th>3</th>\n",
       "      <td>B</td>\n",
       "      <td>Y</td>\n",
       "    </tr>\n",
       "  </tbody>\n",
       "</table>\n",
       "</div>"
      ],
      "text/plain": [
       "  x1 x2\n",
       "0  A  X\n",
       "1  B  X\n",
       "2  A  Y\n",
       "3  B  Y"
      ]
     },
     "execution_count": 45,
     "metadata": {},
     "output_type": "execute_result"
    }
   ],
   "source": [
    "df5 = pd.DataFrame([[\"A\", \"X\"], [\"B\", \"X\"], [\"A\", \"Y\"], [\"B\", \"Y\"]], columns=[\"x1\", \"x2\"])\n",
    "df5"
   ]
  },
  {
   "cell_type": "code",
   "execution_count": 46,
   "metadata": {},
   "outputs": [
    {
     "data": {
      "text/plain": [
       "DesignMatrix with shape (4, 3)\n",
       "  Intercept  x1[T.B]  x2[T.Y]\n",
       "          1        0        0\n",
       "          1        1        0\n",
       "          1        0        1\n",
       "          1        1        1\n",
       "  Terms:\n",
       "    'Intercept' (column 0)\n",
       "    'x1' (column 1)\n",
       "    'x2' (column 2)"
      ]
     },
     "execution_count": 46,
     "metadata": {},
     "output_type": "execute_result"
    }
   ],
   "source": [
    "dmatrix(\"x1 + x2\", df5)"
   ]
  },
  {
   "cell_type": "markdown",
   "metadata": {},
   "source": [
    "[그림] 두개의 범주형 독립변수가 있는 경우 : https://datascienceschool.net/upfiles/69c177d3e0434a8b8c0790c657f10993.png"
   ]
  },
  {
   "cell_type": "markdown",
   "metadata": {},
   "source": [
    "## 범주형 독립변수와 실수 독립변수의 상호작용\n",
    "\n",
    "만약 범주형 변수의 값이 달라질 때 상수항만 달라지는 것이 아니라 다른 독립변수들이 미치는 영향도 달라지는 모형을 원한다면 상호작용(interaction)을 쓰면 된다. 예를 들어 범주형 독립변수  𝑥1 과 실수 독립변수  𝑥2 를 가지는 회귀모형에서 연속값 독립변수  𝑥2 가 미치는 영향 즉 가중치가 범주형 독립변수  𝑥1 의 값에 따라 달라진다면 범주형 독립변수를 더미변수  𝑑1 으로 인코딩하고 연속값 독립변수  𝑥2 는  𝑑1 과의 상호작용 항 d_1:x_2 를 추가하여 사용한다.\n",
    "\n",
    "이 때 모형은 다음과 같아진다.\n",
    "\n",
    "\\begin{aligned}\n",
    "\\hat{y} \n",
    "&= w_0 + w_{1} x_1 \\cdot w_2 x_2 \\\\\n",
    "&= w_0 + (w_{1A}d_A + w_{1B}d_B) \\cdot (w_2x_2) \\\\\n",
    "&= w_0 + w_{2A} d_A x_2 + w_{2B} d_B  x_2 \\\\\n",
    "\\end{aligned}"
   ]
  },
  {
   "cell_type": "markdown",
   "metadata": {},
   "source": [
    "𝑥1=𝐴 일 때는  𝑑𝐴=1,𝑑𝐵=0 에서\n",
    "\n",
    "$$\\hat{y} = w_0 + w_{2A}x_2$$\n",
    "\n",
    "𝑥1=𝐵 일 때는  𝑑𝐴=0,𝑑𝐵=1 에서\n",
    "\n",
    "$$\\hat{y} = w_0 + w_{2B}x_2$$\n",
    "\n",
    "이므로  𝑥1  범주값에 따라  𝑥2 의 기울기가 달라지는 모형이 된다."
   ]
  },
  {
   "cell_type": "code",
   "execution_count": 47,
   "metadata": {},
   "outputs": [
    {
     "data": {
      "text/html": [
       "<div>\n",
       "<style scoped>\n",
       "    .dataframe tbody tr th:only-of-type {\n",
       "        vertical-align: middle;\n",
       "    }\n",
       "\n",
       "    .dataframe tbody tr th {\n",
       "        vertical-align: top;\n",
       "    }\n",
       "\n",
       "    .dataframe thead th {\n",
       "        text-align: right;\n",
       "    }\n",
       "</style>\n",
       "<table border=\"1\" class=\"dataframe\">\n",
       "  <thead>\n",
       "    <tr style=\"text-align: right;\">\n",
       "      <th></th>\n",
       "      <th>x1</th>\n",
       "      <th>x2</th>\n",
       "    </tr>\n",
       "  </thead>\n",
       "  <tbody>\n",
       "    <tr>\n",
       "      <th>0</th>\n",
       "      <td>A</td>\n",
       "      <td>1</td>\n",
       "    </tr>\n",
       "    <tr>\n",
       "      <th>1</th>\n",
       "      <td>B</td>\n",
       "      <td>2</td>\n",
       "    </tr>\n",
       "    <tr>\n",
       "      <th>2</th>\n",
       "      <td>A</td>\n",
       "      <td>4</td>\n",
       "    </tr>\n",
       "    <tr>\n",
       "      <th>3</th>\n",
       "      <td>B</td>\n",
       "      <td>5</td>\n",
       "    </tr>\n",
       "  </tbody>\n",
       "</table>\n",
       "</div>"
      ],
      "text/plain": [
       "  x1  x2\n",
       "0  A   1\n",
       "1  B   2\n",
       "2  A   4\n",
       "3  B   5"
      ]
     },
     "execution_count": 47,
     "metadata": {},
     "output_type": "execute_result"
    }
   ],
   "source": [
    "df6 = pd.DataFrame([[\"A\", 1], [\"B\", 2], [\"A\", 4], [\"B\", 5]], columns=[\"x1\", \"x2\"])\n",
    "df6"
   ]
  },
  {
   "cell_type": "code",
   "execution_count": 48,
   "metadata": {},
   "outputs": [
    {
     "data": {
      "text/plain": [
       "DesignMatrix with shape (4, 3)\n",
       "  Intercept  C(x1)[A]:x2  C(x1)[B]:x2\n",
       "          1            1            0\n",
       "          1            0            2\n",
       "          1            4            0\n",
       "          1            0            5\n",
       "  Terms:\n",
       "    'Intercept' (column 0)\n",
       "    'C(x1):x2' (columns 1:3)"
      ]
     },
     "execution_count": 48,
     "metadata": {},
     "output_type": "execute_result"
    }
   ],
   "source": [
    "dmatrix(\"C(x1):x2\", df6)"
   ]
  },
  {
   "cell_type": "markdown",
   "metadata": {},
   "source": [
    "[그림] 범주형 독립변수와 실수독립변수의 상호작용이 있는 경우 : https://datascienceschool.net/upfiles/2ff6692d3de949db9a37f0765b6baaab.png"
   ]
  },
  {
   "cell_type": "markdown",
   "metadata": {},
   "source": [
    "만약 범주형 독립변수도 종속변수에 영향을 미치고 범주형 독립변수와 실수 독립변수의 상호작용도 종속변수에 영향을 미친다면 모형은 다음과 같아진다."
   ]
  },
  {
   "cell_type": "markdown",
   "metadata": {},
   "source": [
    "\\begin{aligned}\n",
    "\\hat{y} \n",
    "&= w_{1} x_1 + w_{12} x_1 \\cdot w_2 x_2 \\\\\n",
    "&= (w_{1A}d_A + w_{1B}d_B) + (w_{1A}d_A + w_{1B}d_B)\\cdot (w_2x_2) \\\\\n",
    "&= (w_{1A}d_A + w_{1B}d_B) + (w_{2A}d_A + w_{2B}d_B)x_2 \\\\\n",
    "&= (w_{1A} + w_{2A} x_2)d_A + (w_{2B} + w_{2B}x_2)d_B \\\\\n",
    "\\end{aligned}"
   ]
  },
  {
   "cell_type": "markdown",
   "metadata": {},
   "source": [
    "𝑥1=𝐴 일 때는  𝑑𝐴=1,𝑑𝐵=0 에서\n",
    "\n",
    "$$\\hat{y} =w_{1A} + w_{2A}x_2$$\n",
    "\n",
    "𝑥1=𝐵 일 때는  𝑑𝐴=0,𝑑𝐵=1 에서\n",
    "\n",
    "$$\\hat{y} = w_{1B} + w_{2B}x_2$$\n",
    "\n",
    "이므로  𝑥1  범주값에 따라 상수항과  𝑥2 의 기울기가 모두 달라지는 모형이 된다."
   ]
  },
  {
   "cell_type": "code",
   "execution_count": 51,
   "metadata": {},
   "outputs": [
    {
     "data": {
      "text/plain": [
       "DesignMatrix with shape (4, 4)\n",
       "  Intercept  C(x1)[T.B]  C(x1)[A]:x2  C(x1)[B]:x2\n",
       "          1           0            1            0\n",
       "          1           1            0            2\n",
       "          1           0            4            0\n",
       "          1           1            0            5\n",
       "  Terms:\n",
       "    'Intercept' (column 0)\n",
       "    'C(x1)' (column 1)\n",
       "    'C(x1):x2' (columns 2:4)"
      ]
     },
     "execution_count": 51,
     "metadata": {},
     "output_type": "execute_result"
    }
   ],
   "source": [
    "dmatrix(\"C(x1) + C(x1):x2\", df6)"
   ]
  },
  {
   "cell_type": "markdown",
   "metadata": {},
   "source": [
    "[그림] 범주형 독립변수, 범주형 독립변수와 실수 독립변수의 상호작용 모두 있는 경우 : https://datascienceschool.net/upfiles/f093b73d4e964688aab5d86cd54e932f.png"
   ]
  },
  {
   "cell_type": "code",
   "execution_count": 52,
   "metadata": {},
   "outputs": [
    {
     "data": {
      "text/plain": [
       "DesignMatrix with shape (4, 4)\n",
       "  Intercept  C(x1)[T.B]  x2  C(x1)[T.B]:x2\n",
       "          1           0   1              0\n",
       "          1           1   2              2\n",
       "          1           0   4              0\n",
       "          1           1   5              5\n",
       "  Terms:\n",
       "    'Intercept' (column 0)\n",
       "    'C(x1)' (column 1)\n",
       "    'x2' (column 2)\n",
       "    'C(x1):x2' (column 3)"
      ]
     },
     "execution_count": 52,
     "metadata": {},
     "output_type": "execute_result"
    }
   ],
   "source": [
    "dmatrix(\"C(x1)*x2\", df6)"
   ]
  },
  {
   "cell_type": "markdown",
   "metadata": {},
   "source": [
    "## 범주형 독립변수의 상호작용\n",
    "\n",
    "두 개의 범주형 독립변수가 있고 서로 상호작용이 존재한다면 다음과 같은 모형이 된다.\n",
    "\n",
    "\\begin{aligned}\n",
    "\\hat{y} \n",
    "&= w_1 x_1 \\cdot w_2 x_2 \\\\\n",
    "&= (w_{1A}d_A + w_{1B}d_B) \\cdot (w_{2X}d_X + w_{2Y}d_Y) \\\\\n",
    "&= w_{AX}d_Ad_Y + w_{BX}d_Bd_X + w_{AY}d_Ad_Y + w_{BY}d_Bd_Y \\\\\n",
    "\\end{aligned}\n",
    "\n",
    "즉 범주형 독립변수는 하나가 되고 대신 범주형 값이 두 독립변수의 범주형 값들의 조합인  𝐴𝑋,𝐵𝑋,𝐴𝑌,𝐵𝑌 의 네가지가 된다."
   ]
  },
  {
   "cell_type": "code",
   "execution_count": 53,
   "metadata": {},
   "outputs": [
    {
     "data": {
      "text/html": [
       "<div>\n",
       "<style scoped>\n",
       "    .dataframe tbody tr th:only-of-type {\n",
       "        vertical-align: middle;\n",
       "    }\n",
       "\n",
       "    .dataframe tbody tr th {\n",
       "        vertical-align: top;\n",
       "    }\n",
       "\n",
       "    .dataframe thead th {\n",
       "        text-align: right;\n",
       "    }\n",
       "</style>\n",
       "<table border=\"1\" class=\"dataframe\">\n",
       "  <thead>\n",
       "    <tr style=\"text-align: right;\">\n",
       "      <th></th>\n",
       "      <th>x1</th>\n",
       "      <th>x2</th>\n",
       "    </tr>\n",
       "  </thead>\n",
       "  <tbody>\n",
       "    <tr>\n",
       "      <th>0</th>\n",
       "      <td>A</td>\n",
       "      <td>X</td>\n",
       "    </tr>\n",
       "    <tr>\n",
       "      <th>1</th>\n",
       "      <td>B</td>\n",
       "      <td>X</td>\n",
       "    </tr>\n",
       "    <tr>\n",
       "      <th>2</th>\n",
       "      <td>A</td>\n",
       "      <td>Y</td>\n",
       "    </tr>\n",
       "    <tr>\n",
       "      <th>3</th>\n",
       "      <td>B</td>\n",
       "      <td>Y</td>\n",
       "    </tr>\n",
       "  </tbody>\n",
       "</table>\n",
       "</div>"
      ],
      "text/plain": [
       "  x1 x2\n",
       "0  A  X\n",
       "1  B  X\n",
       "2  A  Y\n",
       "3  B  Y"
      ]
     },
     "execution_count": 53,
     "metadata": {},
     "output_type": "execute_result"
    }
   ],
   "source": [
    "df5"
   ]
  },
  {
   "cell_type": "code",
   "execution_count": 54,
   "metadata": {},
   "outputs": [
    {
     "data": {
      "text/plain": [
       "DesignMatrix with shape (4, 4)\n",
       "  x1[A]:x2[X]  x1[B]:x2[X]  x1[A]:x2[Y]  x1[B]:x2[Y]\n",
       "            1            0            0            0\n",
       "            0            1            0            0\n",
       "            0            0            1            0\n",
       "            0            0            0            1\n",
       "  Terms:\n",
       "    'x1:x2' (columns 0:4)"
      ]
     },
     "execution_count": 54,
     "metadata": {},
     "output_type": "execute_result"
    }
   ],
   "source": [
    "dmatrix(\"x1:x2 + 0\", df5)"
   ]
  },
  {
   "cell_type": "markdown",
   "metadata": {},
   "source": [
    "위 모형은 풀랭크 모형이고 축소랭크의 경우는 다음과 같다."
   ]
  },
  {
   "cell_type": "code",
   "execution_count": 55,
   "metadata": {},
   "outputs": [
    {
     "data": {
      "text/plain": [
       "DesignMatrix with shape (4, 4)\n",
       "  Intercept  x2[T.Y]  x1[T.B]:x2[X]  x1[T.B]:x2[Y]\n",
       "          1        0              0              0\n",
       "          1        0              1              0\n",
       "          1        1              0              0\n",
       "          1        1              0              1\n",
       "  Terms:\n",
       "    'Intercept' (column 0)\n",
       "    'x1:x2' (columns 1:4)"
      ]
     },
     "execution_count": 55,
     "metadata": {},
     "output_type": "execute_result"
    }
   ],
   "source": [
    "dmatrix(\"x1:x2\", df5)"
   ]
  },
  {
   "cell_type": "code",
   "execution_count": null,
   "metadata": {},
   "outputs": [],
   "source": []
  }
 ],
 "metadata": {
  "kernelspec": {
   "display_name": "Python 3",
   "language": "python",
   "name": "python3"
  },
  "language_info": {
   "codemirror_mode": {
    "name": "ipython",
    "version": 3
   },
   "file_extension": ".py",
   "mimetype": "text/x-python",
   "name": "python",
   "nbconvert_exporter": "python",
   "pygments_lexer": "ipython3",
   "version": "3.7.3"
  }
 },
 "nbformat": 4,
 "nbformat_minor": 2
}
