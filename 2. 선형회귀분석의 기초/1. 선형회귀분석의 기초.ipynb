{
 "cells": [
  {
   "cell_type": "markdown",
   "metadata": {},
   "source": [
    "회귀분석(regression analysis)은  𝐷 차원 벡터 독립 변수  𝑥 와 이에 대응하는 스칼라 종속 변수  𝑦 간의 관계를 정량적으로 찾아내는 작업이다.\n",
    "\n",
    "###### 회귀분석에는 결정론적 모형(deterministic Model)과 확률적 모형(probabilistic Model)이 있다. \n",
    "\n",
    "###### 우선 결정론적 모형부터 설명한다. \n",
    "\n",
    "결정론적 회귀분석 모형은 독립 변수  𝑥 에 대해 대응하는 종속 변수  𝑦 와 가장 비슷한 값  𝑦̂  를 출력하는 함수  𝑓(𝑥) 를 찾는 과정이다.\n",
    "\n",
    "$$\\hat{y} = f \\left( x \\right) \\approx y$$"
   ]
  },
  {
   "cell_type": "markdown",
   "metadata": {},
   "source": [
    "만약 독립 변수  𝑥 와 이에 대응하는 종속 변수  𝑦 간의 관계가 다음과 같은 선형 함수  𝑓(𝑥) 이면 선형 회귀분석(linear regression analysis)이라고 한다.\n",
    "\n",
    "$$\\hat{y} = w_0 + w_1 x_1 + w_2 x_2 + \\cdots + w_D x_D = w_0 + w^Tx$$"
   ]
  },
  {
   "cell_type": "markdown",
   "metadata": {},
   "source": [
    "위 식에서  𝑤0,⋯,𝑤𝐷 를 함수  𝑓(𝑥) 의 계수(coefficient)이자 이 선형 회귀모형의 모수(parameter)라고 한다."
   ]
  },
  {
   "cell_type": "markdown",
   "metadata": {},
   "source": [
    "## 상수항 결합\n",
    "\n",
    "상수항이 0이 아닌 회귀분석모형인 경우에는 수식을 간단하게 만들기 위해 다음과 같이 상수항을 독립변수에 추가한다. 이를 상수항 결합(bias augmentation)작업이라고 한다."
   ]
  },
  {
   "cell_type": "markdown",
   "metadata": {},
   "source": [
    "$$x_i =\n",
    "\\begin{bmatrix}\n",
    "x_{i1} \\\\ x_{i2} \\\\ \\vdots \\\\ x_{iD}\n",
    "\\end{bmatrix}\n",
    "\\rightarrow \n",
    "x_{i,a} =\n",
    "\\begin{bmatrix}\n",
    "1 \\\\ x_{i1} \\\\ x_{i2} \\\\ \\vdots \\\\ x_{iD}\n",
    "\\end{bmatrix}$$\n",
    "\n",
    "상수항 결합을 하게 되면 모든 원소가 1인 벡터가 입력 데이터 행렬에 추가된다.\n",
    "\n",
    "$$X =\n",
    "\\begin{bmatrix}\n",
    "x_{11} & x_{12} & \\cdots & x_{1D} \\\\\n",
    "x_{21} & x_{22} & \\cdots & x_{2D} \\\\\n",
    "\\vdots & \\vdots & \\vdots & \\vdots \\\\\n",
    "x_{N1} & x_{N2} & \\cdots & x_{ND} \\\\\n",
    "\\end{bmatrix}\n",
    "\\rightarrow \n",
    "X_a =\n",
    "\\begin{bmatrix}\n",
    "1 & x_{11} & x_{12} & \\cdots & x_{1D} \\\\\n",
    "1 & x_{21} & x_{22} & \\cdots & x_{2D} \\\\\n",
    "\\vdots & \\vdots & \\vdots & \\vdots & \\vdots \\\\\n",
    "1 & x_{N1} & x_{N2} & \\cdots & x_{ND} \\\\\n",
    "\\end{bmatrix}$$"
   ]
  },
  {
   "cell_type": "markdown",
   "metadata": {},
   "source": [
    "이렇게 되면 전체 수식이 다음과 같이 상수항이 추가된 가중치 벡터  𝑤 와 상수항이 추가된 입력 데이터 벡터  𝑥 의 내적으로 간단히 표시된다.\n",
    "\n",
    "$$f(x) = w_0 + w_1 x_1 + w_2 x_2 + \\cdots + w_D x_D\n",
    "= \n",
    "\\begin{bmatrix}\n",
    "1 & x_1 & x_2 & \\cdots & x_D\n",
    "\\end{bmatrix}\n",
    "\\begin{bmatrix}\n",
    "w_0 \\\\ w_1 \\\\ w_2 \\\\ \\vdots \\\\ w_D\n",
    "\\end{bmatrix}\n",
    "= x_a^T w_a = w_a^T x_a$$"
   ]
  },
  {
   "cell_type": "markdown",
   "metadata": {},
   "source": [
    "상수항이 0이 아닌 경우에는 항상 상수항 결합을 하기 때문에 특별히 벡터 기호를  𝑥𝑎  또는  𝑤𝑎 라고 표시하지 않아도 상수항 결합이 되어 있는 경우가 많다.\n",
    "\n",
    "다음은 상수항 결합을 하는 코드 예제이다."
   ]
  },
  {
   "cell_type": "code",
   "execution_count": 1,
   "metadata": {},
   "outputs": [],
   "source": [
    "import matplotlib.pylab as plt\n",
    "import matplotlib as mpl\n",
    "import matplotlib.font_manager as fm\n",
    "import seaborn as sns\n",
    "import numpy as np\n",
    "\n",
    "sns.set_style(\"whitegrid\")\n",
    "mpl.rcParams['axes.unicode_minus'] = False\n",
    "plt.rcParams['font.size'] = 12\n",
    "\n",
    "path = \"/Library/Fonts/NanumGothic.otf\"\n",
    "font_name = fm.FontProperties(fname=path, size=20).get_name()\n",
    "\n",
    "plt.rc('font', family=font_name)"
   ]
  },
  {
   "cell_type": "code",
   "execution_count": 2,
   "metadata": {},
   "outputs": [],
   "source": [
    "from sklearn.datasets import make_regression\n",
    "\n",
    "X0, y, coef = make_regression(n_samples=100, n_features=2, bias=100, noise=10, coef=True, random_state=1)"
   ]
  },
  {
   "cell_type": "code",
   "execution_count": 4,
   "metadata": {},
   "outputs": [
    {
     "data": {
      "text/plain": [
       "array([[ 0.0465673 ,  0.80186103],\n",
       "       [-2.02220122,  0.31563495],\n",
       "       [-0.38405435, -0.3224172 ],\n",
       "       [-1.31228341,  0.35054598],\n",
       "       [-0.88762896, -0.19183555]])"
      ]
     },
     "execution_count": 4,
     "metadata": {},
     "output_type": "execute_result"
    }
   ],
   "source": [
    "# 원래 데이터\n",
    "X0[:5]"
   ]
  },
  {
   "cell_type": "code",
   "execution_count": 5,
   "metadata": {},
   "outputs": [
    {
     "data": {
      "text/plain": [
       "array([[ 1.        ,  0.0465673 ,  0.80186103],\n",
       "       [ 1.        , -2.02220122,  0.31563495],\n",
       "       [ 1.        , -0.38405435, -0.3224172 ],\n",
       "       [ 1.        , -1.31228341,  0.35054598],\n",
       "       [ 1.        , -0.88762896, -0.19183555]])"
      ]
     },
     "execution_count": 5,
     "metadata": {},
     "output_type": "execute_result"
    }
   ],
   "source": [
    "# 상수항 결합\n",
    "X = np.hstack([np.ones((X0.shape[0], 1)), X0])\n",
    "X[:5]"
   ]
  },
  {
   "cell_type": "markdown",
   "metadata": {},
   "source": [
    "statsmodels에는상수항 결합을 위한 add_constant 함수가 제공된다."
   ]
  },
  {
   "cell_type": "code",
   "execution_count": 7,
   "metadata": {},
   "outputs": [
    {
     "data": {
      "text/plain": [
       "array([[ 1.        ,  0.0465673 ,  0.80186103],\n",
       "       [ 1.        , -2.02220122,  0.31563495],\n",
       "       [ 1.        , -0.38405435, -0.3224172 ],\n",
       "       [ 1.        , -1.31228341,  0.35054598],\n",
       "       [ 1.        , -0.88762896, -0.19183555]])"
      ]
     },
     "execution_count": 7,
     "metadata": {},
     "output_type": "execute_result"
    }
   ],
   "source": [
    "import statsmodels.api as sm\n",
    "\n",
    "X = sm.add_constant(X0)\n",
    "X[:5]"
   ]
  },
  {
   "cell_type": "markdown",
   "metadata": {},
   "source": [
    "## OLS\n",
    "\n",
    "###### OLS(Ordinary Least Squares)는 가장 기본적인 결정론적 선형 회귀 방법으로 \n",
    "\n",
    "##### 잔차제곱합(RSS: Residual Sum of Squares)을 최소화하는 가중치 벡터를 행렬 미분으로 구하는 방법이다.\n",
    "\n",
    "우리가 사용하는 예측 모형은 다음과 같이 상수항이 결합된 선형 모형이다.\n",
    "\n",
    "$$\\hat{y} = Xw$$\n",
    "\n",
    "이때 잔차 벡터(residual vector)  𝑒 는\n",
    "\n",
    "$$e = {y} - \\hat{y} = y - Xw$$\n",
    "\n",
    "이고 잔차 제곱합(RSS:residual sum of squares)은\n",
    "\n",
    "\\begin{eqnarray}\n",
    "\\text{RSS}\n",
    "&=&  e^Te \\\\\n",
    "&=& (y - Xw)^T(y - Xw) \\\\\n",
    "&=& y^Ty - 2y^T X w + w^TX^TXw  \n",
    "\\end{eqnarray}\n",
    "\n",
    "이다. 잔차의 크기 즉, 잔차 제곱합을 가장 작게 하는 가중치 벡터를 구하기 위해 잔차 제곱합의 그레디언트(gradient) 벡터를 구하면 다음과 같다.\n",
    "\n",
    "$$\\dfrac{d \\text{RSS}}{d w} = -2 X^T y + 2 X^TX w$$\n",
    "\n",
    "잔차가 최소가 되는 최적화 조건은 그레디언트 벡터가 0벡터이어야 하므로 다음 식이 성립한다.\n",
    "\n",
    "$$\\dfrac{d \\text{RSS}}{d w}  = 0$$\n",
    "\n",
    "$$X^TX w^{\\ast} = X^T y$$"
   ]
  },
  {
   "cell_type": "markdown",
   "metadata": {},
   "source": [
    "만약  𝑋𝑇𝑋  행렬의 역행렬이 존재한다면 다음과 같이 최적 가중치 벡터  𝑤∗ 를 구할 수 있다.\n",
    "\n",
    "$$w^{\\ast} = (X^TX)^{-1} X^T y$$"
   ]
  },
  {
   "cell_type": "markdown",
   "metadata": {},
   "source": [
    "𝑋𝑇𝑋  행렬의 역행렬이 존재하고 위에서 구한 값이 최저값이 되려면  𝑋𝑇𝑋 가 양의 정부호(positive definite) 행렬이어야 한다. 만약  𝑋 가 풀랭크가 아니면 즉,  𝑋 의 각 행렬이 서로 독립이 아니면  𝑋𝑇𝑋 가 양의 정부호가 아니고 역행렬이 존재하지 않으므로 위와 같은 해를 구할 수 없다."
   ]
  },
  {
   "cell_type": "markdown",
   "metadata": {},
   "source": [
    "## 직교 방정식\n",
    "\n",
    "여기에서 그레디언트가 0벡터가 되는 관계를 나타내는 다음 식을 직교 방정식(normal equation)이라고 한다.\n",
    "\n",
    "$$X^T y - X^TX w = 0$$\n",
    "\n",
    "직교 방정식을 인수 분해하면\n",
    "\n",
    "$$X^T (y - X w ) = 0$$\n",
    "\n",
    "$$X^T e = 0$$"
   ]
  },
  {
   "cell_type": "markdown",
   "metadata": {},
   "source": [
    "즉,  𝑐𝑑 가 모든 데이터의  𝑑 번째 차원의 원소로 이루어진 데이터 벡터(특징 행렬의 열벡터)라고 할 때 모든 차원  𝑑(𝑑=0,…,𝐷) 에 대해  𝑐𝑑 는 잔차 벡터  𝑒 와 수직을 이룬다."
   ]
  },
  {
   "cell_type": "markdown",
   "metadata": {},
   "source": [
    "$$c_d^T e = 0 \\;\\;\\; (d=0, \\ldots, D)$$\n",
    "\n",
    "또는\n",
    "\n",
    "$$c_d \\perp e \\;\\;\\; (d=0, \\ldots, D)$$"
   ]
  },
  {
   "cell_type": "markdown",
   "metadata": {},
   "source": [
    "직교 방정식으로부터 다음과 같은 성질을 알 수 있다.\n",
    "\n",
    "(1) 모형에 상수항이 있는 경우에 잔차 벡터의 원소의 합은 0이다. 즉, 잔차의 평균은 0이다.\n",
    "\n",
    "$$\\sum_{i=0}^N e_i = 0$$\n",
    "\n",
    "(2)  𝑥  데이터의 평균값  𝑥¯ 에 대한 예측값은  𝑦  데이터의 평균값  𝑦¯ 이다.\n",
    "\n",
    "$$\\bar{y} = w^T \\bar{x}$$\n",
    "\n",
    "1번 성질은 상수항 결합이 되어 있으면  𝑋 의 첫번째 열이 1-벡터라는 것을 이용하여 증명할 수 있다.\n",
    "\n",
    "$$c_0^T e = \\mathbf{1}^T e = \\sum_{i=0}^N e_i = 0$$"
   ]
  },
  {
   "cell_type": "markdown",
   "metadata": {},
   "source": [
    "2번 성질은 다음처럼 증명한다.\n",
    "\n",
    "\\begin{eqnarray}\n",
    "\\bar{y} \n",
    "&=& \\dfrac{1}{N}\\mathbf{1}^T y \\\\\n",
    "&=& \\dfrac{1}{N}\\mathbf{1}^T (Xw + e) \\\\\n",
    "&=& \\dfrac{1}{N}\\mathbf{1}^TXw + \\dfrac{1}{N}\\mathbf{1}^Te \\\\\n",
    "&=& \\dfrac{1}{N}\\mathbf{1}^TXw \\\\\n",
    "&=& \\dfrac{1}{N}\\mathbf{1}^T \\begin{bmatrix}c_1 & \\cdots & c_M \\end{bmatrix} w \\\\\n",
    "&=& \\begin{bmatrix}\\dfrac{1}{N}\\mathbf{1}^Tc_1 & \\cdots & \\dfrac{1}{N}\\mathbf{1}^Tc_D \\end{bmatrix} w \\\\\n",
    "&=& \\begin{bmatrix}\\bar{c}_1 & \\cdots & \\bar{c}_D \\end{bmatrix} w \\\\\n",
    "&=& \\bar{x}^T w \\\\\n",
    "\\end{eqnarray}"
   ]
  },
  {
   "cell_type": "markdown",
   "metadata": {},
   "source": [
    "## NumPy를 이용한 선형 회귀분석\n",
    "\n",
    "이제 NumPy의 선형대수 기능을 사용하여 OLS 방법으로 선형 회귀분석을 해보자. 우선 make_regression 명령을 사용하여 다음과 같이 1차원 특징 데이터 x와 이 값에 의존하는 y를 만든다."
   ]
  },
  {
   "cell_type": "code",
   "execution_count": 8,
   "metadata": {},
   "outputs": [
    {
     "data": {
      "text/plain": [
       "(200,)"
      ]
     },
     "execution_count": 8,
     "metadata": {},
     "output_type": "execute_result"
    }
   ],
   "source": [
    "from sklearn.datasets import make_regression\n",
    "\n",
    "bias = 100\n",
    "X0, y, w = make_regression(n_samples=200, n_features=1, bias=bias, noise=10, coef=True, random_state=1)\n",
    "\n",
    "X = sm.add_constant(X0)\n",
    "y.shape"
   ]
  },
  {
   "cell_type": "code",
   "execution_count": 9,
   "metadata": {},
   "outputs": [
    {
     "data": {
      "text/plain": [
       "(200, 1)"
      ]
     },
     "execution_count": 9,
     "metadata": {},
     "output_type": "execute_result"
    }
   ],
   "source": [
    "y = y.reshape(len(y), 1)\n",
    "y.shape"
   ]
  },
  {
   "cell_type": "code",
   "execution_count": 10,
   "metadata": {},
   "outputs": [
    {
     "data": {
      "text/plain": [
       "array([[127.87901739],\n",
       "       [ 93.03291422],\n",
       "       [161.8575084 ],\n",
       "       [141.69205026],\n",
       "       [283.26011945]])"
      ]
     },
     "execution_count": 10,
     "metadata": {},
     "output_type": "execute_result"
    }
   ],
   "source": [
    "y[:5]"
   ]
  },
  {
   "cell_type": "markdown",
   "metadata": {},
   "source": [
    "우리가 준 bias 값은 100이고 make_regression 명령이 생성한 모수 값은 다음과 같다."
   ]
  },
  {
   "cell_type": "code",
   "execution_count": 11,
   "metadata": {},
   "outputs": [
    {
     "data": {
      "text/plain": [
       "array(86.44794301)"
      ]
     },
     "execution_count": 11,
     "metadata": {},
     "output_type": "execute_result"
    }
   ],
   "source": [
    "w"
   ]
  },
  {
   "cell_type": "markdown",
   "metadata": {},
   "source": [
    "따라서 x와 y는 다음과 같은 관계를 가진다.\n",
    "\n",
    "$$y = 100 + 86.44794301 x + \\epsilon$$"
   ]
  },
  {
   "cell_type": "markdown",
   "metadata": {},
   "source": [
    "위에서 구한 수식을 이용하여 선형회귀 계수를 추정하면 다음과 같다."
   ]
  },
  {
   "cell_type": "code",
   "execution_count": 12,
   "metadata": {},
   "outputs": [
    {
     "data": {
      "text/plain": [
       "array([[99.79150869],\n",
       "       [86.96171201]])"
      ]
     },
     "execution_count": 12,
     "metadata": {},
     "output_type": "execute_result"
    }
   ],
   "source": [
    "# OLS 해를 직접 이용하는 방법\n",
    "w = np.linalg.inv(X.T @ X) @ X.T @ y  # np.linalg.inv 역행렬 구하기, 𝑋𝑇𝑋𝑤=𝑋𝑇𝑦\n",
    "w"
   ]
  },
  {
   "cell_type": "markdown",
   "metadata": {},
   "source": [
    "따라서 x와 y는 다음과 같은 관계를 가진다.\n",
    "\n",
    "$$\\hat{y} = 99.79150869 + 86.96171201 x$$"
   ]
  },
  {
   "cell_type": "markdown",
   "metadata": {},
   "source": [
    "이 결과에서 알 수 있는 것은 선형 회귀를 통해 구한 결과는 실제(자연 법칙)와 비슷하지만 정확하지는 않다는 점이다."
   ]
  },
  {
   "cell_type": "code",
   "execution_count": 18,
   "metadata": {},
   "outputs": [
    {
     "data": {
      "text/plain": [
       "array([[99.79150869],\n",
       "       [86.96171201]])"
      ]
     },
     "execution_count": 18,
     "metadata": {},
     "output_type": "execute_result"
    }
   ],
   "source": [
    "# lstsq 명령을 이용하는 방법\n",
    "w = np.linalg.lstsq(X, y, rcond=None)[0]  \n",
    "w"
   ]
  },
  {
   "cell_type": "markdown",
   "metadata": {},
   "source": [
    "lstsq 명령은 행렬  𝐴 와  𝑏 를 모두 인수로 받고 뒤에서 설명할 최소자승문제(least square problem)의 답 x, 잔차제곱합(residual sum of squares) resid, 랭크(rank) rank, 특잇값(singular value) s를 반환한다.  lstsq 명령으로 구한 답이 inv 명령으로 구한 답과 같음\n",
    "\n",
    "참고: np.linalg.lstsq https://datascienceschool.net/view-notebook/927d7f7972dd434ead9d294169ae7f34/"
   ]
  },
  {
   "cell_type": "code",
   "execution_count": null,
   "metadata": {},
   "outputs": [],
   "source": []
  },
  {
   "cell_type": "markdown",
   "metadata": {},
   "source": [
    "다음 코드는 여러가지 새로운  𝑥 값에 대해  𝑦̂  을 구해본 결과를 원래 데이터와 비교한 것이다."
   ]
  },
  {
   "cell_type": "code",
   "execution_count": 20,
   "metadata": {},
   "outputs": [
    {
     "data": {
      "text/plain": [
       "(array([[ 0.23249456],\n",
       "        [-0.03869551],\n",
       "        [ 0.5505375 ],\n",
       "        [ 0.50318481],\n",
       "        [ 2.18697965]]), array([[ 1.        , -2.43483776],\n",
       "        [ 1.        , -2.3847048 ],\n",
       "        [ 1.        , -2.33457184],\n",
       "        [ 1.        , -2.28443887],\n",
       "        [ 1.        , -2.23430591]]))"
      ]
     },
     "execution_count": 20,
     "metadata": {},
     "output_type": "execute_result"
    }
   ],
   "source": [
    "x_new = np.linspace(np.min(X0), np.max(X0), 100)\n",
    "X_new = sm.add_constant(x_new)\n",
    "X0[:5], X_new[:5]"
   ]
  },
  {
   "cell_type": "code",
   "execution_count": 22,
   "metadata": {},
   "outputs": [
    {
     "data": {
      "image/png": "[encoded data removed]",
      "text/plain": [
       "<Figure size 432x288 with 1 Axes>"
      ]
     },
     "metadata": {},
     "output_type": "display_data"
    }
   ],
   "source": [
    "y_new = np.dot(X_new, w)\n",
    "\n",
    "plt.scatter(X0, y, label=\"data\")\n",
    "plt.plot(x_new, y_new, 'r-', label=\"회귀분석결과\")\n",
    "plt.xlabel(\"x\")\n",
    "plt.ylabel(\"y\")\n",
    "plt.title(\"선형회귀분석의 예\")\n",
    "plt.legend()\n",
    "plt.show()"
   ]
  },
  {
   "cell_type": "markdown",
   "metadata": {},
   "source": [
    "## scikit-learn 패키지를 사용한 선형 회귀분석\n",
    "\n",
    "scikit-learn 패키지를 사용하여 선형 회귀분석을 하는 경우에는 linear_model 서브 패키지의 LinearRegression 클래스를 사용한다. 사용법은 다음과 같다.\n",
    "\n",
    "(1) LinearRegression 클래스 객체 생성\n",
    "\n",
    "   + model = LinearRegression(fit_intercept=True)\n",
    "\n",
    "       + fit_intercept 인수는 모형에 상수항이 있는가 없는가를 결정하는 인수이다. \n",
    "       + 디폴트 값이 True이고 만약 상수항이 없으면 fit_intercept=False로 설정한다.\n",
    "    \n",
    "\n",
    "(2) fit 메서드로 모형 추정. 상수항 결합을 자동으로 해주므로 사용자가 직접 add_constant 등의 명령를 써서 상수항 결합을 할 필요는 없다.\n",
    "\n",
    "   + model = model.fit(X, y)\n",
    "\n",
    "    회귀분석을 하고 나면 모형 객체는 다음과 같은 속성을 가지게 된다. 또한 fit 메서드는 객체 자신을 반환한다.\n",
    "\n",
    "        + coef_ : 추정된 가중치 벡터\n",
    "        + intercept_ : 추정된 상수항\n",
    "\n",
    "\n",
    "(3) predict 메서드로 새로운 입력 데이터에 대한 출력 데이터 예측\n",
    "\n",
    "   + y_new = model.predict(x_new)\n",
    "\n",
    "\n",
    "\n",
    "위 예제를 LinearRegression 클래스로 선형회귀를 하면 다음과 같다."
   ]
  },
  {
   "cell_type": "code",
   "execution_count": 24,
   "metadata": {},
   "outputs": [
    {
     "name": "stdout",
     "output_type": "stream",
     "text": [
      "[[86.96171201]] [99.79150869]\n"
     ]
    }
   ],
   "source": [
    "from sklearn.linear_model import LinearRegression\n",
    "\n",
    "model = LinearRegression().fit(X0, y)  # 모형 추정\n",
    "print(model.coef_, model.intercept_)"
   ]
  },
  {
   "cell_type": "markdown",
   "metadata": {},
   "source": [
    "predict 메서드를 사용하면 새로운  𝑥𝑛𝑒𝑤  값에 대응하는  𝑦  값을 예측할 수 있다.  𝑥𝑛𝑒𝑤 값으로 2차원 배열을 써야한다는 점을 주의한다."
   ]
  },
  {
   "cell_type": "code",
   "execution_count": 25,
   "metadata": {},
   "outputs": [
    {
     "data": {
      "text/plain": [
       "array([[360.67664473]])"
      ]
     },
     "execution_count": 25,
     "metadata": {},
     "output_type": "execute_result"
    }
   ],
   "source": [
    "model.predict([[3]])"
   ]
  },
  {
   "cell_type": "markdown",
   "metadata": {},
   "source": [
    "다음은 scikit-learn의 LinearRegression 클래스를 이용하여 보스턴 집값 데이터에 대해 회귀분석을 하는 예이다."
   ]
  },
  {
   "cell_type": "code",
   "execution_count": 26,
   "metadata": {},
   "outputs": [],
   "source": [
    "from sklearn.datasets import load_boston\n",
    "\n",
    "boston = load_boston()\n",
    "model_boston = LinearRegression().fit(boston.data, boston.target)"
   ]
  },
  {
   "cell_type": "markdown",
   "metadata": {},
   "source": [
    "추정한 가중치 값은 다음과 같다. 특징 벡터의 이름과 비교하면 각각의 가중치가 가지는 의미를 알 수 있다. 예를 들어 방(RM) 하나가 증가하면 가격 예측치는 약 3,810달러 정도 증가한다는 것을 알 수 있다."
   ]
  },
  {
   "cell_type": "code",
   "execution_count": 27,
   "metadata": {},
   "outputs": [
    {
     "data": {
      "text/plain": [
       "array([-1.07170557e-01,  4.63952195e-02,  2.08602395e-02,  2.68856140e+00,\n",
       "       -1.77957587e+01,  3.80475246e+00,  7.51061703e-04, -1.47575880e+00,\n",
       "        3.05655038e-01, -1.23293463e-02, -9.53463555e-01,  9.39251272e-03,\n",
       "       -5.25466633e-01])"
      ]
     },
     "execution_count": 27,
     "metadata": {},
     "output_type": "execute_result"
    }
   ],
   "source": [
    "model_boston.coef_"
   ]
  },
  {
   "cell_type": "code",
   "execution_count": 28,
   "metadata": {},
   "outputs": [
    {
     "data": {
      "text/plain": [
       "array(['CRIM', 'ZN', 'INDUS', 'CHAS', 'NOX', 'RM', 'AGE', 'DIS', 'RAD',\n",
       "       'TAX', 'PTRATIO', 'B', 'LSTAT'], dtype='<U7')"
      ]
     },
     "execution_count": 28,
     "metadata": {},
     "output_type": "execute_result"
    }
   ],
   "source": [
    "boston.feature_names"
   ]
  },
  {
   "cell_type": "code",
   "execution_count": 29,
   "metadata": {},
   "outputs": [
    {
     "data": {
      "text/plain": [
       "36.49110328036104"
      ]
     },
     "execution_count": 29,
     "metadata": {},
     "output_type": "execute_result"
    }
   ],
   "source": [
    "model_boston.intercept_  # 추정된 상수항"
   ]
  },
  {
   "cell_type": "code",
   "execution_count": 31,
   "metadata": {},
   "outputs": [
    {
     "data": {
      "image/png": "[encoded data removed]",
      "text/plain": [
       "<Figure size 432x288 with 1 Axes>"
      ]
     },
     "metadata": {},
     "output_type": "display_data"
    }
   ],
   "source": [
    "predictions = model_boston.predict(boston.data)\n",
    "\n",
    "plt.scatter(boston.target, predictions)\n",
    "plt.xlabel(\"실제 집값\")\n",
    "plt.ylabel(\"예측 집값\")\n",
    "plt.title(\"집값 예측치와 실제 집값의 관계\")\n",
    "plt.show()"
   ]
  },
  {
   "cell_type": "markdown",
   "metadata": {},
   "source": [
    "## statsmodels 패키지를 사용한 선형 회귀분석\n",
    "\n",
    "statsmodels 패키지에서는 OLS 클래스를 사용하여 선형 회귀분석을 실시한다. OLS 클래스 사용법은 다음과 같다.\n",
    "\n",
    "1. OLS 클래스 객체 생성. 이 때 scikit-learn 패키지와 달리 데이터를 미리 주어야 하며 자동으로 상수항을 만들어주지 않기 때문에 사용자가 add_constant 명령으로 상수항을 추가해야 한다. 또한 인수의 순서가 scikit-learn 패키지와 달리 출력 데이터를 먼저 넣어야 한다.\n",
    "\n",
    "    + model = OLS(y, X)\n",
    "        \n",
    "2. fit 메서드로 모형 추정. scikit-learn 패키지와 달리 추정 결과는 별도의 RegressionResults 클래스 객체로 출력된다.\n",
    "\n",
    "    + result = model.fit()\n",
    "\n",
    "3. RegressionResults 클래스 객체는 결과 리포트용 summary 메서드와 예측을 위한 prediction 메서드를 제공한다.\n",
    "\n",
    "    + print(result.summary())\n",
    "    + y_new = result.predict(x_new)\n",
    "\n",
    "    이 때, 예측을 위한 데이터는 추정시와 동일하게 상수항 결합을 해 주어야 한다.\n",
    "\n",
    "위 1차원 데이터 예제를 statsmodels의 OLS 명령으로 선형회귀를 하면 다음과 같다. summary 메서드는 복잡한 형태의 보고서를 보여주는데 보고서의 내용에 대해서는 확률적 회귀모형에서 자세히 설명한다."
   ]
  },
  {
   "cell_type": "code",
   "execution_count": 32,
   "metadata": {},
   "outputs": [
    {
     "name": "stdout",
     "output_type": "stream",
     "text": [
      "                            OLS Regression Results                            \n",
      "==============================================================================\n",
      "Dep. Variable:                      y   R-squared:                       0.985\n",
      "Model:                            OLS   Adj. R-squared:                  0.985\n",
      "Method:                 Least Squares   F-statistic:                 1.278e+04\n",
      "Date:                Mon, 12 Aug 2019   Prob (F-statistic):          8.17e-182\n",
      "Time:                        10:00:40   Log-Likelihood:                -741.28\n",
      "No. Observations:                 200   AIC:                             1487.\n",
      "Df Residuals:                     198   BIC:                             1493.\n",
      "Df Model:                           1                                         \n",
      "Covariance Type:            nonrobust                                         \n",
      "==============================================================================\n",
      "                 coef    std err          t      P>|t|      [0.025      0.975]\n",
      "------------------------------------------------------------------------------\n",
      "const         99.7915      0.705    141.592      0.000      98.402     101.181\n",
      "x1            86.9617      0.769    113.058      0.000      85.445      88.479\n",
      "==============================================================================\n",
      "Omnibus:                        1.418   Durbin-Watson:                   1.690\n",
      "Prob(Omnibus):                  0.492   Jarque-Bera (JB):                1.059\n",
      "Skew:                           0.121   Prob(JB):                        0.589\n",
      "Kurtosis:                       3.262   Cond. No.                         1.16\n",
      "==============================================================================\n",
      "\n",
      "Warnings:\n",
      "[1] Standard Errors assume that the covariance matrix of the errors is correctly specified.\n"
     ]
    }
   ],
   "source": [
    "model = sm.OLS(y, X)\n",
    "result = model.fit()\n",
    "print(result.summary())"
   ]
  },
  {
   "cell_type": "markdown",
   "metadata": {},
   "source": [
    "predict 메서드를 사용하면 새로운  𝑥𝑛𝑒𝑤  값에 대응하는  𝑦  값을 예측할 수 있다.  𝑥𝑛𝑒𝑤 값으로 상수항 결합이 된 2차원 배열을 써야한다는 점을 주의한다."
   ]
  },
  {
   "cell_type": "code",
   "execution_count": 33,
   "metadata": {},
   "outputs": [
    {
     "data": {
      "text/plain": [
       "array([360.67664473])"
      ]
     },
     "execution_count": 33,
     "metadata": {},
     "output_type": "execute_result"
    }
   ],
   "source": [
    "result.predict([[1, 3]])"
   ]
  },
  {
   "cell_type": "markdown",
   "metadata": {},
   "source": [
    "보스턴 집값 데이터를 statsmodels의 OLS 명령으로 분석한 결과는 다음과 같다."
   ]
  },
  {
   "cell_type": "code",
   "execution_count": 34,
   "metadata": {},
   "outputs": [
    {
     "name": "stdout",
     "output_type": "stream",
     "text": [
      "                            OLS Regression Results                            \n",
      "==============================================================================\n",
      "Dep. Variable:                   MEDV   R-squared:                       0.741\n",
      "Model:                            OLS   Adj. R-squared:                  0.734\n",
      "Method:                 Least Squares   F-statistic:                     108.1\n",
      "Date:                Mon, 12 Aug 2019   Prob (F-statistic):          6.95e-135\n",
      "Time:                        10:11:25   Log-Likelihood:                -1498.8\n",
      "No. Observations:                 506   AIC:                             3026.\n",
      "Df Residuals:                     492   BIC:                             3085.\n",
      "Df Model:                          13                                         \n",
      "Covariance Type:            nonrobust                                         \n",
      "==============================================================================\n",
      "                 coef    std err          t      P>|t|      [0.025      0.975]\n",
      "------------------------------------------------------------------------------\n",
      "const         36.4911      5.104      7.149      0.000      26.462      46.520\n",
      "CRIM          -0.1072      0.033     -3.276      0.001      -0.171      -0.043\n",
      "ZN             0.0464      0.014      3.380      0.001       0.019       0.073\n",
      "INDUS          0.0209      0.061      0.339      0.735      -0.100       0.142\n",
      "CHAS           2.6886      0.862      3.120      0.002       0.996       4.381\n",
      "NOX          -17.7958      3.821     -4.658      0.000     -25.302     -10.289\n",
      "RM             3.8048      0.418      9.102      0.000       2.983       4.626\n",
      "AGE            0.0008      0.013      0.057      0.955      -0.025       0.027\n",
      "DIS           -1.4758      0.199     -7.398      0.000      -1.868      -1.084\n",
      "RAD            0.3057      0.066      4.608      0.000       0.175       0.436\n",
      "TAX           -0.0123      0.004     -3.278      0.001      -0.020      -0.005\n",
      "PTRATIO       -0.9535      0.131     -7.287      0.000      -1.211      -0.696\n",
      "B              0.0094      0.003      3.500      0.001       0.004       0.015\n",
      "LSTAT         -0.5255      0.051    -10.366      0.000      -0.625      -0.426\n",
      "==============================================================================\n",
      "Omnibus:                      178.029   Durbin-Watson:                   1.078\n",
      "Prob(Omnibus):                  0.000   Jarque-Bera (JB):              782.015\n",
      "Skew:                           1.521   Prob(JB):                    1.54e-170\n",
      "Kurtosis:                       8.276   Cond. No.                     1.51e+04\n",
      "==============================================================================\n",
      "\n",
      "Warnings:\n",
      "[1] Standard Errors assume that the covariance matrix of the errors is correctly specified.\n",
      "[2] The condition number is large, 1.51e+04. This might indicate that there are\n",
      "strong multicollinearity or other numerical problems.\n"
     ]
    }
   ],
   "source": [
    "import pandas as pd\n",
    "\n",
    "dfX0 = pd.DataFrame(boston.data, columns=boston.feature_names)\n",
    "dfX = sm.add_constant(dfX0)\n",
    "dfy = pd.DataFrame(boston.target, columns=[\"MEDV\"])\n",
    "\n",
    "model_boston2 = sm.OLS(dfy, dfX)\n",
    "result_boston2 = model_boston2.fit()\n",
    "print(result_boston2.summary())"
   ]
  },
  {
   "cell_type": "markdown",
   "metadata": {},
   "source": [
    "예측을 할 때는 입력 데이터가 추정모형과 동일한 형태가 되어야 한다. 예를 들어 다음과 같은 입력데이터를 생각해보자. 이 데이터는 원래 입력데이터의 평균값이다."
   ]
  },
  {
   "cell_type": "code",
   "execution_count": 35,
   "metadata": {},
   "outputs": [
    {
     "data": {
      "text/plain": [
       "array([3.59376071e+00, 1.13636364e+01, 1.11367787e+01, 6.91699605e-02,\n",
       "       5.54695059e-01, 6.28463439e+00, 6.85749012e+01, 3.79504269e+00,\n",
       "       9.54940711e+00, 4.08237154e+02, 1.84555336e+01, 3.56674032e+02,\n",
       "       1.26530632e+01])"
      ]
     },
     "execution_count": 35,
     "metadata": {},
     "output_type": "execute_result"
    }
   ],
   "source": [
    "x_new = dfX0.mean().values\n",
    "x_new"
   ]
  },
  {
   "cell_type": "code",
   "execution_count": 36,
   "metadata": {},
   "outputs": [
    {
     "data": {
      "text/plain": [
       "CRIM         3.593761\n",
       "ZN          11.363636\n",
       "INDUS       11.136779\n",
       "CHAS         0.069170\n",
       "NOX          0.554695\n",
       "RM           6.284634\n",
       "AGE         68.574901\n",
       "DIS          3.795043\n",
       "RAD          9.549407\n",
       "TAX        408.237154\n",
       "PTRATIO     18.455534\n",
       "B          356.674032\n",
       "LSTAT       12.653063\n",
       "dtype: float64"
      ]
     },
     "execution_count": 36,
     "metadata": {},
     "output_type": "execute_result"
    }
   ],
   "source": [
    "dfX0.mean()"
   ]
  },
  {
   "cell_type": "markdown",
   "metadata": {},
   "source": [
    "predict 명령의 인수로 들어가는  𝑥𝑛𝑒𝑤  데이터는 원래 회귀분석에 사용했던 X 데이터와 동일한 형태의 데이터를 만들어야 한다. 여기에서 알기 쉽게 데이터프레임의 형태로 만들었다. 데이터프레임을 만들 때 데이터 행이 하나인 경우에는 add_constant에 has_constant=\"add\" 인수를 추가해야 한다."
   ]
  },
  {
   "cell_type": "code",
   "execution_count": 38,
   "metadata": {},
   "outputs": [
    {
     "data": {
      "text/html": [
       "<div>\n",
       "<style scoped>\n",
       "    .dataframe tbody tr th:only-of-type {\n",
       "        vertical-align: middle;\n",
       "    }\n",
       "\n",
       "    .dataframe tbody tr th {\n",
       "        vertical-align: top;\n",
       "    }\n",
       "\n",
       "    .dataframe thead th {\n",
       "        text-align: right;\n",
       "    }\n",
       "</style>\n",
       "<table border=\"1\" class=\"dataframe\">\n",
       "  <thead>\n",
       "    <tr style=\"text-align: right;\">\n",
       "      <th></th>\n",
       "      <th>const</th>\n",
       "      <th>CRIM</th>\n",
       "      <th>ZN</th>\n",
       "      <th>INDUS</th>\n",
       "      <th>CHAS</th>\n",
       "      <th>NOX</th>\n",
       "      <th>RM</th>\n",
       "      <th>AGE</th>\n",
       "      <th>DIS</th>\n",
       "      <th>RAD</th>\n",
       "      <th>TAX</th>\n",
       "      <th>PTRATIO</th>\n",
       "      <th>B</th>\n",
       "      <th>LSTAT</th>\n",
       "    </tr>\n",
       "  </thead>\n",
       "  <tbody>\n",
       "    <tr>\n",
       "      <th>0</th>\n",
       "      <td>1.0</td>\n",
       "      <td>3.593761</td>\n",
       "      <td>11.363636</td>\n",
       "      <td>11.136779</td>\n",
       "      <td>0.06917</td>\n",
       "      <td>0.554695</td>\n",
       "      <td>6.284634</td>\n",
       "      <td>68.574901</td>\n",
       "      <td>3.795043</td>\n",
       "      <td>9.549407</td>\n",
       "      <td>408.237154</td>\n",
       "      <td>18.455534</td>\n",
       "      <td>356.674032</td>\n",
       "      <td>12.653063</td>\n",
       "    </tr>\n",
       "  </tbody>\n",
       "</table>\n",
       "</div>"
      ],
      "text/plain": [
       "   const      CRIM         ZN      INDUS     CHAS       NOX        RM  \\\n",
       "0    1.0  3.593761  11.363636  11.136779  0.06917  0.554695  6.284634   \n",
       "\n",
       "         AGE       DIS       RAD         TAX    PTRATIO           B      LSTAT  \n",
       "0  68.574901  3.795043  9.549407  408.237154  18.455534  356.674032  12.653063  "
      ]
     },
     "execution_count": 38,
     "metadata": {},
     "output_type": "execute_result"
    }
   ],
   "source": [
    "dfx_new = sm.add_constant(pd.DataFrame(np.array(x_new)[:, np.newaxis].T, columns=boston.feature_names), has_constant=\"add\")\n",
    "dfx_new"
   ]
  },
  {
   "cell_type": "code",
   "execution_count": 39,
   "metadata": {},
   "outputs": [
    {
     "data": {
      "text/plain": [
       "0    22.532806\n",
       "dtype: float64"
      ]
     },
     "execution_count": 39,
     "metadata": {},
     "output_type": "execute_result"
    }
   ],
   "source": [
    "result_boston2.predict(dfx_new)"
   ]
  },
  {
   "cell_type": "markdown",
   "metadata": {},
   "source": [
    "직교 방정식에서 증명했던 것처럼 이 예측값은 y 데이터의 평균과 같다."
   ]
  },
  {
   "cell_type": "code",
   "execution_count": 40,
   "metadata": {},
   "outputs": [
    {
     "data": {
      "text/plain": [
       "MEDV    22.532806\n",
       "dtype: float64"
      ]
     },
     "execution_count": 40,
     "metadata": {},
     "output_type": "execute_result"
    }
   ],
   "source": [
    "dfy.mean() # 평균으로 만든 입력데이터를 넣어더니 마찬가지로 예측값도 y의 평균값을 도출 "
   ]
  },
  {
   "cell_type": "markdown",
   "metadata": {},
   "source": [
    "RegressionResults 클래스는 분석 결과를 다양한 속성에 저장해주므로 추후 사용자가 선택하여 활용할 수 있다. 자주 사용되는 속성으로는 다음과 같은 것들이 있다.\n",
    "\n",
    "+ params: 가중치 벡터\n",
    "+ resid: 잔차 벡터\n"
   ]
  },
  {
   "cell_type": "markdown",
   "metadata": {},
   "source": [
    "가중치 벡터의 값은 다음과 같이 확인한다."
   ]
  },
  {
   "cell_type": "code",
   "execution_count": 41,
   "metadata": {},
   "outputs": [
    {
     "data": {
      "text/plain": [
       "const      36.491103\n",
       "CRIM       -0.107171\n",
       "ZN          0.046395\n",
       "INDUS       0.020860\n",
       "CHAS        2.688561\n",
       "NOX       -17.795759\n",
       "RM          3.804752\n",
       "AGE         0.000751\n",
       "DIS        -1.475759\n",
       "RAD         0.305655\n",
       "TAX        -0.012329\n",
       "PTRATIO    -0.953464\n",
       "B           0.009393\n",
       "LSTAT      -0.525467\n",
       "dtype: float64"
      ]
     },
     "execution_count": 41,
     "metadata": {},
     "output_type": "execute_result"
    }
   ],
   "source": [
    "result_boston2.params"
   ]
  },
  {
   "cell_type": "markdown",
   "metadata": {},
   "source": [
    "잔차 벡터의 형태는 다음과 같다."
   ]
  },
  {
   "cell_type": "code",
   "execution_count": 43,
   "metadata": {},
   "outputs": [
    {
     "data": {
      "text/plain": [
       "pandas.core.series.Series"
      ]
     },
     "execution_count": 43,
     "metadata": {},
     "output_type": "execute_result"
    }
   ],
   "source": [
    "type(result_boston2.resid)"
   ]
  },
  {
   "cell_type": "code",
   "execution_count": 46,
   "metadata": {},
   "outputs": [
    {
     "data": {
      "image/png": "[encoded data removed]",
      "text/plain": [
       "<Figure size 432x288 with 1 Axes>"
      ]
     },
     "metadata": {},
     "output_type": "display_data"
    }
   ],
   "source": [
    "result_boston2.resid.plot()\n",
    "plt.title(\"잔차 벡터 분포\")\n",
    "plt.xlabel(\"데이터 번호\")\n",
    "plt.ylabel(\"잔차\")\n",
    "plt.show()"
   ]
  },
  {
   "cell_type": "markdown",
   "metadata": {},
   "source": [
    "직교 방정식에서 이끌어 낸 것처럼 잔차의 합은 0이 된다."
   ]
  },
  {
   "cell_type": "code",
   "execution_count": 47,
   "metadata": {},
   "outputs": [
    {
     "data": {
      "text/plain": [
       "1.6193268947972683e-11"
      ]
     },
     "execution_count": 47,
     "metadata": {},
     "output_type": "execute_result"
    }
   ],
   "source": [
    "result_boston2.resid.sum()"
   ]
  },
  {
   "cell_type": "code",
   "execution_count": null,
   "metadata": {},
   "outputs": [],
   "source": []
  }
 ],
 "metadata": {
  "kernelspec": {
   "display_name": "Python 3",
   "language": "python",
   "name": "python3"
  },
  "language_info": {
   "codemirror_mode": {
    "name": "ipython",
    "version": 3
   },
   "file_extension": ".py",
   "mimetype": "text/x-python",
   "name": "python",
   "nbconvert_exporter": "python",
   "pygments_lexer": "ipython3",
   "version": "3.5.1"
  }
 },
 "nbformat": 4,
 "nbformat_minor": 2
}
