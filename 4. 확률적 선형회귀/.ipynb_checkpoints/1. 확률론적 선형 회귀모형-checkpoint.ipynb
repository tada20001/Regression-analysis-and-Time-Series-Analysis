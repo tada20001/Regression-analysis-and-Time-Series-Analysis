{
 "cells": [
  {
   "cell_type": "markdown",
   "metadata": {},
   "source": [
    "OLS(Ordinary Least Square) 방법을 사용하면 데이터에 대한 확률론적인 가정이 없어도 최적의 가중치를 계산할 수 있었다. 그러나 계산한 가중치가 어느 정도의 신뢰도를 가지는지 확인할 수 있는 방법이 없다.\n",
    "\n",
    "예를 들어 보스턴 집값의 선형 회귀모형에서 OLS로 계산한 범죄율에 대한 가중치는 약  −0.1080 이었다. 만약 이 값이 정확한 값이라면 집값은 범죄율에 반비례한다는 결론을 내릴 수 있다. 하지만  −0.1080 은 표본에서 계산된 추정치일 뿐이며 추정 오차가 있을 수 있다. \n",
    "\n",
    "만약 추정 오차의 크기가  0.0001  수준이라면 실제 가중치는  −0.1080±0.0001  즉,  −0.1081∼−0.1079  정도이고 집값이 범죄율에 반비례한다는 결론은 바뀌지 않을 것이다. 하지만 만약 추정 오차의 크기가  0.2  수준이라면 실제 가중치는  −0.3081∼0.0920  정도의 범위가 된다. 다시 말해 진짜 가중치는 0이 될 수도 있고 양수가 될 수 있다. 만약 가중치가 0이라면 범죄율과 집값은 아무런 상관 관계가 없다는 결론이 나온다. 만약 가중치가 양수이면 집값은 범죄율에 정비례한다는 결론이 나올 수도 있다. 즉 가중치의 오차 범위 혹은 신뢰 구간을 계산할 수 없다면 OLS 결과로부터 실질적인 결론을 이끌어내기 어렵다."
   ]
  },
  {
   "cell_type": "markdown",
   "metadata": {},
   "source": [
    "## 부트스트래핑\n",
    "\n",
    "##### 부트스트래핑(bootstrapping)은 회귀분석에 사용한 표본 데이터가 달라질 때 회귀분석의 결과는 어느 정도 영향을 받는지를 알기 위한 방법이다.\n",
    "\n",
    "OLS로 구한 가중치의 추정값은 표본 데이터에 따라 달라진다. 만약 여러가지 다른 표본 데이터 집합이 있다면 이 데이터들을 넣어보면서 가중치가 어느 정도 달라지는지에 대한 감을 얻을 수 있을 것이다. 그러나 현실적으로는 추가적인 데이터를 얻기 어렵기 때문에 부트스트래핑 방법에서는 기존의 데이터를 재표본화(re-sampling)하여 여러가지 다양한 표본 데이터 집합을 만드는 방법을 사용한다. 재표본화는 기존의  𝑁 개의 데이터에서 다시  𝑁 개의 데이터를 선택하되 중복 선택도 가능하게 한다(unordered resampling with replacement).\n",
    "\n",
    "직접 부트스트래핑을 실시해 보자. 다음과 같은 선형 회귀 모형을 따르는 100개의 가상 데이터를 생성한다. 모형에 사용된 모수는 상수항이  𝑤0=0 , 기울기가  𝑤1=42.3855 이다."
   ]
  },
  {
   "cell_type": "markdown",
   "metadata": {},
   "source": [
    "$$y = w_0 + w_1 x + \\epsilon$$"
   ]
  },
  {
   "cell_type": "code",
   "execution_count": 1,
   "metadata": {},
   "outputs": [
    {
     "data": {
      "text/plain": [
       "array(42.38550486)"
      ]
     },
     "execution_count": 1,
     "metadata": {},
     "output_type": "execute_result"
    }
   ],
   "source": [
    "from sklearn.datasets import make_regression\n",
    "\n",
    "X0, y, coef = make_regression(n_samples=100, n_features=1, noise=20, coef=True, random_state=0)\n",
    "coef"
   ]
  },
  {
   "cell_type": "markdown",
   "metadata": {},
   "source": [
    "이 표본 데이터를 기반으로 회귀분석을 실시한다."
   ]
  },
  {
   "cell_type": "code",
   "execution_count": 3,
   "metadata": {},
   "outputs": [],
   "source": [
    "import pandas as pd\n",
    "import statsmodels.api as sm\n",
    "\n",
    "dfX0 = pd.DataFrame(X0, columns=[\"X1\"])\n",
    "dfX = sm.add_constant(dfX0)\n",
    "dfy = pd.DataFrame(y, columns=[\"y\"])\n",
    "\n",
    "model = sm.OLS(dfy, dfX)\n",
    "result = model.fit()"
   ]
  },
  {
   "cell_type": "markdown",
   "metadata": {},
   "source": [
    "추정된 가중치값은 params 속성에 저장되어 있다. 상수항의 추정치가  𝑤̂ 0=−1.628364 , 기울기의 추정치가  𝑤̂ 1=42.853356 로 실제 모수와 다르다는 것을 알 수 있다."
   ]
  },
  {
   "cell_type": "code",
   "execution_count": 4,
   "metadata": {},
   "outputs": [
    {
     "data": {
      "text/plain": [
       "const    -1.628364\n",
       "X1       42.853356\n",
       "dtype: float64"
      ]
     },
     "execution_count": 4,
     "metadata": {},
     "output_type": "execute_result"
    }
   ],
   "source": [
    "result.params"
   ]
  },
  {
   "cell_type": "markdown",
   "metadata": {},
   "source": [
    "다음으로 이 데이터를 재표본화하여 다른 데이터 집합을 만들고 이 데이터를 기반으로 다시 회귀분석을 한다. 여기에서는 이러한 회귀분석을 1,000번 반복한다. 그 결과로써 1,000개의 다른 가중치 추정값이 나오게 된다."
   ]
  },
  {
   "cell_type": "code",
   "execution_count": 5,
   "metadata": {},
   "outputs": [],
   "source": [
    "import numpy as np"
   ]
  },
  {
   "cell_type": "code",
   "execution_count": 6,
   "metadata": {},
   "outputs": [
    {
     "name": "stdout",
     "output_type": "stream",
     "text": [
      "CPU times: user 5.24 s, sys: 145 ms, total: 5.39 s\n",
      "Wall time: 3.21 s\n"
     ]
    }
   ],
   "source": [
    "%%time\n",
    "N = 1000\n",
    "params_w0 = np.zeros(N)\n",
    "params_w1 = np.zeros(N)\n",
    "\n",
    "for i in range(N):\n",
    "    idx = np.random.choice(len(dfy), len(dfy), replace=True)\n",
    "    dfX2 = dfX.iloc[idx, :]\n",
    "    dfy2 = dfy.iloc[idx]\n",
    "    r = sm.OLS(dfy2, dfX2).fit()\n",
    "    params_w0[i] = r.params.const\n",
    "    params_w1[i] = r.params.X1"
   ]
  },
  {
   "cell_type": "markdown",
   "metadata": {},
   "source": [
    "전체 가중치 추정값 집합을 히스토그램으로 나타내면 다음과 같다."
   ]
  },
  {
   "cell_type": "code",
   "execution_count": 7,
   "metadata": {},
   "outputs": [],
   "source": [
    "import matplotlib.pylab as plt\n",
    "import matplotlib as mpl\n",
    "import matplotlib.font_manager as fm\n",
    "import seaborn as sns\n",
    "\n",
    "sns.set_style(\"whitegrid\")\n",
    "mpl.rcParams['axes.unicode_minus'] = False\n",
    "plt.rcParams['font.size'] = 12\n",
    "\n",
    "path = \"/Library/Fonts/NanumGothic.otf\"\n",
    "font_name = fm.FontProperties(fname=path, size=12).get_name()\n",
    "\n",
    "plt.rc('font', family=font_name)"
   ]
  },
  {
   "cell_type": "code",
   "execution_count": 8,
   "metadata": {},
   "outputs": [
    {
     "data": {
      "image/png": "[encoded data removed]",
      "text/plain": [
       "<Figure size 576x216 with 2 Axes>"
      ]
     },
     "metadata": {
      "needs_background": "light"
     },
     "output_type": "display_data"
    }
   ],
   "source": [
    "plt.figure(figsize=(8, 3))\n",
    "\n",
    "ax1 = plt.subplot(121)\n",
    "sns.distplot(params_w1, ax=ax1)\n",
    "plt.axvline(params_w1.mean(), c='r')\n",
    "plt.title(\"$\\hat{w}_1$ 추정치 분포\")\n",
    "\n",
    "ax2 = plt.subplot(122)\n",
    "sns.distplot(params_w0, ax=ax2)\n",
    "plt.axvline(params_w0.mean(), c='r')\n",
    "plt.title(\"$\\hat{w}_0$ 추정치 분포\")\n",
    "\n",
    "plt.show()"
   ]
  },
  {
   "cell_type": "markdown",
   "metadata": {},
   "source": [
    "추정치 분포의 평균과 분산은 다음과 같다. 기울기의 추정치 분포는 평균이  42.92 , 표준편차가  1.92 이다. 대부분의 데이터가  42.92±3.84  ( 𝑥¯±2𝑠 ) 사이에 있다. 따라서 오차가 큰 경우에도 0 혹은 음수가 될 가능성은 적다."
   ]
  },
  {
   "cell_type": "code",
   "execution_count": 9,
   "metadata": {},
   "outputs": [
    {
     "data": {
      "text/plain": [
       "(42.91868415110692, 1.9034056787413076)"
      ]
     },
     "execution_count": 9,
     "metadata": {},
     "output_type": "execute_result"
    }
   ],
   "source": [
    "params_w1.mean(), params_w1.std()"
   ]
  },
  {
   "cell_type": "markdown",
   "metadata": {},
   "source": [
    "그런데 상수항의 추정치 분포는 평균이  −1.65 , 표준편차가  2.13 이다. 대부분의 데이터가  −1.67±4.26(−5.99∼2.65)  사이에 있기 때문에 0일 수도 있고 혹은 음수일 수도 있다."
   ]
  },
  {
   "cell_type": "code",
   "execution_count": 10,
   "metadata": {},
   "outputs": [
    {
     "data": {
      "text/plain": [
       "(-1.696242172546713, 2.1064696237923126)"
      ]
     },
     "execution_count": 10,
     "metadata": {},
     "output_type": "execute_result"
    }
   ],
   "source": [
    "params_w0.mean(), params_w0.std()"
   ]
  },
  {
   "cell_type": "markdown",
   "metadata": {},
   "source": [
    "이 결과를 statsmodels의 summary 메서드로 출력한 보고서와 비교해보면 추정치의 표준편차와 비슷한 값이 std err이라는 이름으로 표시되어 있고  𝑥¯±2𝑠 로 추정한 구간과 비슷한 값이 [0.025 0.975] 열 아래에 표시되어 있다. 예를 들어 상수항 추정치는 std err가 2.163 이고 [0.025 0.975]열 값이  −5.920∼2.663 이다."
   ]
  },
  {
   "cell_type": "code",
   "execution_count": 11,
   "metadata": {},
   "outputs": [
    {
     "name": "stdout",
     "output_type": "stream",
     "text": [
      "                            OLS Regression Results                            \n",
      "==============================================================================\n",
      "Dep. Variable:                      y   R-squared:                       0.803\n",
      "Model:                            OLS   Adj. R-squared:                  0.801\n",
      "Method:                 Least Squares   F-statistic:                     400.3\n",
      "Date:                Wed, 14 Aug 2019   Prob (F-statistic):           2.21e-36\n",
      "Time:                        07:12:31   Log-Likelihood:                -448.09\n",
      "No. Observations:                 100   AIC:                             900.2\n",
      "Df Residuals:                      98   BIC:                             905.4\n",
      "Df Model:                           1                                         \n",
      "Covariance Type:            nonrobust                                         \n",
      "==============================================================================\n",
      "                 coef    std err          t      P>|t|      [0.025      0.975]\n",
      "------------------------------------------------------------------------------\n",
      "const         -1.6284      2.163     -0.753      0.453      -5.920       2.663\n",
      "X1            42.8534      2.142     20.008      0.000      38.603      47.104\n",
      "==============================================================================\n",
      "Omnibus:                        3.523   Durbin-Watson:                   1.984\n",
      "Prob(Omnibus):                  0.172   Jarque-Bera (JB):                2.059\n",
      "Skew:                          -0.073   Prob(JB):                        0.357\n",
      "Kurtosis:                       2.312   Cond. No.                         1.06\n",
      "==============================================================================\n",
      "\n",
      "Warnings:\n",
      "[1] Standard Errors assume that the covariance matrix of the errors is correctly specified.\n"
     ]
    }
   ],
   "source": [
    "print(result.summary())"
   ]
  },
  {
   "cell_type": "markdown",
   "metadata": {},
   "source": [
    "하지만 이 보고서의 값은 부트스트래핑을 사용하여 구한 값이 아니라 확률론적 선형 회귀모형을 사용한 것이다. \n",
    "##### 확률론적 선형 회귀모형을 쓰면 부트스트래핑처럼 많은 계산을 하지 않아도 빠르고 안정적으로 가중치 추정값의 오차를 구할 수 있다."
   ]
  },
  {
   "cell_type": "markdown",
   "metadata": {},
   "source": [
    "## 확률론적 선형 회귀모형\n",
    "\n",
    "확률론적 선형 회귀모형에서는 데이터가 확률 변수로부터 생성된 표본이라고 가정한다. 구체적인 가정은 다음과 같다.\n",
    "\n",
    "(1) 선형 정규 분포 가정\n",
    "\n",
    "##### 선형 회귀분석의 기본 가정은 종속 변수  𝑦 가 독립 변수  𝑥 의 선형 조합으로 결정되는 기댓값과 고정된 분산  𝜎2 을 가지는 가우시안 정규 분포라는 것이다.\n",
    "\n",
    "$$y \\sim \\mathcal{N}(w^Tx, \\sigma^2)$$\n",
    "\n",
    "y의 확률 밀도 함수는 다음처럼 쓸 수 있다. 이 식에서 모수 벡터  𝜃=(𝑤,𝜎2) 이다.\n",
    "\n",
    "$$p(y \\mid x, \\theta) = \\mathcal{N}(y \\mid w^Tx, \\sigma^2 )$$\n",
    "\n",
    "이 관계식을 잡음(disturbance)  𝜖  개념으로 변환하면 더 간단하게 표현할 수 있다.\n",
    "\n",
    "$$\\epsilon = y - w^Tx$$\n",
    "\n",
    "$$p(\\epsilon \\mid \\theta) = \\mathcal{N}(0, \\sigma^2 )$$"
   ]
  },
  {
   "cell_type": "markdown",
   "metadata": {},
   "source": [
    "여기에서 주의할 점은\n",
    "\n",
    "#### x, y 중 그 어느 것도 그 자체로 정규 분포일 필요는 없다\n",
    "\n",
    "는 것이다.\n",
    "\n",
    "𝑦 도  𝑥 에 대해 조건부로 정규 분포를 이루는 것이지  𝑦  자체가 무조건부로 정규분포는 아니다."
   ]
  },
  {
   "cell_type": "markdown",
   "metadata": {},
   "source": [
    "(2) 외생성(Exogeneity) 가정\n",
    "\n",
    "##### 잡음  𝜖 의 기댓값은 독립 변수  𝑥 의 크기에 상관없이 항상 0이라고 가정한다. 이를 외생성(Exogeneity) 가정이라고 한다.\n",
    "\n",
    "$$\\text{E}[\\epsilon \\mid x] = 0$$\n",
    "\n",
    "외생성 가정으로부터와 잡음  𝜖 의 무조건부 기댓값이 0임을 증명할 수 있다.\n",
    "\n",
    "$$\\text{E}[\\epsilon] = \\text{E}[\\text{E}[\\epsilon \\mid x]] = 0$$\n",
    "\n",
    "역은 성립하지 않는다. 즉 조건부 기댓값이 0이면 기댓값은 0이지만 기댓값이 0이라고 조건부 기댓값이 0이 되지는 않는다.\n",
    "\n",
    "그리고 같은 가정으로부터 잡음  𝜖 와 독립 변수  𝑥 가 상관 관계가 없다는 것도 증명할 수 있다.\n",
    "\n",
    "$$\\text{E}[\\epsilon x] = \\text{E}[\\text{E}[\\epsilon x \\mid x]] = \\text{E}[x \\text{E}[\\epsilon\\mid x]] = 0$$"
   ]
  },
  {
   "cell_type": "markdown",
   "metadata": {},
   "source": [
    "(3) 조건부 독립 가정\n",
    "\n",
    "##### 𝑖 번째 표본의 잡음  𝜖𝑖 와  𝑗 번째 표본의 잡음  𝜖𝑗 의 공분산 값이  𝑥 와 상관없이 항상 0이라고 가정한다.\n",
    "\n",
    "$$\\text{Cov}[\\epsilon_i, \\epsilon_j \\mid x] = 0 \\;\\; (i,j=1,2,\\ldots,N)$$\n",
    "\n",
    "이는  𝑖 번째 표본의 잡음  𝜖𝑖 와  𝑗 번째 표본의 잡음  𝜖𝑗 는 서로 독립이라는 가정과 같다.\n",
    "\n",
    "이 가정과 위의 다른 가정들로부터 다음을 증명할 수 있다.\n",
    "\n",
    "$$\\text{E}[\\epsilon_i \\epsilon_j] = 0 \\;\\; (i,j=1,2,\\ldots,N)$$\n",
    "\n",
    "잡음 벡터  𝜖 의 공분산 행렬이 대각행렬이 되어야 한다는 조건과 같다. (비대각 성분이 모두 0이어야 한다.)\n",
    "\n",
    "$$\\text{Cov}[\\epsilon] = \\text{E}[\\epsilon^{} \\epsilon^T] = \\text{diagonal matrix}$$"
   ]
  },
  {
   "cell_type": "markdown",
   "metadata": {},
   "source": [
    "(4) 등분산성 가정\n",
    "\n",
    "##### 𝑖 번째 표본의 잡음  𝜖𝑖 와  𝑗 번째 표본의 잡음  𝜖𝑗 의 분산 값이 표본과 상관없이 항상 같다고 가정한다.\n",
    "\n",
    "잡음 벡터  𝜖 의 공분산 행렬이 항등행렬 형태가 되어야 한다는 조건과 같다.\n",
    "\n",
    "$$\\text{Cov}[\\epsilon] = \\text{E}[\\epsilon^{} \\epsilon^T] = \\sigma^2I$$"
   ]
  },
  {
   "cell_type": "markdown",
   "metadata": {},
   "source": [
    "## 최대 가능도 방법을 사용한 선형 회귀분석\n",
    "\n",
    "확률론적 선형 회귀모형의 가정과 최대 가능도 방법(Maximum Likelihood Estimation)을 사용하여 가중치 벡터  𝑤 의 값을 구해보자.\n",
    "\n",
    "가능도는 다음과 같다.\n",
    "\n",
    "\\begin{eqnarray}\n",
    "p(y_{1:N} \\,\\big|\\, x_{1:N}, \\theta)\n",
    "&=& \\prod_{i=1}^N \\mathcal{N}(y_i \\,\\big|\\, w^T x_i , \\sigma^2) \\\\\n",
    "&=& \\prod_{i=1}^N \\frac{1}{\\sqrt{2\\pi\\sigma^2}}\\exp\\left\\{-\\frac{(y_i-w^T x_i)^2}{2\\sigma^2} \\right\\}  \\\\\n",
    "\\end{eqnarray}"
   ]
  },
  {
   "cell_type": "markdown",
   "metadata": {},
   "source": [
    "계산을 쉽게하기 위해 Log를 적용하여 로그 가능도(log-likelihood)를 구한다.\n",
    "\n",
    "\\begin{eqnarray}\n",
    "\\text{LL}  \n",
    "&=& \\log p(y_{1:N} \\,\\big|\\, x_{1:N}, \\theta) \\\\\n",
    "&=& \\log \\prod_{i=1}^N \\frac{1}{\\sqrt{2\\pi\\sigma^2}}\\exp\\left\\{-\\frac{(y_i-w^T x_i)^2}{2\\sigma^2} \\right\\}  \\\\\n",
    "&=& -\\dfrac{1}{2\\sigma^2} \\sum_{i=1}^N (y_i-w^T x_i)^2 - \\dfrac{N}{2} \\log{2\\pi}{\\sigma^2}  \\\\\n",
    "\\end{eqnarray}"
   ]
  },
  {
   "cell_type": "markdown",
   "metadata": {},
   "source": [
    "이를 행렬로 표시하면 다음과 같다.\n",
    "\n",
    "$$\\text{LL}  =  -C_1 (y - Xw)^T(y-Xw) - C_0 = -C_1(w^TX^TXw -2 y^TXw + y^Ty) - C_0$$\n",
    "\n",
    "$$C_1 =  -\\dfrac{1}{2\\sigma^2}$$\n",
    "\n",
    "$$C_0 =  \\dfrac{N}{2} \\log{2\\pi}{\\sigma^2}$$\n",
    "\n",
    "최적화하면 OLS와 동일한 결과를 얻을 수 있다.\n",
    "\n",
    "$$\\dfrac{d}{dw} \\text{LL} = -C_1 \\left( 2X^TX \\hat{w} - 2X^Ty \\right) = 0$$\n",
    "\n",
    "$$\\hat{w} = (X^TX)^{-1}X^T y$$"
   ]
  },
  {
   "cell_type": "markdown",
   "metadata": {},
   "source": [
    "최대 가능도 방법에서도 OLS의 직교 방정식과 같은 직교 방정식을 얻을 수 있다.\n",
    "\n",
    "$$X^TX \\hat{w} - X^Ty = 0$$\n",
    "\n",
    "$$X^T(X \\hat{w} - y) = X^T(\\hat{y} - y) = X^Te = 0$$"
   ]
  },
  {
   "cell_type": "markdown",
   "metadata": {},
   "source": [
    "## 잔차의 분포\n",
    "\n",
    "###### 확률론적 선형 회귀모형에 따르면 회귀분석에서 생기는 잔차  𝑒=𝑦−𝑤̂ 𝑇𝑥  도 정규 분포를 따른다. \n",
    "\n",
    "다음과 같이 증명할 수 있다.\n",
    "\n",
    "확률론적 선형 회귀모형의 잡음  𝜖 와 잔차  𝑒 는 다음과 같은 관계를 가진다.\n",
    "\n",
    "$$\\hat{y} = X\\hat{w} = X (X^TX)^{-1}X^T y = Hy$$\n",
    "\n",
    "이 행렬  𝐻 은 Hat 행렬 혹은 프로젝션(projection) 행렬 또는 영향도(influence) 행렬이라고 부르는 대칭 행렬이다.\n",
    "\n",
    "Hat 행렬을 이용하면 잔차는 다음처럼 표현된다.\n",
    "\n",
    "$$e = y - \\hat{y}= y - Hy = (I - H) y = My$$"
   ]
  },
  {
   "cell_type": "markdown",
   "metadata": {},
   "source": [
    "이 행렬  𝑀 은 잔차(residual) 행렬이라고 부른다.\n",
    "\n",
    "확률적 선형 회귀 모형의 가정을 적용하면,\n",
    "\n",
    "$$e = My = M (Xw + \\epsilon) = MXw + M\\epsilon$$"
   ]
  },
  {
   "cell_type": "markdown",
   "metadata": {},
   "source": [
    "즉, 잔차  𝑒 는 잡음  𝜖 의 선형 변환(linear transform)이다. 정규 분포의 선형 변환은 마찬가지로 정규 분포이므로 잔차도 정규 분포를 다른다."
   ]
  },
  {
   "cell_type": "code",
   "execution_count": 12,
   "metadata": {},
   "outputs": [],
   "source": [
    "import scipy as sp\n",
    "import scipy.stats"
   ]
  },
  {
   "cell_type": "code",
   "execution_count": 13,
   "metadata": {},
   "outputs": [
    {
     "data": {
      "image/png": "[encoded data removed]",
      "text/plain": [
       "<Figure size 432x288 with 1 Axes>"
      ]
     },
     "metadata": {
      "needs_background": "light"
     },
     "output_type": "display_data"
    }
   ],
   "source": [
    "sp.stats.probplot(result.resid, plot=plt) # Q-Q plot\n",
    "plt.show()"
   ]
  },
  {
   "cell_type": "markdown",
   "metadata": {},
   "source": [
    "잔차의 정규성은 다음과 같이 정규성 검정을 통해 살펴볼 수도 있다."
   ]
  },
  {
   "cell_type": "code",
   "execution_count": 14,
   "metadata": {},
   "outputs": [
    {
     "data": {
      "text/plain": [
       "NormaltestResult(statistic=3.5225056601675333, pvalue=0.17182945580489326)"
      ]
     },
     "execution_count": 14,
     "metadata": {},
     "output_type": "execute_result"
    }
   ],
   "source": [
    "test = sm.stats.omni_normtest(result.resid)\n",
    "test"
   ]
  },
  {
   "cell_type": "code",
   "execution_count": 15,
   "metadata": {},
   "outputs": [
    {
     "name": "stdout",
     "output_type": "stream",
     "text": [
      "Chi^2       :  3.523\n",
      "P-value     :  0.172\n"
     ]
    }
   ],
   "source": [
    "for xi in zip(['Chi^2', 'P-value'], test):\n",
    "    print(\"%-12s: %6.3f\" % xi)"
   ]
  },
  {
   "cell_type": "code",
   "execution_count": 16,
   "metadata": {},
   "outputs": [
    {
     "data": {
      "text/plain": [
       "(2.0585394799860923,\n",
       " 0.35726776369010976,\n",
       " -0.07259247821264342,\n",
       " 2.3122712717761096)"
      ]
     },
     "execution_count": 16,
     "metadata": {},
     "output_type": "execute_result"
    }
   ],
   "source": [
    "test = sm.stats.jarque_bera(result.resid)\n",
    "test"
   ]
  },
  {
   "cell_type": "code",
   "execution_count": 17,
   "metadata": {},
   "outputs": [
    {
     "name": "stdout",
     "output_type": "stream",
     "text": [
      "Jarque-Bera :  2.059\n",
      "P-value     :  0.357\n",
      "Skew        : -0.073\n",
      "Kurtosis    :  2.312\n"
     ]
    }
   ],
   "source": [
    "for xi in zip([\"Jarque-Bera\", 'P-value', 'Skew', 'Kurtosis'], test):\n",
    "    print(\"%-12s: %6.3f\" % xi)"
   ]
  },
  {
   "cell_type": "markdown",
   "metadata": {},
   "source": [
    "또한 오차의 기댓값이  𝑥 와 상관없이 0이므로 잔차의 기댓값도  𝑥 와 상관없이 0이어야 한다.\n",
    "\n",
    "$$E[𝑒|𝑥]=0$$\n",
    " \n",
    "다음은  𝑥 값이 달라짐에 따라 잔차의 분포가 어떻게 바뀌는 지를 살펴보기 위한 것이다.  𝑥 값이 달라져도 분포의 형태가 크게 바뀌지 않음을 알 수 있다."
   ]
  },
  {
   "cell_type": "code",
   "execution_count": 20,
   "metadata": {},
   "outputs": [
    {
     "data": {
      "image/png": "[encoded data removed]",
      "text/plain": [
       "<Figure size 432x288 with 1 Axes>"
      ]
     },
     "metadata": {
      "needs_background": "light"
     },
     "output_type": "display_data"
    }
   ],
   "source": [
    "plt.plot(X0, result.resid, 'o')\n",
    "plt.axhline(y=0, c='k')\n",
    "plt.xlabel(\"X1\")\n",
    "plt.ylabel(\"Residual\")\n",
    "plt.show()"
   ]
  },
  {
   "cell_type": "markdown",
   "metadata": {},
   "source": [
    "다음은  𝑥 가  𝑒 에 미치는 영향을 살피기 위해  0<𝑥<1 인 구간과  1<𝑥<2 인 구간으로 나누어  𝑒  분포의 모양을 살펴본 것이다. 둘 다 기댓값이 0에 가깝고 분산의 크기가 비슷함을 알 수 있다."
   ]
  },
  {
   "cell_type": "code",
   "execution_count": 21,
   "metadata": {},
   "outputs": [
    {
     "data": {
      "text/plain": [
       "(100, 1)"
      ]
     },
     "execution_count": 21,
     "metadata": {},
     "output_type": "execute_result"
    }
   ],
   "source": [
    "X0.shape"
   ]
  },
  {
   "cell_type": "code",
   "execution_count": 22,
   "metadata": {},
   "outputs": [
    {
     "data": {
      "image/png": "[encoded data removed]",
      "text/plain": [
       "<Figure size 432x288 with 1 Axes>"
      ]
     },
     "metadata": {
      "needs_background": "light"
     },
     "output_type": "display_data"
    }
   ],
   "source": [
    "sns.kdeplot(result.resid[((1 < X0) & (X0 < 2)).flatten()], label=\"1<x<2\")\n",
    "sns.kdeplot(result.resid[((0 < X0) & (X0 < 1)).flatten()], label=\"0<x<1\")\n",
    "plt.legend()\n",
    "plt.show()"
   ]
  },
  {
   "cell_type": "code",
   "execution_count": 26,
   "metadata": {},
   "outputs": [
    {
     "data": {
      "text/plain": [
       "(0.8315840246840316, 19.37836265474579)"
      ]
     },
     "execution_count": 26,
     "metadata": {},
     "output_type": "execute_result"
    }
   ],
   "source": [
    "result.resid[((1 < X0) & (X0 < 2)).flatten()].mean(), result.resid[((1 < X0) & (X0 < 2)).flatten()].std()"
   ]
  },
  {
   "cell_type": "code",
   "execution_count": 27,
   "metadata": {},
   "outputs": [
    {
     "data": {
      "text/plain": [
       "(-0.9383616315036388, 24.436125593248548)"
      ]
     },
     "execution_count": 27,
     "metadata": {},
     "output_type": "execute_result"
    }
   ],
   "source": [
    "result.resid[((0 < X0) & (X0 < 1)).flatten()].mean(), result.resid[((0 < X0) & (X0 < 1)).flatten()].std()"
   ]
  },
  {
   "cell_type": "markdown",
   "metadata": {},
   "source": [
    "## 회귀 계수의 표준 오차\n",
    "\n",
    "가중치의 예측치  𝑤̂   도 정규 분포 확률 변수인  𝜖 의 선형 변환이므로 정규 분포를 따른다.\n",
    "\n",
    "\\begin{eqnarray}\n",
    "\\hat{w} \n",
    "&=& (X^TX)^{-1} X^T y \\\\\n",
    "&=& (X^TX)^{-1} X^T (X w + \\epsilon) \\\\\n",
    "&=& w + (X^TX)^{-1} X^T \\epsilon \\\\\n",
    "\\end{eqnarray}"
   ]
  },
  {
   "cell_type": "markdown",
   "metadata": {},
   "source": [
    "𝑤̂  의 기댓값은 다음과 같다.\n",
    "\n",
    "\\begin{eqnarray}\n",
    "\\text{E}[\\hat{w}] \n",
    "&=&  \\text{E}[ w + (X^TX)^{-1} X^T \\epsilon ] \\\\\n",
    "&=&  w + (X^TX)^{-1} X^T \\text{E}[ \\epsilon ] \\\\\n",
    "&=& w\n",
    "\\end{eqnarray}"
   ]
  },
  {
   "cell_type": "markdown",
   "metadata": {},
   "source": [
    "따라서  𝑤̂  는  𝑤 의 비편향 추정값(unbiased estimate)이다.\n",
    "\n",
    "𝑤̂  의 공분산은 다음과 같다.\n",
    "\n",
    "\\begin{eqnarray}\n",
    "\\text{Cov}[\\hat{w}] \n",
    "&=& E[(\\hat{w} - w)(\\hat{w} - w)^T] \\\\\n",
    "&=& E[((X^TX)^{-1} X^T \\epsilon)((X^TX)^{-1} X^T \\epsilon)^T] \\\\\n",
    "&=& E[(X^TX)^{-1} X^T \\epsilon \\epsilon^T X(X^TX)^{−1} ] \\\\\n",
    "&=& (X^TX)^{-1} X^T E[\\epsilon \\epsilon^T] X(X^TX)^{−1} \\\\\n",
    "&=& (X^TX)^{-1} X^T (\\sigma^2 I) X(X^TX)^{−1} \\\\\n",
    "&=& \\sigma^2  (X^TX)^{-1}\n",
    "\\end{eqnarray}"
   ]
  },
  {
   "cell_type": "markdown",
   "metadata": {},
   "source": [
    "그런데 잡음의 분산 E[𝜖2]=𝜎2의 값은 알지 못하므로 다음과 같이 잔차의 분산 E[𝑒2]으로부터 추정한다.\n",
    "\n",
    "\\begin{eqnarray}\n",
    "\\text{E}[e^2] \n",
    "&=& \\text{E}[(M\\epsilon)^2] \\\\\n",
    "&=& \\text{E}[(\\epsilon^T M^T)(M\\epsilon)] \\\\\n",
    "&=& \\text{E}[ \\epsilon^T M \\epsilon] \\\\\n",
    "&=& \\text{E}[ \\text{tr}(\\epsilon^T M \\epsilon) ] \\\\\n",
    "&=& \\text{tr}( \\text{E}[ M \\epsilon \\epsilon^T ]) \\\\\n",
    "&=& \\text{tr}( M \\text{E}[\\epsilon \\epsilon^T ]) \\\\\n",
    "&=& \\text{tr}( M \\sigma^2 I ) \\\\\n",
    "&=& \\sigma^2 \\text{tr}(M) \\\\\n",
    "&=& \\sigma^2 \\text{tr}(I - X(X^TX)^{-1}X^T) \\\\\n",
    "&=& \\sigma^2 \\left( \\text{tr}(I) - \\text{tr}((X^TX)^{-1}(X^TX))  \\right) \\\\\n",
    "&=& \\sigma^2 (N-K) \\\\\n",
    "\\end{eqnarray}"
   ]
  },
  {
   "cell_type": "markdown",
   "metadata": {},
   "source": [
    "여기에서  𝑁 은 표본 데이터의 수,  𝐾 는  𝑋  행렬의 열의 수 즉, 모수의 갯수이다. 상수항을 포함한 선형 모형이라면 모수의 갯수는 입력 데이터의 차원의 수  𝐷 에 1을 더한 값이 된다.\n",
    "\n",
    "$$K = D + 1$$"
   ]
  },
  {
   "cell_type": "markdown",
   "metadata": {},
   "source": [
    "따라서 잡음에 대한 비편향 표본분산은 다음과 같다.\n",
    "\n",
    "$$s^2 = \\dfrac{e^Te}{N-K} = \\dfrac{RSS}{N-K}$$\n",
    "\n",
    "𝑤̂  의 (공)분산의 추정값은 다음과 같다.\n",
    "\n",
    "$$\\text{Cov}[\\hat{w}] \\approx s^2(X^TX)^{-1}$$\n",
    "\n",
    "이 공분산 행렬에서 우리가 관심을 가지는 값은  𝑤𝑖 의 분산을 뜻하는 대각 성분이다.\n",
    "\n",
    "$$\\text{Var}[\\hat{w}_i]  = \\left( \\text{Cov}[\\hat{w}] \\right)_{ii} \\;\\; (i=0, \\ldots, K-1)$$"
   ]
  },
  {
   "cell_type": "markdown",
   "metadata": {},
   "source": [
    "##### 이 값에서 구한 표준 편차를 회귀 계수의 표준 오차(Standard Error of Regression Coefficient)라고 한다.\n",
    "\n",
    "$$\\sqrt{\\text{Var}[\\hat{w}_i]} \\approx {se_i} = \\sqrt{s^2 \\big((X^TX)^{-1}\\big)_{ii}} \\;\\; (i=0, \\ldots, K-1)$$"
   ]
  },
  {
   "cell_type": "markdown",
   "metadata": {},
   "source": [
    "실제 가중치 계수  𝑤𝑖 와 우리가 추정한 가중치 계수  𝑤̂ 𝑖 의 차이를 표준 오차를 나눈 값, 즉 정규화된 모수 오차는 자유도가  𝑁−𝐾 인 표준 스튜던트 t 분포를 따른다.\n",
    "\n",
    "$$\\dfrac{\\hat{w}_i - w_i}{se_i} \\sim t_{N-K} \\;\\; (i=0, \\ldots, K-1)$$"
   ]
  },
  {
   "cell_type": "markdown",
   "metadata": {},
   "source": [
    "## 단일 계수 t-검정 (Single Coefficient t-test)\n",
    "\n",
    "정규화된 모수 오차  𝑤̂𝑖 / 𝑠𝑒𝑖 를 검정 통계량으로 사용하면  𝑤𝑖 가 0 인지 아닌지에 대한 검정을 실시할 수 있다.\n",
    "\n",
    "$$H_0 : \\;\\; w_i = 0 \\;\\; (i=0, \\ldots, K-1)$$\n",
    " \n",
    "만약 이 검정에 대한 유의 확률이 0에 가깝게 나온다면 위의 귀무가설은 기각이므로  𝑤𝑖  값이 0일 가능성은 적다. 하지만 유의 확률이 유의 수준을 넘는 큰 값이 나온다면 반대로  𝑤𝑖  값이 0일 가능성이 크다. 즉, 해당 독립 변수는 종속 변수와 아무런 상관성이 없을 가능성이 있다는 뜻이다.\n",
    "\n",
    "StatsModels summary 메서드가 출력하는 회귀분석 보고서에서 std err로 표시된 열이 모형계수의 표준오차, t로 표시된 열이 단일 계수 t-검정의 검정 통계량, 그리고 P>|t|로 표시된 열이 유의확률을 뜻한다.\n",
    "\n",
    "아래의 보고서에서는 첫번째 모형계수는 실제 값이 0일 가능성 즉, 상수항을 가지지 않을 가능성이 높다고 할 수 있다. (45.3%이므로 귀무가설 기각 불가능)"
   ]
  },
  {
   "cell_type": "code",
   "execution_count": 29,
   "metadata": {},
   "outputs": [
    {
     "name": "stdout",
     "output_type": "stream",
     "text": [
      "                            OLS Regression Results                            \n",
      "==============================================================================\n",
      "Dep. Variable:                      y   R-squared:                       0.803\n",
      "Model:                            OLS   Adj. R-squared:                  0.801\n",
      "Method:                 Least Squares   F-statistic:                     400.3\n",
      "Date:                Wed, 14 Aug 2019   Prob (F-statistic):           2.21e-36\n",
      "Time:                        08:22:28   Log-Likelihood:                -448.09\n",
      "No. Observations:                 100   AIC:                             900.2\n",
      "Df Residuals:                      98   BIC:                             905.4\n",
      "Df Model:                           1                                         \n",
      "Covariance Type:            nonrobust                                         \n",
      "==============================================================================\n",
      "                 coef    std err          t      P>|t|      [0.025      0.975]\n",
      "------------------------------------------------------------------------------\n",
      "const         -1.6284      2.163     -0.753      0.453      -5.920       2.663\n",
      "X1            42.8534      2.142     20.008      0.000      38.603      47.104\n",
      "==============================================================================\n",
      "Omnibus:                        3.523   Durbin-Watson:                   1.984\n",
      "Prob(Omnibus):                  0.172   Jarque-Bera (JB):                2.059\n",
      "Skew:                          -0.073   Prob(JB):                        0.357\n",
      "Kurtosis:                       2.312   Cond. No.                         1.06\n",
      "==============================================================================\n",
      "\n",
      "Warnings:\n",
      "[1] Standard Errors assume that the covariance matrix of the errors is correctly specified.\n"
     ]
    }
   ],
   "source": [
    "print(result.summary())"
   ]
  },
  {
   "cell_type": "markdown",
   "metadata": {},
   "source": [
    "RegressionResults 클래스 객체는 t test 를 위한 t_test 메서드를 제공한다. 이 메서드를 사용하면 계수 값이 0이 아닌 경우도 테스트할 수 있다. 예를 들어 위 예제에서 귀무 가설을 다음과 같이 놓고\n",
    "\n",
    "$$H_0: w_1 = 40$$\n",
    "\n",
    "x1에 대한 계수값  𝑤1 을 40으로 해도 되는지 테스트할 수도 있다."
   ]
  },
  {
   "cell_type": "code",
   "execution_count": 30,
   "metadata": {},
   "outputs": [
    {
     "name": "stdout",
     "output_type": "stream",
     "text": [
      "                             Test for Constraints                             \n",
      "==============================================================================\n",
      "                 coef    std err          t      P>|t|      [0.025      0.975]\n",
      "------------------------------------------------------------------------------\n",
      "c0            42.8534      2.142      1.332      0.186      38.603      47.104\n",
      "==============================================================================\n"
     ]
    }
   ],
   "source": [
    "print(result.t_test(\"X1=40\"))"
   ]
  },
  {
   "cell_type": "markdown",
   "metadata": {},
   "source": [
    "이 검정 결과에 따르면 x1에 대한 계수를 40으로 한다고 해도 문제가 없음을 알 수 있다.(18.6%이므로 귀무가설을 기각 못함)\n",
    "\n",
    "이 방법은 두 독립변수의 계수값을 비교할 때도 쓸 수 있다. 범주형 독립변수의 범주값이 가지는 유의성을 판단하는데 유용하다. 예를 들어 월평균 기온을 나타내는 nottem 데이터에서 1월과 2월의 기온이 실질적으로 같은지를 알아볼 때도 사용할 수 있다."
   ]
  },
  {
   "cell_type": "code",
   "execution_count": 31,
   "metadata": {},
   "outputs": [],
   "source": [
    "import datetime\n",
    "from calendar import isleap\n",
    "\n",
    "df_nottem = sm.datasets.get_rdataset(\"nottem\").data\n",
    "\n",
    "def convert_partial_year(number):\n",
    "    year = int(number)\n",
    "    d = datetime.timedelta(days=(number - year) * (365 + isleap(year)))\n",
    "    day_one = datetime.datetime(year, 1, 1)\n",
    "    date = d + day_one\n",
    "    return date"
   ]
  },
  {
   "cell_type": "code",
   "execution_count": 32,
   "metadata": {},
   "outputs": [
    {
     "data": {
      "text/html": [
       "<div>\n",
       "<style scoped>\n",
       "    .dataframe tbody tr th:only-of-type {\n",
       "        vertical-align: middle;\n",
       "    }\n",
       "\n",
       "    .dataframe tbody tr th {\n",
       "        vertical-align: top;\n",
       "    }\n",
       "\n",
       "    .dataframe thead th {\n",
       "        text-align: right;\n",
       "    }\n",
       "</style>\n",
       "<table border=\"1\" class=\"dataframe\">\n",
       "  <thead>\n",
       "    <tr style=\"text-align: right;\">\n",
       "      <th></th>\n",
       "      <th>time</th>\n",
       "      <th>value</th>\n",
       "    </tr>\n",
       "  </thead>\n",
       "  <tbody>\n",
       "    <tr>\n",
       "      <th>235</th>\n",
       "      <td>1939.583333</td>\n",
       "      <td>61.8</td>\n",
       "    </tr>\n",
       "    <tr>\n",
       "      <th>236</th>\n",
       "      <td>1939.666667</td>\n",
       "      <td>58.2</td>\n",
       "    </tr>\n",
       "    <tr>\n",
       "      <th>237</th>\n",
       "      <td>1939.750000</td>\n",
       "      <td>46.7</td>\n",
       "    </tr>\n",
       "    <tr>\n",
       "      <th>238</th>\n",
       "      <td>1939.833333</td>\n",
       "      <td>46.6</td>\n",
       "    </tr>\n",
       "    <tr>\n",
       "      <th>239</th>\n",
       "      <td>1939.916667</td>\n",
       "      <td>37.8</td>\n",
       "    </tr>\n",
       "  </tbody>\n",
       "</table>\n",
       "</div>"
      ],
      "text/plain": [
       "            time  value\n",
       "235  1939.583333   61.8\n",
       "236  1939.666667   58.2\n",
       "237  1939.750000   46.7\n",
       "238  1939.833333   46.6\n",
       "239  1939.916667   37.8"
      ]
     },
     "execution_count": 32,
     "metadata": {},
     "output_type": "execute_result"
    }
   ],
   "source": [
    "df_nottem.tail()"
   ]
  },
  {
   "cell_type": "code",
   "execution_count": 33,
   "metadata": {},
   "outputs": [
    {
     "data": {
      "text/html": [
       "<div>\n",
       "<style scoped>\n",
       "    .dataframe tbody tr th:only-of-type {\n",
       "        vertical-align: middle;\n",
       "    }\n",
       "\n",
       "    .dataframe tbody tr th {\n",
       "        vertical-align: top;\n",
       "    }\n",
       "\n",
       "    .dataframe thead th {\n",
       "        text-align: right;\n",
       "    }\n",
       "</style>\n",
       "<table border=\"1\" class=\"dataframe\">\n",
       "  <thead>\n",
       "    <tr style=\"text-align: right;\">\n",
       "      <th></th>\n",
       "      <th>time</th>\n",
       "      <th>value</th>\n",
       "      <th>date0</th>\n",
       "      <th>date</th>\n",
       "    </tr>\n",
       "  </thead>\n",
       "  <tbody>\n",
       "    <tr>\n",
       "      <th>235</th>\n",
       "      <td>1939.583333</td>\n",
       "      <td>61.8</td>\n",
       "      <td>1939-08-01 21:59:59.999897</td>\n",
       "      <td>1939-08-02 22:00:00</td>\n",
       "    </tr>\n",
       "    <tr>\n",
       "      <th>236</th>\n",
       "      <td>1939.666667</td>\n",
       "      <td>58.2</td>\n",
       "      <td>1939-09-01 08:00:00.000103</td>\n",
       "      <td>1939-09-02 08:00:00</td>\n",
       "    </tr>\n",
       "    <tr>\n",
       "      <th>237</th>\n",
       "      <td>1939.750000</td>\n",
       "      <td>46.7</td>\n",
       "      <td>1939-10-01 18:00:00.000000</td>\n",
       "      <td>1939-10-02 18:00:00</td>\n",
       "    </tr>\n",
       "    <tr>\n",
       "      <th>238</th>\n",
       "      <td>1939.833333</td>\n",
       "      <td>46.6</td>\n",
       "      <td>1939-11-01 03:59:59.999897</td>\n",
       "      <td>1939-11-02 04:00:00</td>\n",
       "    </tr>\n",
       "    <tr>\n",
       "      <th>239</th>\n",
       "      <td>1939.916667</td>\n",
       "      <td>37.8</td>\n",
       "      <td>1939-12-01 14:00:00.000103</td>\n",
       "      <td>1939-12-02 14:00:00</td>\n",
       "    </tr>\n",
       "  </tbody>\n",
       "</table>\n",
       "</div>"
      ],
      "text/plain": [
       "            time  value                      date0                date\n",
       "235  1939.583333   61.8 1939-08-01 21:59:59.999897 1939-08-02 22:00:00\n",
       "236  1939.666667   58.2 1939-09-01 08:00:00.000103 1939-09-02 08:00:00\n",
       "237  1939.750000   46.7 1939-10-01 18:00:00.000000 1939-10-02 18:00:00\n",
       "238  1939.833333   46.6 1939-11-01 03:59:59.999897 1939-11-02 04:00:00\n",
       "239  1939.916667   37.8 1939-12-01 14:00:00.000103 1939-12-02 14:00:00"
      ]
     },
     "execution_count": 33,
     "metadata": {},
     "output_type": "execute_result"
    }
   ],
   "source": [
    "df_nottem[\"date0\"] = df_nottem[[\"time\"]].applymap(convert_partial_year)\n",
    "df_nottem[\"date\"] = pd.DatetimeIndex(df_nottem[\"date0\"]).round(\"60min\") + datetime.timedelta(seconds=3600 * 24)\n",
    "df_nottem.tail()"
   ]
  },
  {
   "cell_type": "code",
   "execution_count": 34,
   "metadata": {},
   "outputs": [
    {
     "data": {
      "text/html": [
       "<div>\n",
       "<style scoped>\n",
       "    .dataframe tbody tr th:only-of-type {\n",
       "        vertical-align: middle;\n",
       "    }\n",
       "\n",
       "    .dataframe tbody tr th {\n",
       "        vertical-align: top;\n",
       "    }\n",
       "\n",
       "    .dataframe thead th {\n",
       "        text-align: right;\n",
       "    }\n",
       "</style>\n",
       "<table border=\"1\" class=\"dataframe\">\n",
       "  <thead>\n",
       "    <tr style=\"text-align: right;\">\n",
       "      <th></th>\n",
       "      <th>time</th>\n",
       "      <th>value</th>\n",
       "      <th>date0</th>\n",
       "      <th>date</th>\n",
       "      <th>month</th>\n",
       "    </tr>\n",
       "  </thead>\n",
       "  <tbody>\n",
       "    <tr>\n",
       "      <th>235</th>\n",
       "      <td>1939.583333</td>\n",
       "      <td>61.8</td>\n",
       "      <td>1939-08-01 21:59:59.999897</td>\n",
       "      <td>1939-08-02 22:00:00</td>\n",
       "      <td>08</td>\n",
       "    </tr>\n",
       "    <tr>\n",
       "      <th>236</th>\n",
       "      <td>1939.666667</td>\n",
       "      <td>58.2</td>\n",
       "      <td>1939-09-01 08:00:00.000103</td>\n",
       "      <td>1939-09-02 08:00:00</td>\n",
       "      <td>09</td>\n",
       "    </tr>\n",
       "    <tr>\n",
       "      <th>237</th>\n",
       "      <td>1939.750000</td>\n",
       "      <td>46.7</td>\n",
       "      <td>1939-10-01 18:00:00.000000</td>\n",
       "      <td>1939-10-02 18:00:00</td>\n",
       "      <td>10</td>\n",
       "    </tr>\n",
       "    <tr>\n",
       "      <th>238</th>\n",
       "      <td>1939.833333</td>\n",
       "      <td>46.6</td>\n",
       "      <td>1939-11-01 03:59:59.999897</td>\n",
       "      <td>1939-11-02 04:00:00</td>\n",
       "      <td>11</td>\n",
       "    </tr>\n",
       "    <tr>\n",
       "      <th>239</th>\n",
       "      <td>1939.916667</td>\n",
       "      <td>37.8</td>\n",
       "      <td>1939-12-01 14:00:00.000103</td>\n",
       "      <td>1939-12-02 14:00:00</td>\n",
       "      <td>12</td>\n",
       "    </tr>\n",
       "  </tbody>\n",
       "</table>\n",
       "</div>"
      ],
      "text/plain": [
       "            time  value                      date0                date month\n",
       "235  1939.583333   61.8 1939-08-01 21:59:59.999897 1939-08-02 22:00:00    08\n",
       "236  1939.666667   58.2 1939-09-01 08:00:00.000103 1939-09-02 08:00:00    09\n",
       "237  1939.750000   46.7 1939-10-01 18:00:00.000000 1939-10-02 18:00:00    10\n",
       "238  1939.833333   46.6 1939-11-01 03:59:59.999897 1939-11-02 04:00:00    11\n",
       "239  1939.916667   37.8 1939-12-01 14:00:00.000103 1939-12-02 14:00:00    12"
      ]
     },
     "execution_count": 34,
     "metadata": {},
     "output_type": "execute_result"
    }
   ],
   "source": [
    "df_nottem[\"month\"] = df_nottem[\"date\"].dt.strftime(\"%m\").astype('category')\n",
    "df_nottem.tail()"
   ]
  },
  {
   "cell_type": "code",
   "execution_count": 35,
   "metadata": {},
   "outputs": [
    {
     "data": {
      "text/html": [
       "<div>\n",
       "<style scoped>\n",
       "    .dataframe tbody tr th:only-of-type {\n",
       "        vertical-align: middle;\n",
       "    }\n",
       "\n",
       "    .dataframe tbody tr th {\n",
       "        vertical-align: top;\n",
       "    }\n",
       "\n",
       "    .dataframe thead th {\n",
       "        text-align: right;\n",
       "    }\n",
       "</style>\n",
       "<table border=\"1\" class=\"dataframe\">\n",
       "  <thead>\n",
       "    <tr style=\"text-align: right;\">\n",
       "      <th></th>\n",
       "      <th>time</th>\n",
       "      <th>value</th>\n",
       "      <th>month</th>\n",
       "    </tr>\n",
       "  </thead>\n",
       "  <tbody>\n",
       "    <tr>\n",
       "      <th>235</th>\n",
       "      <td>1939.583333</td>\n",
       "      <td>61.8</td>\n",
       "      <td>08</td>\n",
       "    </tr>\n",
       "    <tr>\n",
       "      <th>236</th>\n",
       "      <td>1939.666667</td>\n",
       "      <td>58.2</td>\n",
       "      <td>09</td>\n",
       "    </tr>\n",
       "    <tr>\n",
       "      <th>237</th>\n",
       "      <td>1939.750000</td>\n",
       "      <td>46.7</td>\n",
       "      <td>10</td>\n",
       "    </tr>\n",
       "    <tr>\n",
       "      <th>238</th>\n",
       "      <td>1939.833333</td>\n",
       "      <td>46.6</td>\n",
       "      <td>11</td>\n",
       "    </tr>\n",
       "    <tr>\n",
       "      <th>239</th>\n",
       "      <td>1939.916667</td>\n",
       "      <td>37.8</td>\n",
       "      <td>12</td>\n",
       "    </tr>\n",
       "  </tbody>\n",
       "</table>\n",
       "</div>"
      ],
      "text/plain": [
       "            time  value month\n",
       "235  1939.583333   61.8    08\n",
       "236  1939.666667   58.2    09\n",
       "237  1939.750000   46.7    10\n",
       "238  1939.833333   46.6    11\n",
       "239  1939.916667   37.8    12"
      ]
     },
     "execution_count": 35,
     "metadata": {},
     "output_type": "execute_result"
    }
   ],
   "source": [
    "del df_nottem[\"date0\"], df_nottem[\"date\"]\n",
    "df_nottem.tail()"
   ]
  },
  {
   "cell_type": "code",
   "execution_count": 36,
   "metadata": {},
   "outputs": [
    {
     "name": "stdout",
     "output_type": "stream",
     "text": [
      "                            OLS Regression Results                            \n",
      "==============================================================================\n",
      "Dep. Variable:                  value   R-squared:                       0.930\n",
      "Model:                            OLS   Adj. R-squared:                  0.927\n",
      "Method:                 Least Squares   F-statistic:                     277.3\n",
      "Date:                Wed, 14 Aug 2019   Prob (F-statistic):          2.96e-125\n",
      "Time:                        09:44:58   Log-Likelihood:                -535.82\n",
      "No. Observations:                 240   AIC:                             1096.\n",
      "Df Residuals:                     228   BIC:                             1137.\n",
      "Df Model:                          11                                         \n",
      "Covariance Type:            nonrobust                                         \n",
      "================================================================================\n",
      "                   coef    std err          t      P>|t|      [0.025      0.975]\n",
      "--------------------------------------------------------------------------------\n",
      "C(month)[01]    39.6950      0.518     76.691      0.000      38.675      40.715\n",
      "C(month)[02]    39.1900      0.518     75.716      0.000      38.170      40.210\n",
      "C(month)[03]    42.1950      0.518     81.521      0.000      41.175      43.215\n",
      "C(month)[04]    46.2900      0.518     89.433      0.000      45.270      47.310\n",
      "C(month)[05]    52.5600      0.518    101.547      0.000      51.540      53.580\n",
      "C(month)[06]    58.0400      0.518    112.134      0.000      57.020      59.060\n",
      "C(month)[07]    61.9000      0.518    119.592      0.000      60.880      62.920\n",
      "C(month)[08]    60.5200      0.518    116.926      0.000      59.500      61.540\n",
      "C(month)[09]    56.4800      0.518    109.120      0.000      55.460      57.500\n",
      "C(month)[10]    49.4950      0.518     95.625      0.000      48.475      50.515\n",
      "C(month)[11]    42.5800      0.518     82.265      0.000      41.560      43.600\n",
      "C(month)[12]    39.5300      0.518     76.373      0.000      38.510      40.550\n",
      "==============================================================================\n",
      "Omnibus:                        5.430   Durbin-Watson:                   1.529\n",
      "Prob(Omnibus):                  0.066   Jarque-Bera (JB):                5.299\n",
      "Skew:                          -0.281   Prob(JB):                       0.0707\n",
      "Kurtosis:                       3.463   Cond. No.                         1.00\n",
      "==============================================================================\n",
      "\n",
      "Warnings:\n",
      "[1] Standard Errors assume that the covariance matrix of the errors is correctly specified.\n"
     ]
    }
   ],
   "source": [
    "model_nottem = sm.OLS.from_formula(\"value ~ C(month) + 0\", df_nottem)\n",
    "result_nottem = model_nottem.fit()\n",
    "print(result_nottem.summary())"
   ]
  },
  {
   "cell_type": "markdown",
   "metadata": {},
   "source": [
    "다음 코드에서 보듯이 1월과 2월의 기온은 실질적으로 차이가 없다. 즉, 1월과 2월이라는 범주 값을 구분하는 실익이 존재하지 않는다."
   ]
  },
  {
   "cell_type": "code",
   "execution_count": 37,
   "metadata": {},
   "outputs": [
    {
     "name": "stdout",
     "output_type": "stream",
     "text": [
      "                             Test for Constraints                             \n",
      "==============================================================================\n",
      "                 coef    std err          t      P>|t|      [0.025      0.975]\n",
      "------------------------------------------------------------------------------\n",
      "c0             0.5050      0.732      0.690      0.491      -0.937       1.947\n",
      "==============================================================================\n"
     ]
    }
   ],
   "source": [
    "print(result_nottem.t_test(\"C(month)[01] = C(month)[02]\"))"
   ]
  },
  {
   "cell_type": "markdown",
   "metadata": {},
   "source": [
    "2월과 3월의 경우에는 구분이 필요하다는 것을 알 수 있다."
   ]
  },
  {
   "cell_type": "code",
   "execution_count": 38,
   "metadata": {},
   "outputs": [
    {
     "name": "stdout",
     "output_type": "stream",
     "text": [
      "                             Test for Constraints                             \n",
      "==============================================================================\n",
      "                 coef    std err          t      P>|t|      [0.025      0.975]\n",
      "------------------------------------------------------------------------------\n",
      "c0            -3.0050      0.732     -4.105      0.000      -4.447      -1.563\n",
      "==============================================================================\n"
     ]
    }
   ],
   "source": [
    "print(result_nottem.t_test(\"C(month)[02] = C(month)[03]\"))"
   ]
  },
  {
   "cell_type": "markdown",
   "metadata": {},
   "source": [
    "## 회귀분석 F-검정\n",
    "\n",
    "개별 개수가 아닌 전체 회귀 계수가 모두 의미가 있는지 확인하는 경우에는 다음과 같은 귀무 가설을 생각할 수 있다.\n",
    "\n",
    "$$H_0 : w_0  = w_1 = \\cdots = w_{K-1} = 0$$"
   ]
  },
  {
   "cell_type": "markdown",
   "metadata": {},
   "source": [
    "이는 전체 독립 변수 중 어느 것도 의미를 가진 것이 없다는 뜻이다. 대부분의 경우, 이 귀무가설은 기각된다. \n",
    "\n",
    "##### 다만 유의 확률이 얼마나 작은가에 따라서 기각되는 정도가 달라진다. \n",
    "\n",
    "유의확률이 작으면 작을수록 더 강력하게 기각된 것이므로 더 의미가 있는 모형이라고 할 수 있다. 따라서 여러 모형의 유의 확률을 비교하여 어느 모형이 더 성능이 좋은가를 비교할 때 이 유의확률을 사용한다. 이러한 검정을 Loss-of-Fit 검정 또는 회귀분석 F-검정(regression F-test)이라고 한다.\n",
    "\n",
    "위 보고서에서 F-statistic라고 표시된 277.3이라는 값이 회귀분석 F-검정의 검정통계량이고 Prob (F-statistic)로 표시된 2.96e-125라는 값이 유의확률이다."
   ]
  },
  {
   "cell_type": "code",
   "execution_count": null,
   "metadata": {},
   "outputs": [],
   "source": []
  }
 ],
 "metadata": {
  "kernelspec": {
   "display_name": "Python 3",
   "language": "python",
   "name": "python3"
  },
  "language_info": {
   "codemirror_mode": {
    "name": "ipython",
    "version": 3
   },
   "file_extension": ".py",
   "mimetype": "text/x-python",
   "name": "python",
   "nbconvert_exporter": "python",
   "pygments_lexer": "ipython3",
   "version": "3.7.3"
  }
 },
 "nbformat": 4,
 "nbformat_minor": 2
}
