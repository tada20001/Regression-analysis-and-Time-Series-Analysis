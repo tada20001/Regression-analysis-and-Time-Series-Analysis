{
 "cells": [
  {
   "cell_type": "markdown",
   "metadata": {},
   "source": [
    "시계열 자료가 주어졌을 때 이 자료를 가장 잘 표현할 수 있는 확률 과정 모형을 만드는 법은 다음과 같은 과정을 거친다.\n",
    "\n",
    "(1) 결정론적 추세 제거\n",
    "\n",
    "다항식 등으로 모형화가 가능한 결정론적 추세가 있는 경우에는 회귀 분석으로 이를 분리할 수 있다.\n",
    "\n",
    "(2) 확률적 추세 제거\n",
    "\n",
    "확률적 추세가 있는 경우, 즉 ARIMA 모형인 경우에는 ADF(Augmented Dickey Fuller) 검정을 사용하여 적분차수(order of integration)을 알아낸다.\n",
    "\n",
    "(3) 정규성 확인\n",
    "\n",
    "확률 과정 모형이 일반 선형 확률 과정인 경우에는 전체 시계열이 가우시안 백색 잡음의 선형 조합으로 이루어지기 때문에 시계열 자체도 가우시안 정규 분포를 이룬다. 따라서 ARIMA 모형 등의 일반 선형 확률 과정으로 모형화하려면 우선 정규성 검정(normality test)을 사용하여 분포가 정규 분포인지를 확인해야 한다. 만약 시계열 자료의 분포가 로그 변환이나 Box-Cox 변환을 사용하여 정규성이 개선된다면 이러한 변환을 사용할 수 있다.\n",
    "\n",
    "(4) ARMA모형의 차수 결정\n",
    "\n",
    "ACF가 특정 차수 이상에서 없어지는 경우(cut-off)에는 MA 모형을 사용할 수 있다. 만약 PACF가 특정 차수 이상에서 없어지면 AR 모형을 사용한다. ACF와 PACF 모두 특정 차수 이상에서 없어지는 현상이 나타나지 않는다면 ARMA 모형을 사용해야 한다. ARMA 모형의 차수 결정은 AIC(Akaike Information Criterion) 등을 사용하여 모수 추정과 동시에 이루어진다.\n",
    "\n",
    "(5) ARMA모형의 모수 추정\n",
    "\n",
    "ARMA모형의 차수가 결정되면 ADF(Augmented Dickey Fuller) 검정을 사용하여 해당 수식에 대한 계수 즉 모수 값을 추정한다.\n",
    "\n",
    "(6) 모형 진단\n",
    "\n",
    "모형이 추정된 다음에는 진단(diagnosis) 과정을 통해 추정이 올바르게 이루어졌는지 검증한다. 기본적으로 잔차(residual)가 백색 잡음이 되어야 하므로 잔차에 대해 다음을 조사한다.\n",
    "\n",
    "    1. 잔차의 정규성 검정\n",
    "    2. 잔차의 ACF 분석 혹은 Ljung-Box 검정"
   ]
  },
  {
   "cell_type": "markdown",
   "metadata": {},
   "source": [
    "#### [요약]    확률 과정 모형을 추정하는 방법\n",
    "\n",
    "(1) 비정상 과정에서 정상 과정 추출\n",
    "\n",
    "   + 결정론적 추세나 확률적 추세가 있는지 확인\n",
    "   + 결정론적 추세는 회귀 분석 등으로 분리\n",
    "   + 확률적 추세인 경우 ADF 검정 등으로 적분 차수를 확인하고 차분\n",
    "\n",
    "\n",
    "(2) 정규성 확인\n",
    "\n",
    "   + 정규성 검정을 통해 자료의 분포가 정규 분포인지 확인한다.\n",
    "   + 가능하다면 로그 변환이나 Box-Cox 변환을 사용하여 정규 분포로 변환\n",
    "\n",
    "\n",
    "(3) 정상 과정에 대한 ARMA 모형 차수 결정\n",
    "\n",
    "   + ACF/PACF 분석으로 AR(p) 모형 또는 MA(q) 모형 결정\n",
    "   + ARMA 모형인 경우 모수 추정시 AIC/BIC 값을 이용하여 차수 결정\n",
    "\n",
    "\n",
    "(4) ARMA 모형의 모수 추정\n",
    "\n",
    "   + MM/LS/MLE 등의 방법론으로 모수 추정\n",
    "   + 부트스트래핑을 사용하여 모수의 표준 오차 추정\n",
    "\n",
    "\n",
    "(5) 모형 진단\n",
    "\n",
    "   + 잔차에 대한 정규성 검정\n",
    "   + 잔차에 대한 ACF 분석 또는 Ljung-Box Q 검정으로 모형 차수 재확인"
   ]
  },
  {
   "cell_type": "code",
   "execution_count": null,
   "metadata": {},
   "outputs": [],
   "source": []
  }
 ],
 "metadata": {
  "kernelspec": {
   "display_name": "Python 3",
   "language": "python",
   "name": "python3"
  },
  "language_info": {
   "codemirror_mode": {
    "name": "ipython",
    "version": 3
   },
   "file_extension": ".py",
   "mimetype": "text/x-python",
   "name": "python",
   "nbconvert_exporter": "python",
   "pygments_lexer": "ipython3",
   "version": "3.7.3"
  }
 },
 "nbformat": 4,
 "nbformat_minor": 2
}
