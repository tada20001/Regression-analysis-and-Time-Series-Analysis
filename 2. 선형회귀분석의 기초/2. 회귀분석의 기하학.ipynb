{
 "cells": [
  {
   "cell_type": "markdown",
   "metadata": {},
   "source": [
    "## 회귀 벡터공간\n",
    "\n",
    "선형 회귀분석으로 예측한 값  𝑦̂  는  𝑋 의 각 열  𝑐1,⋯,𝑐𝑀 의 선형조합으로 표현된다.\n",
    "\n",
    "\\begin{aligned}\n",
    "\\hat{y} \n",
    "&= Xw \\\\\n",
    "&= \\begin{bmatrix} c_1 & \\cdots & c_M \\end{bmatrix} \\begin{bmatrix} w_1 \\\\ \\vdots \\\\ w_M \\end{bmatrix} \\\\\n",
    "&= w_1 c_1 + \\cdots + w_M c_M \n",
    "\\end{aligned}\n",
    "\n",
    "모든 열이 선형독립이면 예측값  𝑦̂  는  𝑋 의 각 열  𝑐1,⋯,𝑐𝑀 을 기저벡터(basis vector)로 하는 벡터공간(vector space)위에 존재한다는 것을 알 수 있다.\n",
    "\n",
    "실제 종속변수 데이터  𝑦 와 예측값  𝑦̂  의 차이가 잔차 벡터  𝑒 이다. \n",
    "\n",
    "##### 따라서 잔차 벡터  𝑒 의 크기를 가장 작게 만드는 최적의 예측값  𝑦̂  는 벡터공간내에 존재하면서  𝑦 와 가장 가까운 벡터이다. 이 때 잔차 벡터  𝑒 는 벡터 공간에 직교한다. \n",
    "\n",
    "##### 따라서 예측값 벡터  𝑦̂  는  𝑦 를  𝑋 의 각 열  𝑐1,⋯,𝑐𝑀 을 기저벡터로 하는 벡터공간에 투영(projection)한 벡터이고 잔차 벡터  𝑒 는 투영하고 남은 직교 벡터이다."
   ]
  },
  {
   "cell_type": "markdown",
   "metadata": {},
   "source": [
    "[그림] 회귀 벡터공간 : https://datascienceschool.net/upfiles/6a91ae764e8e4ea89a94c4fa5cb48faa.png"
   ]
  },
  {
   "cell_type": "markdown",
   "metadata": {},
   "source": [
    "## 잔차행렬과 투영행렬\n",
    "\n",
    "벡터  𝑎 에서 다른 벡터  𝑏 를 변형하는 과정은 변형행렬(transforma matrix)  𝑇 를 곱하는 연산으로 나타낼 수 있다.\n",
    "\n",
    "$$b = Ta$$\n",
    "\n",
    "###### 종속값 벡터  𝑦 를 잔차 벡터  𝑒 로 변형하는 변환 행렬  𝑀 를 정의하자. 이 행렬을 잔차행렬(residual matrix)이라고 한다.\n",
    "\n",
    "$$e = My$$"
   ]
  },
  {
   "cell_type": "markdown",
   "metadata": {},
   "source": [
    "##### 종속값 벡터  𝑦 를 예측값 벡터  𝑦̂  로 변형하는 변환 행렬  𝐻 를 정의하자.. 이 행렬을 투영행렬(projection matrix)이라고 한다.\n",
    "\n",
    "$$\\hat{y} = Hy$$"
   ]
  },
  {
   "cell_type": "markdown",
   "metadata": {},
   "source": [
    "잔차행렬은 다음과 같이 구한다.\n",
    "\n",
    "\\begin{aligned}\n",
    "e \n",
    "&= y - \\hat{y} \\\\\n",
    "&= y - Xw \\\\\n",
    "&= y - X(X^TX)^{-1}X^Ty \\\\\n",
    "&= (I - X(X^TX)^{-1}X^T)y \\\\\n",
    "&= My \\\\\n",
    "\\end{aligned}\n",
    "\n",
    "투영행렬은 다음과 같이 구한다.\n",
    "\n",
    "\\begin{aligned}\n",
    "\\hat{y} \n",
    "&= y - e \\\\\n",
    "&= y - My \\\\\n",
    "&= (I - M)y \\\\\n",
    "&= X(X^TX)^{-1}X^T y \\\\\n",
    "&= Hy \\\\\n",
    "\\end{aligned}"
   ]
  },
  {
   "cell_type": "markdown",
   "metadata": {},
   "source": [
    "따라서  𝑀 ,  𝐻 는 각각 다음과 같다.\n",
    "\n",
    "$$H = X(X^TX)^{-1}X^T$$\n",
    "\n",
    "$$M = I - X(X^TX)^{-1}X^T$$"
   ]
  },
  {
   "cell_type": "markdown",
   "metadata": {},
   "source": [
    "투영 행렬은 y로부터  ^ 기호가 붙은  𝑦̂  를 계산한다고 해서 햇(hat) 행렬 또는 영향도 행렬(influence matrix)이라고 부르기도 한다. 영향도 행렬이라는 명칭의 의미는 아웃라이어 분석에서 다시 다룬다."
   ]
  },
  {
   "cell_type": "markdown",
   "metadata": {},
   "source": [
    "잔차 행렬과 투영 행렬은 다음과 같은 성질이 있다.\n",
    "\n",
    "(1) 대칭행렬이다.\n",
    "\n",
    "$$M^T = M$$\n",
    "\n",
    "$$H^T = H$$"
   ]
  },
  {
   "cell_type": "markdown",
   "metadata": {},
   "source": [
    "(2) 곱해도 자기 자신이 되는 행렬이다. 이러한 행렬을 멱등(idempotent)행렬이라고 한다. 멱등행렬은 몇번을 곱해도 자기 자신이 된다.\n",
    "\n",
    "$$M^2 = M$$\n",
    "\n",
    "$$H^2 = H$$"
   ]
  },
  {
   "cell_type": "markdown",
   "metadata": {},
   "source": [
    "(3)  𝑀 과  𝐻 는 서로 직교한다.\n",
    "\n",
    "$$MH = HM = 0$$"
   ]
  },
  {
   "cell_type": "markdown",
   "metadata": {},
   "source": [
    "(4)  𝑀(잔차행렬) 은  𝑋 와 직교한다.\n",
    "\n",
    "$$MX = 0$$"
   ]
  },
  {
   "cell_type": "markdown",
   "metadata": {},
   "source": [
    "(5)  𝑋 에  𝐻 를 곱해도 변하지 않는다. (H는 X에 대해 투영행렬이기 때문)\n",
    "\n",
    "$$HX = X$$"
   ]
  },
  {
   "cell_type": "markdown",
   "metadata": {},
   "source": [
    "위 성질들을 이용하면  𝑦  벡터의 제곱합은 잔차 벡터  𝑒 의 제곱합과 추정치 벡터  𝑦̂  의 제곱합의 합이라는 것을 알 수 있다."
   ]
  },
  {
   "cell_type": "markdown",
   "metadata": {},
   "source": [
    "$$y = \\hat{y} + e = Hy + My = (H + M)y$$\n",
    "\n",
    "\\begin{aligned}\n",
    "y^Ty \n",
    "&= ((H + M)y)^T((H + M)y) \\\\\n",
    "&= y^T (H + M)^T (H + M)y \\\\\n",
    "&= y^T (H + M) (H + M)y \\\\\n",
    "&= y^T (H^2 + MH + HM + M^2)y \\\\\n",
    "&= y^T (H + M) y \\\\\n",
    "&= y^T H y + y^T M y \\\\\n",
    "&= y^T H^2 y + y^T M^2 y \\\\\n",
    "&= y^T H^T H y + y^T M^T M y \\\\\n",
    "&= (Hy)^T (Hy) + (My)^T (My) \\\\\n",
    "&= \\hat{y}^T \\hat{y} + e^T e \\\\\n",
    "\\end{aligned}\n",
    "\n",
    "이 관계식은 나중에 분산 분석(ANOVA)에 사용된다."
   ]
  },
  {
   "cell_type": "code",
   "execution_count": null,
   "metadata": {},
   "outputs": [],
   "source": []
  }
 ],
 "metadata": {
  "kernelspec": {
   "display_name": "Python 3",
   "language": "python",
   "name": "python3"
  },
  "language_info": {
   "codemirror_mode": {
    "name": "ipython",
    "version": 3
   },
   "file_extension": ".py",
   "mimetype": "text/x-python",
   "name": "python",
   "nbconvert_exporter": "python",
   "pygments_lexer": "ipython3",
   "version": "3.5.1"
  }
 },
 "nbformat": 4,
 "nbformat_minor": 2
}
