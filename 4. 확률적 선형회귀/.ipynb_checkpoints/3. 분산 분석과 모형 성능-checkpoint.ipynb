{
 "cells": [
  {
   "cell_type": "markdown",
   "metadata": {},
   "source": [
    "## 분산 분석\n",
    "\n",
    "###### 선형회귀분석의 결과가 얼마나 좋은지는 단순히 잔차제곱합(RSS: Residula Sum of Square)으로 평가할 수 없다. \n",
    "\n",
    "[ 변수의 단위 즉, 스케일이 달라지면 회귀분석과 상관없이 잔차제곱합도 달라지기 때문이다. ]\n",
    "\n",
    "#### 분산 분석(ANOVA: Analysis of Variance)은 종속변수의 분산과 독립변수의 분산간의 관계를 사용하여 선형회귀분석의 성능을 평가하고자 하는 방법이다. \n",
    "\n",
    "#### 분산 분석은 서로 다른 두 개의 선형회귀분석의 성능 비교에 응용할 수 있으며 독립변수가 카테고리 변수인 경우 각 카테고리 값에 따른 영향을 정량적으로 분석하는데도 사용된다.\n",
    "\n",
    "𝑦¯ 를 종속 변수  𝑦 의 샘플 평균이라고 하자.\n",
    "\n",
    "$$\\bar{y}=\\frac{1}{N}\\sum_{i=1}^N y_i$$"
   ]
  },
  {
   "cell_type": "markdown",
   "metadata": {},
   "source": [
    "종속 변수  𝑦 의 분산(샘플의 갯수로 나누지 않았으므로 정확하게는 분산이 아니지만 여기에서는 분산이라는 용어를 사용하자)을 나타내는 TSS(total sum of square)라는 값을 정의한다. \n",
    "\n",
    "##### TSS는 종속변수값의 움직임의 범위를 나타낸다.\n",
    "\n",
    "$$\\text{TSS} = \\sum_{i=1}^N (y_i-\\bar{y})^2 = (y - \\bar{y}1_N)^T(y - \\bar{y}1_N)$$\n",
    "\n",
    "위 식에서  𝑦¯1𝑁 는  𝑦¯ 이라는 스칼라가  𝑁 번 반복된 브로드캐스팅 벡터다.\n",
    "\n",
    "##### 마찬가지로 회귀 분석에 의해 예측한 값  𝑦̂  의 분산을 나타내는 ESS(explained sum of squares),\n",
    "\n",
    "$$\\text{ESS}=\\sum_{i=1}^N (\\hat{y}_i -\\bar{\\hat{y}})^2 = (\\hat{y} - \\bar{\\hat{y}}1_N)^T(\\hat{y} - \\bar{\\hat{y}}1_N)$$\n",
    "\n",
    "##### 잔차  𝑒 의 분산을 나타내는 RSS(residual sum of squares)도 정의할 수 있다.\n",
    "\n",
    "$$\\text{RSS}=\\sum_{i=1}^N (y_i - \\hat{y}_i)^2\\ = e^Te$$"
   ]
  },
  {
   "cell_type": "markdown",
   "metadata": {},
   "source": [
    "위 식에서  𝑦̂ ¯ 는 모형 예측값  𝑦̂  의 평균이다.\n",
    "\n",
    "또한 ESS는 모형에서 나온 예측값의 움직임의 범위, RSS는 잔차의 움직임의 범위, 즉 오차의 크기를 뜻한다고 볼 수 있다.\n",
    "\n",
    "만약 회귀모형이 상수항을 포함하여 올바르게 정의되었다면 잔차의 평균이 0이 된다. 즉, 종속변수의 평균과 모형 예측값의 평균이 같다.\n",
    "\n",
    "$$\\bar{e} = \\bar{y} - \\bar{\\hat{y}} = 0$$\n",
    "\n",
    "$$\\bar{y} = \\bar{\\hat{y}}$$"
   ]
  },
  {
   "cell_type": "markdown",
   "metadata": {},
   "source": [
    "그리고 이 분산값들 간에는 다음과 같은 관계가 성립한다.\n",
    "\n",
    "$$\\text{TSS} = \\text{ESS} + \\text{RSS}$$\n",
    "\n",
    "이는 다음과 같이 증명할 수 있다.\n",
    "\n",
    "우선 회귀 분석으로 구한 가중치 벡터를  𝑤̂  , 독립 변수(설명 변수)  𝑥 에 의한 종속 변수의 추정값을  𝑦̂  , 잔차를  𝑒  라고 하면 다음 식이 성립한다.\n",
    "\n",
    "$$y = X\\hat{w} + e = \\hat{y} + e$$\n"
   ]
  },
  {
   "cell_type": "markdown",
   "metadata": {},
   "source": [
    "그리고  𝑋 의 평균 데이터  𝑥¯ \n",
    "\n",
    "$$\\bar{x} = \\frac{1}{N}X^T1_N$$\n",
    "\n",
    "에 대한 예측값은  𝑦 의 평균데이터  𝑦¯ 가 되므로\n",
    "\n",
    "$$\\bar{x}^T\\hat{w} = \\bar{y}$$"
   ]
  },
  {
   "cell_type": "markdown",
   "metadata": {},
   "source": [
    "각 행의 값이 평균 데이터  𝑥¯ 로 반복되는 행렬  𝑋¯\n",
    "\n",
    "$$\\bar{X} = \\frac{1}{N}X^T1_N 1_N^T$$\n",
    "\n",
    "에 대한 예측값 벡터는  𝑦¯ 값이 반복되는 벡터가 된다.\n",
    "\n",
    "$$\\bar{X}\\hat{w} = \\bar{y}1_N$$\n",
    "\n",
    "이를 위 식에 대입하면\n",
    "\n",
    "$$\\hat{y} - \\bar{y}1_N  = (X- \\bar{X})\\hat{w}$$\n",
    "\n",
    "가 된다.\n",
    "\n",
    "그런데  𝑋¯ 와 잔차  𝑒 는 다음과 같은 직교 관계가 성립한다.\n",
    "\n",
    "$$\\bar{X}^Te = \\frac{1}{N}X^T1_N 1_N^Te = \\frac{1}{N}X^T1_N 0 = 0$$\n",
    "\n",
    "직교방정식\n",
    "\n",
    "$$X^Te = 0$$\n",
    "\n",
    "과 합치면 다음 식이 성립한다.\n",
    "\n",
    "$$\\bar{X}^Te - X^Te = (\\bar{X} - X)^Te$$"
   ]
  },
  {
   "cell_type": "markdown",
   "metadata": {},
   "source": [
    "따라서\n",
    "\n",
    "\\begin{eqnarray}\n",
    "\\text{TSS} \n",
    "&=& (y - \\bar{y}1_N)^T(y - \\bar{y}1_N) \\\\\n",
    "&=& (\\hat{y} - \\bar{y}1_N + e)^T(\\hat{y} - \\bar{y}1_N + e) \\\\\n",
    "&=& (\\hat{y} - \\bar{y}1_N)^T(\\hat{y} - \\bar{y}1_N) + e^Te + 2(\\hat{y} - \\bar{y}1_N)^Te \\\\\n",
    "&=& (\\hat{y} - \\bar{y}1_N)^T(\\hat{y} - \\bar{y}1_N) + e^Te + 2\\hat{w}^T(X - \\bar{X})^Te \\\\\n",
    "&=& (\\hat{y} - \\bar{y}1_N)^T(\\hat{y} - \\bar{y}1_N) + e^Te \\\\\n",
    "&=& \\text{ESS} + \\text{RSS}\n",
    "\\end{eqnarray}\n",
    "\n",
    "위 식이 말하는 바는 다음과 같다.\n",
    "\n",
    "#### 모형 예측치의 움직임의 크기(분산)은 종속변수의 움직임의 크기(분산)보다 클 수 없다.\n",
    "\n",
    "#### 모형의 성능이 좋을수록 모형 예측치의 움직임의 크기는 종속변수의 움직임의 크기와 비슷해진다."
   ]
  },
  {
   "cell_type": "markdown",
   "metadata": {},
   "source": [
    "간단한 1차원 데이터와 모형을 사용하여 이 식이 성립하는지 살펴보자."
   ]
  },
  {
   "cell_type": "code",
   "execution_count": 2,
   "metadata": {},
   "outputs": [],
   "source": [
    "from sklearn.datasets import make_regression\n",
    "import pandas as pd\n",
    "import statsmodels.api as sm\n",
    "\n",
    "X0, y, coef = make_regression(n_samples=100, n_features=1, noise=30, coef=True, random_state=0)\n",
    "dfX0 = pd.DataFrame(X0, columns=[\"X\"])\n",
    "dfX = sm.add_constant(dfX0)\n",
    "dfy = pd.DataFrame(y, columns=[\"Y\"])\n",
    "df = pd.concat([dfX, dfy], axis=1)"
   ]
  },
  {
   "cell_type": "code",
   "execution_count": 3,
   "metadata": {},
   "outputs": [],
   "source": [
    "model = sm.OLS.from_formula(\"Y ~ X\", data=df)\n",
    "result = model.fit()"
   ]
  },
  {
   "cell_type": "markdown",
   "metadata": {},
   "source": [
    "RegressionResult 타입 객체는 다음과 같이 분산분석과 관련된 속성값을 가진다."
   ]
  },
  {
   "cell_type": "code",
   "execution_count": 5,
   "metadata": {},
   "outputs": [
    {
     "name": "stdout",
     "output_type": "stream",
     "text": [
      "TSS(y의 움직임의 범위) =  291345.7578983061\n",
      "ESS(예측한 값 𝑦̂ 의 분산) =  188589.61349210914\n",
      "RSS(잔차 𝑒 의 분산) =  102754.33755137536\n",
      "ESS + RSS =  291343.9510434845\n",
      "R squared =  0.6473091780922584\n"
     ]
    }
   ],
   "source": [
    "print(\"TSS(y의 움직임의 범위) = \", result.uncentered_tss)\n",
    "print(\"ESS(예측한 값 𝑦̂ 의 분산) = \", result.mse_model)\n",
    "print(\"RSS(잔차 𝑒 의 분산) = \", result.ssr)\n",
    "print(\"ESS + RSS = \", result.mse_model + result.ssr)\n",
    "print(\"R squared = \", result.rsquared)"
   ]
  },
  {
   "cell_type": "code",
   "execution_count": 7,
   "metadata": {},
   "outputs": [],
   "source": [
    "import matplotlib.pylab as plt\n",
    "import matplotlib as mpl\n",
    "import matplotlib.font_manager as fm\n",
    "import seaborn as sns\n",
    "import numpy as np\n",
    "\n",
    "sns.set_style(\"whitegrid\")\n",
    "mpl.rcParams['axes.unicode_minus'] = False\n",
    "plt.rcParams['font.size'] = 12\n",
    "\n",
    "path = \"/Library/Fonts/NanumGothic.otf\"\n",
    "font_name = fm.FontProperties(fname=path, size=20).get_name()\n",
    "\n",
    "plt.rc('font', family=font_name)"
   ]
  },
  {
   "cell_type": "code",
   "execution_count": 10,
   "metadata": {},
   "outputs": [
    {
     "data": {
      "image/png": "[encoded data removed]",
      "text/plain": [
       "<Figure size 432x288 with 1 Axes>"
      ]
     },
     "metadata": {},
     "output_type": "display_data"
    }
   ],
   "source": [
    "import scipy as sp\n",
    "\n",
    "sns.distplot(y, kde=False, fit=sp.stats.norm, hist_kws={\"color\": \"r\", \"alpha\": 0.1}, fit_kws={\"color\": \"r\"}, label=\"TSS\")\n",
    "sns.distplot(result.fittedvalues, kde=False, hist_kws={\"color\": \"g\", \"alpha\": 0.1}, fit=sp.stats.norm, fit_kws={\"color\": \"g\"}, label=\"ESS\")\n",
    "sns.distplot(result.resid, kde=False, hist_kws={\"color\": \"b\", \"alpha\": 0.1}, fit=sp.stats.norm, fit_kws={\"color\": \"b\"}, label=\"RSS\")\n",
    "\n",
    "plt.legend()\n",
    "plt.show()"
   ]
  },
  {
   "cell_type": "markdown",
   "metadata": {},
   "source": [
    "## 결정계수(Coefficient of Determination)\n",
    "\n",
    "위의 분산 관계식에서 \n",
    "#### 모형의 성능을 나타내는 결정계수(Coefficient of Determination)  𝑅2 를 정의할 수 있다.\n",
    "\n",
    "$$R^2 \\equiv 1 - \\dfrac{\\text{RSS}}{\\text{TSS}}\\ = \\dfrac{\\text{ESS}}{\\text{TSS}}\\$$\n",
    "\n",
    "분산 관계식과 모든 분산값이 0보다 크다는 점을 이용하면  𝑅2 의 값은 다음과 같은 조건을 만족함을 알 수 있다.\n",
    "\n",
    "$$0 \\leq R^2  \\leq 1$$\n",
    "\n",
    "여기에서  𝑅2 가 0이라는 것은 오차의 분산 RSS가 최대이고 회귀분석 예측값의 분산 ESS가 0인 경우이므로 회귀분석 결과가 아무런 의미가 없다는 뜻이다. 반대로  𝑅2 가 1이라는 것은 오차의 분산 RSS가 0이고 회귀분석 예측의 분산 ESS가 TSS와 같은 경우이므로 회귀분석 결과가 완벽하다는 뜻이다. 따라서 결정계수값은 회귀분석의 성능을 나타내는 수치라고 할 수 있다."
   ]
  },
  {
   "cell_type": "markdown",
   "metadata": {},
   "source": [
    "## 분산 분석표\n",
    "\n",
    "분산 분석의 결과는 보통 다음과 같은 분산 분석표를 사용하여 표시한다. 아래의 표에서  𝑁 은 데이터의 갯수,  𝐾 는 모수의 갯수를 뜻한다."
   ]
  },
  {
   "cell_type": "raw",
   "metadata": {},
   "source": [
    "source\t    degree of freedom\tsum of square\tmean square\t   F test-statstics\t    p-value\n",
    "\n",
    "Regression\t       𝐾−1               ESS        𝑠2𝑦̂ =ESS𝐾−1         𝐹=𝑠2𝑦̂ 𝑠2𝑒        p-value\n",
    "\n",
    "Residual\t       𝑁−𝐾               RSS        𝑠2𝑒=RSS𝑁−𝐾\n",
    "\n",
    "Total\t           𝑁−1               TSS        𝑠2𝑦=TSS𝑁−1\n",
    " \n",
    "𝑅2 \t\t                         ESS/TSS"
   ]
  },
  {
   "cell_type": "markdown",
   "metadata": {},
   "source": [
    "## 회귀 분석 F-검정과 분산 분석의 관계\n",
    "\n",
    "이러한 모양의 표를 사용하는 이유는 분산 분석의 결과를 이용하여 회귀 분석 F-검정에 필요한 검정통계량을 구할 수 있기 때문이다.\n",
    "\n",
    "회귀 분석 F-검정의 원래 귀무 가설은 모든 계수  𝑤𝑖 가  0  이라는 것이지만 이 때는 모형이 아무런 의미가 없으므로 결정계수 값도 0이 된다.\n",
    "\n",
    "$$H_0: R^2 = 0$$"
   ]
  },
  {
   "cell_type": "markdown",
   "metadata": {},
   "source": [
    "이 때  𝑤̂  값은 기대값이 0인 정규 분포에서 나온 표본이므로 예측값  𝑦̂ =𝑤̂ 𝑇𝑥 는 정규 분포의 선형 조합이라서 마찬가지로 정규 분포를 따른다. 그리고 잔차(residual)는 오차(disturbance)의 선형 변환으로 정규 분포를 따르므로 ESS와 RSS의 비율은 F 분포를 따른다.\n",
    "\n",
    "$$\\dfrac{\\text{ESS}}{K-1} \\div  \\dfrac{\\text{RSS}}{N-K} \\sim F(K-1, N-K)$$"
   ]
  },
  {
   "cell_type": "markdown",
   "metadata": {},
   "source": [
    "#### 이 값을 회귀 분석 F-검정의 검정통계량으로 사용할 수 있다.\n",
    "\n",
    "#### statsmodels 에서는 다음과 같이 anova_lm 명령을 사용하여 분산 분석표를 출력할 수 있다. \n",
    "#### 다만 이 명령을 사용하기 위해서는 모형을 from_formula 메서드로 생성하여야 한다.\n",
    "\n",
    "anova_lm 명령으로 구한 F 검정통계량과 유의확률은 모형 summary 명령으로 구한 F-statistic 및 Prob (F-statistic)과 일치한다."
   ]
  },
  {
   "cell_type": "code",
   "execution_count": 11,
   "metadata": {},
   "outputs": [
    {
     "data": {
      "text/html": [
       "<div>\n",
       "<style scoped>\n",
       "    .dataframe tbody tr th:only-of-type {\n",
       "        vertical-align: middle;\n",
       "    }\n",
       "\n",
       "    .dataframe tbody tr th {\n",
       "        vertical-align: top;\n",
       "    }\n",
       "\n",
       "    .dataframe thead th {\n",
       "        text-align: right;\n",
       "    }\n",
       "</style>\n",
       "<table border=\"1\" class=\"dataframe\">\n",
       "  <thead>\n",
       "    <tr style=\"text-align: right;\">\n",
       "      <th></th>\n",
       "      <th>df</th>\n",
       "      <th>sum_sq</th>\n",
       "      <th>mean_sq</th>\n",
       "      <th>F</th>\n",
       "      <th>PR(&gt;F)</th>\n",
       "    </tr>\n",
       "  </thead>\n",
       "  <tbody>\n",
       "    <tr>\n",
       "      <th>X</th>\n",
       "      <td>1.0</td>\n",
       "      <td>188589.613492</td>\n",
       "      <td>188589.613492</td>\n",
       "      <td>179.863766</td>\n",
       "      <td>6.601482e-24</td>\n",
       "    </tr>\n",
       "    <tr>\n",
       "      <th>Residual</th>\n",
       "      <td>98.0</td>\n",
       "      <td>102754.337551</td>\n",
       "      <td>1048.513648</td>\n",
       "      <td>NaN</td>\n",
       "      <td>NaN</td>\n",
       "    </tr>\n",
       "  </tbody>\n",
       "</table>\n",
       "</div>"
      ],
      "text/plain": [
       "            df         sum_sq        mean_sq           F        PR(>F)\n",
       "X          1.0  188589.613492  188589.613492  179.863766  6.601482e-24\n",
       "Residual  98.0  102754.337551    1048.513648         NaN           NaN"
      ]
     },
     "execution_count": 11,
     "metadata": {},
     "output_type": "execute_result"
    }
   ],
   "source": [
    "sm.stats.anova_lm(result)"
   ]
  },
  {
   "cell_type": "code",
   "execution_count": 12,
   "metadata": {},
   "outputs": [
    {
     "name": "stdout",
     "output_type": "stream",
     "text": [
      "                            OLS Regression Results                            \n",
      "==============================================================================\n",
      "Dep. Variable:                      Y   R-squared:                       0.647\n",
      "Model:                            OLS   Adj. R-squared:                  0.644\n",
      "Method:                 Least Squares   F-statistic:                     179.9\n",
      "Date:                Thu, 15 Aug 2019   Prob (F-statistic):           6.60e-24\n",
      "Time:                        00:50:34   Log-Likelihood:                -488.64\n",
      "No. Observations:                 100   AIC:                             981.3\n",
      "Df Residuals:                      98   BIC:                             986.5\n",
      "Df Model:                           1                                         \n",
      "Covariance Type:            nonrobust                                         \n",
      "==============================================================================\n",
      "                 coef    std err          t      P>|t|      [0.025      0.975]\n",
      "------------------------------------------------------------------------------\n",
      "Intercept     -2.4425      3.244     -0.753      0.453      -8.880       3.995\n",
      "X             43.0873      3.213     13.411      0.000      36.712      49.463\n",
      "==============================================================================\n",
      "Omnibus:                        3.523   Durbin-Watson:                   1.984\n",
      "Prob(Omnibus):                  0.172   Jarque-Bera (JB):                2.059\n",
      "Skew:                          -0.073   Prob(JB):                        0.357\n",
      "Kurtosis:                       2.312   Cond. No.                         1.06\n",
      "==============================================================================\n",
      "\n",
      "Warnings:\n",
      "[1] Standard Errors assume that the covariance matrix of the errors is correctly specified.\n"
     ]
    }
   ],
   "source": [
    "print(result.summary())"
   ]
  },
  {
   "cell_type": "markdown",
   "metadata": {},
   "source": [
    "## 결정 계수와 상관 계수\n",
    "\n",
    "𝑦 와  𝑦̂  의 샘플 상관계수  𝑟 의 제곱은 결정 계수  𝑅2 와 같다."
   ]
  },
  {
   "cell_type": "code",
   "execution_count": 13,
   "metadata": {},
   "outputs": [
    {
     "data": {
      "image/png": "[encoded data removed]",
      "text/plain": [
       "<Figure size 432x432 with 3 Axes>"
      ]
     },
     "metadata": {},
     "output_type": "display_data"
    }
   ],
   "source": [
    "sns.jointplot(result.fittedvalues, y) # ESS(예측한 값 𝑦̂ 의 분산)\n",
    "plt.show()"
   ]
  },
  {
   "cell_type": "markdown",
   "metadata": {},
   "source": [
    "## 상수항이 없는 모형의 경우\n",
    "\n",
    "모형에서 상수항을 지정하지 않은 경우에는 결정계수의 정의에 사용되는 TSS의 정의가 다음과 같이 달라진다.\n",
    "\n",
    "$$\\text{TSS} = \\sum_i y_i^2 = y^Ty$$\n",
    "\n",
    "즉, 실제 샘플평균과 상관없이  𝑦¯= 이라는 가정하에 TSS를 계산한다. 이렇게 정의하지 않으면 TSS = RSS + ESS 관계식이 성립하지 않아서 결정계수의 값이 1보다 커지게 된다.\n",
    "\n",
    "#### 따라서 모형의 결정계수를 비교할 때 상수항이 없는 모형과 상수항이 있는 모형은 직접 비교하면 안된다."
   ]
  },
  {
   "cell_type": "code",
   "execution_count": 14,
   "metadata": {},
   "outputs": [],
   "source": [
    "X0, y, coef = make_regression(n_samples=100, n_features=1, noise=30, bias=100, coef=True, random_state=0)\n",
    "dfX = pd.DataFrame(X0, columns=[\"X\"])\n",
    "dfy = pd.DataFrame(y, columns=[\"Y\"])\n",
    "df = pd.concat([dfX, dfy], axis=1)"
   ]
  },
  {
   "cell_type": "code",
   "execution_count": 15,
   "metadata": {},
   "outputs": [],
   "source": [
    "model2 = sm.OLS.from_formula(\"Y ~ X + 0\", data=df)\n",
    "result2 = model2.fit()"
   ]
  },
  {
   "cell_type": "code",
   "execution_count": 17,
   "metadata": {},
   "outputs": [
    {
     "data": {
      "text/plain": [
       "0.18768724705943896"
      ]
     },
     "execution_count": 17,
     "metadata": {},
     "output_type": "execute_result"
    }
   ],
   "source": [
    "result2.rsquared"
   ]
  },
  {
   "cell_type": "code",
   "execution_count": 22,
   "metadata": {},
   "outputs": [],
   "source": [
    "X0, y, coef = make_regression(n_samples=100, n_features=1, noise=30, coef=True, random_state=0)\n",
    "dfX0 = pd.DataFrame(X0, columns=[\"X\"])\n",
    "dfX = sm.add_constant(dfX0)\n",
    "dfy = pd.DataFrame(y, columns=[\"Y\"])\n",
    "df = pd.concat([dfX, dfy], axis=1)\n",
    "\n",
    "model3 = sm.OLS.from_formula(\"Y ~ X + 0\", data=df)\n",
    "result3 = model3.fit()"
   ]
  },
  {
   "cell_type": "code",
   "execution_count": 23,
   "metadata": {},
   "outputs": [
    {
     "data": {
      "text/plain": [
       "0.6452708022519704"
      ]
     },
     "execution_count": 23,
     "metadata": {},
     "output_type": "execute_result"
    }
   ],
   "source": [
    "result3.rsquared"
   ]
  },
  {
   "cell_type": "markdown",
   "metadata": {},
   "source": [
    "## F 검정을 이용한 모형 비교\n",
    "\n",
    "F 검정을 이용하면 다음과 같이 \n",
    "#### 포함관계(nesting)에 있는 두 모형의 성능을 비교할 수 있다.\n",
    "\n",
    "+ 전체 모형(Full Model):\n",
    "\n",
    "$$y = w_0 + w_1 x_1 + w_2 x_2 + w_3 x_3$$\n",
    "\n",
    "+ 축소 모형(Reduced Model):\n",
    "\n",
    "$$y = w_0 + w_1 x_1$$"
   ]
  },
  {
   "cell_type": "markdown",
   "metadata": {},
   "source": [
    "다음과 같은 귀무 가설을 검정하는 것은 위의 두 모형이 실질적으로 같은 모형이라는 가설을 검장하는 것과 같다.\n",
    "\n",
    "$$H_0: w_2 = w_3 = 0$$"
   ]
  },
  {
   "cell_type": "markdown",
   "metadata": {},
   "source": [
    "이 검정도 F 검정을 사용하여 할 수 있다. StatsModels에서는 anova_lm 명령에 두 모형의 result 객체를 인수로 넣어주면 이러한 검정을 할 수 있다. 인수를 넣어줄 때는 축소 모형(reduced model), 전체 모형(full model)의 순서로 넣어준다."
   ]
  },
  {
   "cell_type": "code",
   "execution_count": 25,
   "metadata": {},
   "outputs": [],
   "source": [
    "from sklearn.datasets import load_boston\n",
    "\n",
    "boston = load_boston()\n",
    "dfX0_boston = pd.DataFrame(boston.data, columns=boston.feature_names)\n",
    "dfy_boston = pd.DataFrame(boston.target, columns=[\"MEDV\"])\n",
    "dfX_boston = sm.add_constant(dfX0_boston)\n",
    "df_boston = pd.concat([dfX_boston, dfy_boston], axis=1)"
   ]
  },
  {
   "cell_type": "code",
   "execution_count": 26,
   "metadata": {},
   "outputs": [],
   "source": [
    "model_full = sm.OLS.from_formula(\"MEDV ~ CRIM + ZN + INDUS + NOX + RM + AGE + DIS + RAD + TAX + PTRATIO + B + LSTAT + CHAS\", data=df_boston)\n",
    "model_reduced = sm.OLS.from_formula(\"MEDV ~ CRIM + ZN + NOX + RM + DIS + RAD + TAX + PTRATIO + B + LSTAT + CHAS\", data=df_boston)"
   ]
  },
  {
   "cell_type": "code",
   "execution_count": 28,
   "metadata": {},
   "outputs": [
    {
     "data": {
      "text/html": [
       "<div>\n",
       "<style scoped>\n",
       "    .dataframe tbody tr th:only-of-type {\n",
       "        vertical-align: middle;\n",
       "    }\n",
       "\n",
       "    .dataframe tbody tr th {\n",
       "        vertical-align: top;\n",
       "    }\n",
       "\n",
       "    .dataframe thead th {\n",
       "        text-align: right;\n",
       "    }\n",
       "</style>\n",
       "<table border=\"1\" class=\"dataframe\">\n",
       "  <thead>\n",
       "    <tr style=\"text-align: right;\">\n",
       "      <th></th>\n",
       "      <th>df_resid</th>\n",
       "      <th>ssr</th>\n",
       "      <th>df_diff</th>\n",
       "      <th>ss_diff</th>\n",
       "      <th>F</th>\n",
       "      <th>Pr(&gt;F)</th>\n",
       "    </tr>\n",
       "  </thead>\n",
       "  <tbody>\n",
       "    <tr>\n",
       "      <th>0</th>\n",
       "      <td>494.0</td>\n",
       "      <td>11081.363952</td>\n",
       "      <td>0.0</td>\n",
       "      <td>NaN</td>\n",
       "      <td>NaN</td>\n",
       "      <td>NaN</td>\n",
       "    </tr>\n",
       "    <tr>\n",
       "      <th>1</th>\n",
       "      <td>492.0</td>\n",
       "      <td>11078.784578</td>\n",
       "      <td>2.0</td>\n",
       "      <td>2.579374</td>\n",
       "      <td>0.057274</td>\n",
       "      <td>0.944342</td>\n",
       "    </tr>\n",
       "  </tbody>\n",
       "</table>\n",
       "</div>"
      ],
      "text/plain": [
       "   df_resid           ssr  df_diff   ss_diff         F    Pr(>F)\n",
       "0     494.0  11081.363952      0.0       NaN       NaN       NaN\n",
       "1     492.0  11078.784578      2.0  2.579374  0.057274  0.944342"
      ]
     },
     "execution_count": 28,
     "metadata": {},
     "output_type": "execute_result"
    }
   ],
   "source": [
    "sm.stats.anova_lm(model_reduced.fit(), model_full.fit())"
   ]
  },
  {
   "cell_type": "markdown",
   "metadata": {},
   "source": [
    "유의확률이 94% 이므로 귀무가설인 w2=w3=0을 기각할 수 없다. AGE와 INDUS는 없어도 같은 결과를 갖는다고 할 수 있다."
   ]
  },
  {
   "cell_type": "markdown",
   "metadata": {},
   "source": [
    "## F 검정을 사용한 변수 중요도 비교\n",
    "\n",
    "#### F 검정은 각 독립변수의 중요도를 비교하기 위해 사용할 수 있다. \n",
    "\n",
    "방법은 전체 모형과 각 변수 하나만을 뺀 모형들의 성능을 비교하는 것이다. 이는 간접적으로 각 독립 변수의 영향력을 측정하는 것과 같다. 예를 들어 보스턴 집값 데이터에서 CRIM이란 변수를 뺀 모델과 전체 모델의 비교하는 검정을 하면 이 검정 결과는 CRIM변수의 중요도를 나타낸다."
   ]
  },
  {
   "cell_type": "code",
   "execution_count": 51,
   "metadata": {},
   "outputs": [],
   "source": [
    "feature_names = list(boston.feature_names)\n",
    "model_full = sm.OLS.from_formula(\"MEDV ~ \" + \" + \".join(name for name in feature_names), data=df_boston)"
   ]
  },
  {
   "cell_type": "code",
   "execution_count": 52,
   "metadata": {},
   "outputs": [],
   "source": [
    "feature_names.remove(\"CRIM\")\n",
    "model_reduced = sm.OLS.from_formula(\"MEDV ~ \" + \" + \".join(name for name in feature_names), data=df_boston)"
   ]
  },
  {
   "cell_type": "code",
   "execution_count": 54,
   "metadata": {},
   "outputs": [
    {
     "data": {
      "text/html": [
       "<div>\n",
       "<style scoped>\n",
       "    .dataframe tbody tr th:only-of-type {\n",
       "        vertical-align: middle;\n",
       "    }\n",
       "\n",
       "    .dataframe tbody tr th {\n",
       "        vertical-align: top;\n",
       "    }\n",
       "\n",
       "    .dataframe thead th {\n",
       "        text-align: right;\n",
       "    }\n",
       "</style>\n",
       "<table border=\"1\" class=\"dataframe\">\n",
       "  <thead>\n",
       "    <tr style=\"text-align: right;\">\n",
       "      <th></th>\n",
       "      <th>df_resid</th>\n",
       "      <th>ssr</th>\n",
       "      <th>df_diff</th>\n",
       "      <th>ss_diff</th>\n",
       "      <th>F</th>\n",
       "      <th>Pr(&gt;F)</th>\n",
       "    </tr>\n",
       "  </thead>\n",
       "  <tbody>\n",
       "    <tr>\n",
       "      <th>0</th>\n",
       "      <td>493.0</td>\n",
       "      <td>11322.004277</td>\n",
       "      <td>0.0</td>\n",
       "      <td>NaN</td>\n",
       "      <td>NaN</td>\n",
       "      <td>NaN</td>\n",
       "    </tr>\n",
       "    <tr>\n",
       "      <th>1</th>\n",
       "      <td>492.0</td>\n",
       "      <td>11078.784578</td>\n",
       "      <td>1.0</td>\n",
       "      <td>243.219699</td>\n",
       "      <td>10.801193</td>\n",
       "      <td>0.001087</td>\n",
       "    </tr>\n",
       "  </tbody>\n",
       "</table>\n",
       "</div>"
      ],
      "text/plain": [
       "   df_resid           ssr  df_diff     ss_diff          F    Pr(>F)\n",
       "0     493.0  11322.004277      0.0         NaN        NaN       NaN\n",
       "1     492.0  11078.784578      1.0  243.219699  10.801193  0.001087"
      ]
     },
     "execution_count": 54,
     "metadata": {},
     "output_type": "execute_result"
    }
   ],
   "source": [
    "sm.stats.anova_lm(model_reduced.fit(), model_full.fit())"
   ]
  },
  {
   "cell_type": "markdown",
   "metadata": {},
   "source": [
    "유의확률이 0.1% 이므로 귀무가설인 CRIM = 0을 기각할 수 있다. 즉, CRIM을 무시할 수 없다."
   ]
  },
  {
   "cell_type": "markdown",
   "metadata": {},
   "source": [
    "anova_lm 명령에서는 typ 인수를 2로 지정하면 하나 하나의 변수를 뺀 축소 모형에서의 F 검정값을 한꺼번에 계산할 수 있다."
   ]
  },
  {
   "cell_type": "code",
   "execution_count": 56,
   "metadata": {},
   "outputs": [
    {
     "data": {
      "text/html": [
       "<div>\n",
       "<style scoped>\n",
       "    .dataframe tbody tr th:only-of-type {\n",
       "        vertical-align: middle;\n",
       "    }\n",
       "\n",
       "    .dataframe tbody tr th {\n",
       "        vertical-align: top;\n",
       "    }\n",
       "\n",
       "    .dataframe thead th {\n",
       "        text-align: right;\n",
       "    }\n",
       "</style>\n",
       "<table border=\"1\" class=\"dataframe\">\n",
       "  <thead>\n",
       "    <tr style=\"text-align: right;\">\n",
       "      <th></th>\n",
       "      <th>sum_sq</th>\n",
       "      <th>df</th>\n",
       "      <th>F</th>\n",
       "      <th>PR(&gt;F)</th>\n",
       "    </tr>\n",
       "  </thead>\n",
       "  <tbody>\n",
       "    <tr>\n",
       "      <th>CRIM</th>\n",
       "      <td>243.219699</td>\n",
       "      <td>1.0</td>\n",
       "      <td>10.801193</td>\n",
       "      <td>1.086810e-03</td>\n",
       "    </tr>\n",
       "    <tr>\n",
       "      <th>ZN</th>\n",
       "      <td>257.492979</td>\n",
       "      <td>1.0</td>\n",
       "      <td>11.435058</td>\n",
       "      <td>7.781097e-04</td>\n",
       "    </tr>\n",
       "    <tr>\n",
       "      <th>INDUS</th>\n",
       "      <td>2.516668</td>\n",
       "      <td>1.0</td>\n",
       "      <td>0.111763</td>\n",
       "      <td>7.382881e-01</td>\n",
       "    </tr>\n",
       "    <tr>\n",
       "      <th>CHAS</th>\n",
       "      <td>218.970357</td>\n",
       "      <td>1.0</td>\n",
       "      <td>9.724299</td>\n",
       "      <td>1.925030e-03</td>\n",
       "    </tr>\n",
       "    <tr>\n",
       "      <th>NOX</th>\n",
       "      <td>487.155674</td>\n",
       "      <td>1.0</td>\n",
       "      <td>21.634196</td>\n",
       "      <td>4.245644e-06</td>\n",
       "    </tr>\n",
       "    <tr>\n",
       "      <th>RM</th>\n",
       "      <td>1871.324082</td>\n",
       "      <td>1.0</td>\n",
       "      <td>83.104012</td>\n",
       "      <td>1.979441e-18</td>\n",
       "    </tr>\n",
       "    <tr>\n",
       "      <th>AGE</th>\n",
       "      <td>0.061834</td>\n",
       "      <td>1.0</td>\n",
       "      <td>0.002746</td>\n",
       "      <td>9.582293e-01</td>\n",
       "    </tr>\n",
       "    <tr>\n",
       "      <th>DIS</th>\n",
       "      <td>1232.412493</td>\n",
       "      <td>1.0</td>\n",
       "      <td>54.730457</td>\n",
       "      <td>6.013491e-13</td>\n",
       "    </tr>\n",
       "    <tr>\n",
       "      <th>RAD</th>\n",
       "      <td>479.153926</td>\n",
       "      <td>1.0</td>\n",
       "      <td>21.278844</td>\n",
       "      <td>5.070529e-06</td>\n",
       "    </tr>\n",
       "    <tr>\n",
       "      <th>TAX</th>\n",
       "      <td>242.257440</td>\n",
       "      <td>1.0</td>\n",
       "      <td>10.758460</td>\n",
       "      <td>1.111637e-03</td>\n",
       "    </tr>\n",
       "    <tr>\n",
       "      <th>PTRATIO</th>\n",
       "      <td>1194.233533</td>\n",
       "      <td>1.0</td>\n",
       "      <td>53.034960</td>\n",
       "      <td>1.308835e-12</td>\n",
       "    </tr>\n",
       "    <tr>\n",
       "      <th>B</th>\n",
       "      <td>270.634230</td>\n",
       "      <td>1.0</td>\n",
       "      <td>12.018651</td>\n",
       "      <td>5.728592e-04</td>\n",
       "    </tr>\n",
       "    <tr>\n",
       "      <th>LSTAT</th>\n",
       "      <td>2410.838689</td>\n",
       "      <td>1.0</td>\n",
       "      <td>107.063426</td>\n",
       "      <td>7.776912e-23</td>\n",
       "    </tr>\n",
       "    <tr>\n",
       "      <th>Residual</th>\n",
       "      <td>11078.784578</td>\n",
       "      <td>492.0</td>\n",
       "      <td>NaN</td>\n",
       "      <td>NaN</td>\n",
       "    </tr>\n",
       "  </tbody>\n",
       "</table>\n",
       "</div>"
      ],
      "text/plain": [
       "                sum_sq     df           F        PR(>F)\n",
       "CRIM        243.219699    1.0   10.801193  1.086810e-03\n",
       "ZN          257.492979    1.0   11.435058  7.781097e-04\n",
       "INDUS         2.516668    1.0    0.111763  7.382881e-01\n",
       "CHAS        218.970357    1.0    9.724299  1.925030e-03\n",
       "NOX         487.155674    1.0   21.634196  4.245644e-06\n",
       "RM         1871.324082    1.0   83.104012  1.979441e-18\n",
       "AGE           0.061834    1.0    0.002746  9.582293e-01\n",
       "DIS        1232.412493    1.0   54.730457  6.013491e-13\n",
       "RAD         479.153926    1.0   21.278844  5.070529e-06\n",
       "TAX         242.257440    1.0   10.758460  1.111637e-03\n",
       "PTRATIO    1194.233533    1.0   53.034960  1.308835e-12\n",
       "B           270.634230    1.0   12.018651  5.728592e-04\n",
       "LSTAT      2410.838689    1.0  107.063426  7.776912e-23\n",
       "Residual  11078.784578  492.0         NaN           NaN"
      ]
     },
     "execution_count": 56,
     "metadata": {},
     "output_type": "execute_result"
    }
   ],
   "source": [
    "feature_names = list(boston.feature_names)\n",
    "model_boston = sm.OLS.from_formula(\"MEDV ~ \" + \"+\".join(name for name in feature_names), data=df_boston)\n",
    "result_boston = model_boston.fit()\n",
    "\n",
    "sm.stats.anova_lm(result_boston, typ=2)"
   ]
  },
  {
   "cell_type": "markdown",
   "metadata": {},
   "source": [
    "이 값은 단일 계수 t 검정의 유의확률과 동일하다. 그 이유는 다음과 같은 t 분포와 F 분포의 동치 성질 때문이다.\n",
    "\n",
    "$$t_n^2 = F_{(1, n)}$$"
   ]
  },
  {
   "cell_type": "markdown",
   "metadata": {},
   "source": [
    "LSAT가 F분포 값이 가장 크고, 다음으로 RM의 영향력이 크다고 할 수 있다."
   ]
  },
  {
   "cell_type": "markdown",
   "metadata": {},
   "source": [
    "## 조정 결정 계수\n",
    "\n",
    "선형 회귀 모형에서 독립 변수가 추가되면 결정 계수의 값은 항상 증가한다. 이는 다음과 같이 확인할 수 있다.\n",
    "\n",
    "종속 변수  𝑦 를 회귀 분석하기 위한 기존의 독립 변수가  𝑋 이고 여기에 추가적인 독립 변수  𝑧 가 더해졌을 때, 다음과 같은 관계가 성립한다.\n",
    "\n",
    "$$R^2_{Xz} = R^2_{X} + (1-R^2_{X})r^{\\ast 2}_{yz}$$"
   ]
  },
  {
   "cell_type": "markdown",
   "metadata": {},
   "source": [
    "여기에서\n",
    "\n",
    "+ 𝑅2𝑋 : 기존의 독립 변수  𝑋 를 사용한 경우의 결정 계수\n",
    "+ 𝑅2𝑋𝑧 : 기존의 독립 변수  𝑋 와 추가적인 독립 변수  𝑧 를 모두 사용한 경우의 결정 계수\n",
    "+ 𝑟∗2𝑦𝑧 : 추가적인 독립 변수  𝑧 와 종속 변수  𝑦 간의 상관 관계 계수\n",
    "\n",
    "이고 이 항목들은 모두 양수이므로\n",
    "\n",
    "$$R^2_{Xz} \\geq R^2_{X}$$\n",
    "\n",
    "#### 이러한 독립 변수 추가 효과를 상쇄시키기 위한 다양한 기준들이 제시되었다. \n",
    "\n",
    "#### 그 중 하나가 다음과 같이 독립 변수의 갯수  𝐾 에 따라 결정 계수의 값을 조정하는 조정 결정 계수이다.\n",
    "\n",
    "$$R_{adj}^2 = 1 - \\frac{n-1}{n-K}(1-R^2) = \\dfrac{(n-1)R^2 +1-K}{n-K}$$"
   ]
  },
  {
   "cell_type": "markdown",
   "metadata": {},
   "source": [
    "## 정보량 규준\n",
    "\n",
    "조정 결정 계수와 함께 많이 쓰이는 모형 비교 기준은 최대 우도에 독립 변수의 갯수에 대한 손실(penalty)분을 반영하는 방법이다. 이를 정보량 규준(information criterion)이라고 하며 손실 가중치의 계산 법에 따라 AIC (Akaike Information Criterion)와 BIC (Bayesian Information Criterion) 두 가지를 사용한다.\n",
    "\n",
    "AIC는 모형과 데이터의 확률 분포 사이의 Kullback-Leibler 수준을 가장 크게 하기 위한 시도에서 나왔다. BIC는 데이터가 exponential family라는 가정하에 주어진 데이터에서 모형의 likelihood를 측정하기 위한 값에서 유도되었다. 둘 다 값이 작을 수록 올바른 모형에 가깝다.\n",
    "\n",
    "$$\\text{AIC} = -2\\log L + 2K$$\n",
    "\n",
    "$$\\text{BIC} = -2\\log L + K\\log n$$"
   ]
  },
  {
   "cell_type": "code",
   "execution_count": null,
   "metadata": {},
   "outputs": [],
   "source": []
  }
 ],
 "metadata": {
  "kernelspec": {
   "display_name": "Python 3",
   "language": "python",
   "name": "python3"
  },
  "language_info": {
   "codemirror_mode": {
    "name": "ipython",
    "version": 3
   },
   "file_extension": ".py",
   "mimetype": "text/x-python",
   "name": "python",
   "nbconvert_exporter": "python",
   "pygments_lexer": "ipython3",
   "version": "3.7.3"
  }
 },
 "nbformat": 4,
 "nbformat_minor": 2
}
