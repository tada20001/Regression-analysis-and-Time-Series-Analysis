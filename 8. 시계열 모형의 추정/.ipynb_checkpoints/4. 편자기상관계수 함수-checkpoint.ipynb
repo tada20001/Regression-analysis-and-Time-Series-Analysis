{
 "cells": [
  {
   "cell_type": "markdown",
   "metadata": {},
   "source": [
    "## 편자기상관계수 함수의 정의\n",
    "\n",
    "#### 편자기상관계수 함수(PACF: partial autocorrelation function)는 AR 모형의 차수(order)를 추정하기 위한 방법의 하나이다.\n",
    "\n",
    "일반적인 자기상관계수 함수  𝜌𝑘 는 확률 과정의 시각  𝑡 의 값  𝑌𝑡 와 시각  𝑡−𝑘 의 값  𝑌𝑡−𝑘 의 상관계수를 뜻한다. 편자기상관계수 함수는 이와 달리 두 시각 사이의 값 즉  𝑌𝑡−1,⋯,𝑌𝑡−𝑘+1 의 영향을 배제한다.\n",
    "\n",
    "이 사이 값들의 영향을 없애기 위해 우선  𝑌𝑡  값(종속 변수)과  𝑌𝑡−1,⋯,𝑌𝑡−𝑘+1 라는  𝑘−1 개의 값들(독립 변수) 사이의 선형 회귀 분석을 실시한다.\n",
    "\n",
    "$$\\hat{Y}_t = \\beta_1 Y_{t-1}  + \\beta_2 Y_{t-2}  + \\beta_3 Y_{t-3}  + \\cdots + \\beta_{k-1} Y_{t-k+1}$$\n",
    "\n",
    "이 식에서  𝛽 는 선형 회귀 분석의 결과로 얻어진 계수이다.\n",
    "\n",
    "𝑘=2 인 경우만 따지면 계수  𝛽1=𝜌1 이 된다. 즉,\n",
    "\n",
    "$$\\hat{Y}_t = \\rho_1 Y_{t-1}$$"
   ]
  },
  {
   "cell_type": "markdown",
   "metadata": {},
   "source": [
    "이와 반대 (시간) 방향으로  𝑌𝑡−𝑘  값(종속 변수)과  𝑌𝑡−1,⋯,𝑌𝑡−𝑘+1 라는  𝑘−1 개의 값들(독립 변수) 사이의 선형 회귀 분석을 실시하면 정상 확률 과정의 경우에 결과는 다음과 같다.\n",
    "\n",
    "$$\\hat{Y}_{t-k} = \\beta_1 Y_{t-k+1}  + \\beta_2 Y_{t-k+2}  + \\beta_3 Y_{t-k+3}  + \\cdots + \\beta_{k-1} Y_{t-1}$$\n",
    "\n",
    "위 회귀 분석의 계수가 동일하게 나오는 이유는 정상 확률 과정의 특성때문이다.\n",
    "\n",
    "첫번째 항을 예로 들면 살펴보면,\n",
    "\n",
    "$$\\text{corr}[Y_t, Y_{t-1}] = \\text{corr}[Y_t, Y_{t+1}] = \\text{corr}[Y_{t-k}, Y_{t-k+1}]$$\n",
    "\n",
    "로  𝑌𝑡↔𝑌𝑡−1 의 관계가  𝑌𝑡−𝑘↔𝑌𝑡−𝑘+1 의 관계와 동일하다."
   ]
  },
  {
   "cell_type": "markdown",
   "metadata": {},
   "source": [
    "편자기상관계수 함수  𝜙𝑘 는 위와 같은 선형 회귀 분석으로 얻은 추정치  𝑌̂ 𝑡 ,  𝑌̂ 𝑡−𝑘 를 원래의 값  𝑌𝑡 ,  𝑌𝑡−𝑘  에서 뺀 나머지 값 사이의 자기상관계수 함수로 정의한다. 즉,\n",
    "\n",
    "$$\\phi_{kk} = \\text{corr}[(Y_{t} - \\hat{Y}_t),(Y_{t-k}-\\hat{Y}_{t-k})] \\; \\text{ for } k > 1$$\n",
    "\n",
    "이다.  𝑘=1 인 경우는 1로 정의한다.\n",
    "\n",
    "$$\\phi_{11} = 1$$"
   ]
  },
  {
   "cell_type": "markdown",
   "metadata": {},
   "source": [
    "## AR 모형의 편자기상관계수 함수\n",
    "\n",
    "다음과 같은 AR(p) 모형에 대해\n",
    "\n",
    "$$Y_t = \\phi_1 Y_{t-1} + \\cdots + \\phi_p Y_{t-p} + e_t$$\n",
    "\n",
    "𝑌𝑡  값(종속 변수)과  𝑌𝑡−1,⋯,𝑌𝑡−𝑘+1 라는  𝑘−1 개의 값들(독립 변수) 사이의 선형 회귀 분석을 하면 다음과 같은 결과를 얻는다.\n",
    "\n",
    "𝑘=1 인 경우에는,\n",
    "\n",
    "$$\\hat{Y}_t = \\phi_1 Y_{t-1}$$\n",
    "\n",
    "𝑘=2 인 경우에는,\n",
    "\n",
    "$$\\hat{Y}_t = \\phi_1 Y_{t-1} + \\phi_2 Y_{t-2}$$\n",
    "\n",
    "𝑘<𝑝 인 경우에는,\n",
    "\n",
    "$$\\hat{Y}_t = \\phi_1 Y_{t-1} + \\phi_2 Y_{t-2} + \\cdots + \\phi_k Y_{t-k}$$\n",
    "\n",
    "𝑘≥𝑝 인 경우에는,\n",
    "\n",
    "$$\\hat{Y}_t = \\phi_1 Y_{t-1} + \\phi_2 Y_{t-2} + \\cdots + \\phi_p Y_{t-p} + 0 \\cdot Y_{t-p-1} + \\cdots + 0 \\cdot Y_{t-k}$$"
   ]
  },
  {
   "cell_type": "markdown",
   "metadata": {},
   "source": [
    "이며 이 경우에는 회귀 분석의 잔차항(residual)이 원래의 확률 과정과 아무런 상관관계가 없는 백색 잡음이 된다."
   ]
  },
  {
   "cell_type": "markdown",
   "metadata": {},
   "source": [
    "AR(p) 모형은 정상 과정이므로 시간을 반대 방향으로 해도 같은 결과를 얻을 수 있다. 즉,\n",
    "\n",
    "𝑌𝑡  값(종속 변수)과  𝑌𝑡+1,⋯,𝑌𝑡+𝑘−1 라는  𝑘−1 개의 값들(독립 변수) 사이의 선형 회귀 분석을 하면 다음과 같은 결과를 얻는다.\n",
    "\n",
    "𝑘=1 인 경우에는,\n",
    "\n",
    "$$\\hat{Y}_t = \\phi_1 Y_{t+1}$$\n",
    "\n",
    "𝑘=2 인 경우에는,\n",
    "\n",
    "$$\\hat{Y}_t = \\phi_1 Y_{t+1} + \\phi_2 Y_{t+2}$$\n",
    "\n",
    "𝑘≤𝑝 인 경우에는,\n",
    "\n",
    "$$\\hat{Y}_t = \\phi_1 Y_{t+1} + \\phi_2 Y_{t+2} + \\cdots + \\phi_k Y_{t+k}$$\n",
    "\n",
    "𝑘>𝑝 인 경우에는,\n",
    "\n",
    "$$\\hat{Y}_t = \\phi_1 Y_{t+1} + \\phi_2 Y_{t+2} + \\cdots + \\phi_p Y_{t+p} + 0 \\cdot Y_{t+p+1} + \\cdots + 0 \\cdot Y_{t+k}$$"
   ]
  },
  {
   "cell_type": "markdown",
   "metadata": {},
   "source": [
    "이다.\n",
    "\n",
    "회귀 분석 결과를 알았으니 이제 편자기상관계수를 구해보자.\n",
    "\n",
    "우선 AR(1) 모형을 고려해 보자.\n",
    "\n",
    "$$Y_t = \\phi_1 Y_{t-1} + e_t$$\n",
    "\n",
    "𝑘=1 인 경우, 정의에 의해\n",
    "\n",
    "$$\\phi_{11} = 1$$\n",
    "\n",
    "𝑘=2 인 경우,\n",
    "\n",
    "\\begin{eqnarray}\n",
    "\\phi_{22} \n",
    "&=& \\text{corr}[(Y_{t} - \\hat{Y}_t),(Y_{t-2}-\\hat{Y}_{t-2})]  \\\\\n",
    "&=& \\text{corr}[(Y_{t} -  \\phi_1 Y_{t-1}),(Y_{t-2}-\\phi_1 Y_{t-1})]  \\\\\n",
    "&\\propto& \\text{Cov}[(Y_{t} -  \\phi_1 Y_{t-1}),(Y_{t-2}-\\phi_1 Y_{t-1})]  \\\\\n",
    "&=& \\text{E}[(Y_{t} -  \\phi_1 Y_{t-1})(Y_{t-2}-\\phi_1 Y_{t-1})]  \\\\\n",
    "&=& \\gamma_0(\\rho_2 - \\phi_1 \\rho_1 - \\phi_1 \\rho_1 + \\phi_1^2 \\rho_0 )\\\\\n",
    "\\end{eqnarray}"
   ]
  },
  {
   "cell_type": "markdown",
   "metadata": {},
   "source": [
    "AR(1) 모형의 경우 이론적인 자기상관계수 함수  𝜌𝑘 는 다음과 같이 계산된다.\n",
    "\n",
    "$$\\rho_k = \\phi_1^k$$\n",
    "\n",
    "따라서\n",
    "\n",
    "$$\\rho_2 - \\phi_1 \\rho_1 - \\phi_1 \\rho_1 + \\phi_1^2 \\rho_0 = \\phi_1^2 - \\phi_1 \\cdot \\phi_1 - \\phi_1 \\cdot \\phi_1 + \\phi_1^2 \\cdot 1 = 0$$\n",
    "\n",
    "즉,  𝜙22=0 이다.\n",
    "\n",
    "𝑘=3 인 경우도 마찬가지로  𝜙33=0 이 된다.\n",
    "\n",
    "\\begin{eqnarray}\n",
    "\\phi_{33} \n",
    "&=& \\text{corr}[(Y_{t} - \\hat{Y}_t),(Y_{t-3}-\\hat{Y}_{t-3})]  \\\\\n",
    "&=& \\text{corr}[(Y_{t} - \\phi_1 Y_{t-1}),(Y_{t-3}-\\phi_1Y_{t-2})]  \\\\\n",
    "&\\propto& \\text{Cov}[(Y_{t} - \\phi_1 Y_{t-1}),(Y_{t-3}-\\phi_1Y_{t-2})]  \\\\\n",
    "&=& \\text{E}[(Y_{t} -  \\phi_1 Y_{t-1})(Y_{t-3}-\\phi_1 Y_{t-2})]  \\\\\n",
    "&=& \\gamma_0(\\rho_3 - \\phi_1 \\rho_2 - \\phi_1 \\rho_2 + \\phi_1^2 \\rho_1) \\\\\n",
    "&=& \\gamma_0(\\phi_1^3 - \\phi_1 \\cdot \\phi_2 - \\phi_1 \\cdot \\phi_2 + \\phi_1^2 \\cdot \\phi_1)  \\\\\n",
    "&=& 0\n",
    "\\end{eqnarray}"
   ]
  },
  {
   "cell_type": "markdown",
   "metadata": {},
   "source": [
    "같은 방법으로  𝑘>1 인 모든 경우에 대해  𝜙𝑘𝑘=0 이 된다.\n",
    "\n",
    "같은 방식으로 AR(p) 모형의 경우에는  𝑘>𝑝  인 모든 경우에 대해 편자기상관계수 함수  𝜙𝑘𝑘=0  이 됨을 증명할 수 있다.\n",
    "\n",
    "이는 마치 MA(q) 모형의 경우  𝑘>𝑞  인 모든 경우에 대해 자기상관계수 함수  𝜌𝑘=0  이었던 것과 유사하다."
   ]
  },
  {
   "cell_type": "markdown",
   "metadata": {},
   "source": [
    "## MA 모형의 편자기상관계수 함수\n",
    "\n",
    "MA(q)모형의 경우에는 역으로  𝑘>𝑞 인 경우에도 편자기상관계수 함수  𝜙𝑘𝑘 가 0이 되지 않는다.\n",
    "\n",
    "MA(1)모형을 예로 들어 보자.\n",
    "\n",
    "\n",
    "$$Y_t = e_t - \\theta_1 e_{t-1}$$\n",
    "\n",
    "인 MA(1) 모형의 경우,\n",
    "\n",
    "\\begin{eqnarray}\n",
    "\\phi_{22} \n",
    "&=& \\text{corr}[(Y_{t} - \\hat{Y}_t),(Y_{t-2}-\\hat{Y}_{t-2})]  \\\\\n",
    "&=& \\text{corr}[(Y_{t} - \\rho_1 Y_{t-1}),(Y_{t-2}-\\rho_1 Y_{t-1})]  \\\\\n",
    "&=& \\dfrac{\\text{Cov}[(Y_{t} - \\rho_1 Y_{t-1}),(Y_{t-2}-\\rho_1 Y_{t-1})]}{\\sqrt{\\text{Var}[Y_{t} - \\rho_1 Y_{t-1}]\\text{Var}[Y_{t-2}-\\rho_1 Y_{t-1}]}}  \\\\\n",
    "&=& \\dfrac{\\text{Cov}[(Y_{t} - \\rho_1 Y_{t-1}),(Y_{t-2}-\\rho_1 Y_{t-1})]}{\\text{Var}[Y_{t} - \\rho_1 Y_{t-1}]}  \\\\\n",
    "&=& \\dfrac{\\text{E}[(Y_{t} - \\rho_1 Y_{t-1})(Y_{t-2}-\\rho_1 Y_{t-1})]}{\\text{E}[(Y_{t} - \\rho_1 Y_{t-1})^2]}  \\\\\n",
    "\\end{eqnarray}\n",
    "\n",
    "MA(1)의 성질\n",
    "\n",
    "$$\\text{E}[Y_t^2] = \\sigma_e^2 (1 + \\theta^2)$$\n",
    "\n",
    "$$\\text{E}[Y_t Y_{t-1}] = - \\theta \\sigma_e^2$$\n",
    "\n",
    "$$\\text{E}[Y_t Y_{t-2}] = 0$$\n",
    "\n",
    "$$\\rho_1 = - \\dfrac{\\theta}{1+\\theta^2}$$"
   ]
  },
  {
   "cell_type": "markdown",
   "metadata": {},
   "source": [
    "을 이용하면 이 값은 다음과 같다.\n",
    "\n",
    "$$\\phi_{22} = -\\dfrac{\\theta^2}{1+\\theta^2+\\theta^4} \\neq 0$$\n",
    "\n",
    "𝑘>𝑞 인 경우에 대해 모두 구하면\n",
    "\n",
    "$$\\phi_{kk} = -\\dfrac{\\theta^k(1-\\theta^2)}{1-\\theta^{2(k+1)}}  \\neq 0$$"
   ]
  },
  {
   "cell_type": "markdown",
   "metadata": {},
   "source": [
    "즉 일반적으로 0이 되지 않는다.\n",
    "\n",
    "이 결과를 정리하면 다음과 같다.\n",
    "\n",
    "#### [요약] AR/MA 모형과 ACF/PACF 관계"
   ]
  },
  {
   "cell_type": "raw",
   "metadata": {},
   "source": [
    "        AR(p)\t       MA(q)\n",
    "ACF\t    점차적으로 감소\t시차  𝑞  이후에 0\n",
    "PACF\t시차 𝑝 이후에 0\t  점차적으로 감소"
   ]
  },
  {
   "cell_type": "markdown",
   "metadata": {},
   "source": [
    "+ AR(p)모형은 자기상관계수는 점차적으로 감소하나, 편자기상관계수는 시차 p 이후에는 0으로 수렴된다.\n",
    "+ MA(q)모형은 자기상관계수는 시차 q 이후에 0으로 수렴되나, 편자기상관계는 시차와 상관없이 점차 감소한다."
   ]
  },
  {
   "cell_type": "markdown",
   "metadata": {},
   "source": [
    "## 편자기상관계수 함수의 계산\n",
    "\n",
    "편자기상관계수 함수는 회귀분석을 사용하여 정의되었지만 실제 계산시에는 다음과 같은 특성을 이용하여 더 효율적으로 계산한다.\n",
    "\n",
    "편자기상관계수 함수의 값  𝜙𝑘𝑘 는  𝑌𝑡 를  𝑌𝑡−1,⋯,𝑌𝑡−𝑘 라는  𝑘 개의 값들에 대해 회귀분석한 경우  𝑌𝑡−𝑘 의 계수와 일치한다.\n",
    "\n",
    "$$\\hat{Y}_t = \\phi_{1k} Y_{t-1} + \\phi_{2k} Y_{t-2} + \\phi_{3k} Y_{t-3}  + \\cdots + \\phi_{kk} Y_{t-k}$$\n",
    "\n",
    "여기에  𝑌𝑡−1,⋯,𝑌𝑡−𝑘 를 각각 곱해서 기댓값을 구하면 다음과 같이 Yule-Walker 방정식이 성립한다.\n",
    "\n",
    "\\begin{eqnarray}\n",
    "\\rho_1 &=& \\phi_{k1}\\rho_{0}   &+& \\phi_{k2}\\rho_{-1} &\\cdots& \\phi_{kk}\\rho_{-k+1}  \\\\\n",
    "\\rho_2 &=& \\phi_{k1}\\rho_{1}   &+& \\phi_{k2}\\rho_{0}  &\\cdots& \\phi_{kk}\\rho_{-k+2}  \\\\\n",
    "\\vdots &=& \\vdots              &+& \\vdots             &\\ddots& \\vdots \\\\\n",
    "\\rho_k &=& \\phi_{k1}\\rho_{k-1} &+& \\phi_{k2}\\rho_{k-2}&\\cdots& \\phi_{kk}\\rho_{0}  \\\\\n",
    "\\end{eqnarray}\n",
    "\n",
    "$$\\begin{bmatrix}\n",
    "\\rho_1 \\\\ \\rho_2 \\\\ \\vdots \\\\ \\rho_k \n",
    "\\end{bmatrix}\n",
    "=\n",
    "\\begin{bmatrix}\n",
    "\\rho_{0}   &  \\rho_{-1} & \\cdots & \\rho_{-k+1}  \\\\\n",
    "\\rho_{1}   &  \\rho_{0} & \\cdots & \\rho_{-k+2}  \\\\\n",
    "\\vdots     &  \\vdots    & \\ddots & \\vdots \\\\\n",
    "\\rho_{k-1}   &  \\rho_{k-2} & \\cdots & \\rho_{0}  \\\\\n",
    "\\end{bmatrix}\n",
    "\\begin{bmatrix}\n",
    "\\phi_{k1} \\\\ \\phi_{k2} \\\\ \\vdots \\\\ \\phi_{kk}\n",
    "\\end{bmatrix}$$\n",
    "\n",
    "$$\\begin{bmatrix}\n",
    "\\rho_1 \\\\ \\rho_2 \\\\ \\vdots \\\\ \\rho_k \n",
    "\\end{bmatrix}\n",
    "=\n",
    "\\begin{bmatrix}\n",
    "\\rho_{0}   &  \\rho_{1} & \\cdots & \\rho_{k-1}  \\\\\n",
    "\\rho_{1}   &  \\rho_{0} & \\cdots & \\rho_{k-2}  \\\\\n",
    "\\vdots     &  \\vdots    & \\ddots & \\vdots \\\\\n",
    "\\rho_{k-1}   &  \\rho_{k-2} & \\cdots & \\rho_{0}  \\\\\n",
    "\\end{bmatrix}\n",
    "\\begin{bmatrix}\n",
    "\\phi_{k1} \\\\ \\phi_{k2} \\\\ \\vdots \\\\ \\phi_{kk}\n",
    "\\end{bmatrix}$$"
   ]
  },
  {
   "cell_type": "markdown",
   "metadata": {},
   "source": [
    "Levinson-Durbin 방법을 사용하면 위의 Yule-Walker 방정식을 다음과 같이 재귀적으로 구할 수 있다.\n",
    "\n",
    "$$\\phi_{kk} = \\dfrac{\\rho_k - \\sum_{j=1}^{k-1}\\phi_{k-1,j}\\rho_{k-j}}{1-\\sum_{j=1}^{k-1}\\phi_{k-1,j}\\rho_{j}}$$\n",
    "\n",
    "$$\\phi_{k,j} = \\phi_{k-1,j} - \\phi_{k,k}\\phi_{k-1,k-j}$$"
   ]
  },
  {
   "cell_type": "markdown",
   "metadata": {},
   "source": [
    "## Python에서 편자기상관계수 함수 계산\n",
    "\n",
    "statsmodels.tsa.pacf 함수를 사용하면 시계열 자료의 편자기상관계수 함수를 계산할 수 있다. 플롯을 하려면 statsmodels.graphics.tsa.plot_pacf 를 이용한다."
   ]
  },
  {
   "cell_type": "code",
   "execution_count": 2,
   "metadata": {},
   "outputs": [],
   "source": [
    "import matplotlib.pylab as plt\n",
    "import matplotlib as mpl\n",
    "import matplotlib.font_manager as fm\n",
    "import seaborn as sns\n",
    "import numpy as np\n",
    "\n",
    "sns.set_style(\"darkgrid\")\n",
    "mpl.rcParams['axes.unicode_minus'] = False\n",
    "plt.rcParams['font.size'] = 12\n",
    "\n",
    "path = \"/Library/Fonts/NanumGothic.otf\"\n",
    "font_name = fm.FontProperties(fname=path, size=20).get_name()\n",
    "\n",
    "plt.rc('font', family=font_name)\n"
   ]
  },
  {
   "cell_type": "code",
   "execution_count": 3,
   "metadata": {},
   "outputs": [],
   "source": [
    "import statsmodels.api as sm"
   ]
  },
  {
   "cell_type": "code",
   "execution_count": 4,
   "metadata": {},
   "outputs": [
    {
     "data": {
      "image/png": "[encoded data removed]",
      "text/plain": [
       "<Figure size 432x288 with 1 Axes>"
      ]
     },
     "metadata": {},
     "output_type": "display_data"
    }
   ],
   "source": [
    "# AR(2) 모형 및 샘플 생성\n",
    "np.random.seed(0)\n",
    "\n",
    "p = sm.tsa.ArmaProcess([1, -1.2, 0.3], [1])  # AR(2) 모형\n",
    "y = p.generate_sample(200)\n",
    "plt.plot(y, \"o-\")\n",
    "plt.show()"
   ]
  },
  {
   "cell_type": "code",
   "execution_count": 5,
   "metadata": {},
   "outputs": [
    {
     "data": {
      "text/plain": [
       "array([ 1.        ,  0.954434  , -0.2736326 , -0.00179577,  0.05732259,\n",
       "        0.17734768, -0.04928944,  0.05504672, -0.13653964,  0.01623869,\n",
       "        0.03826421, -0.05072837,  0.12656022, -0.09010451, -0.00482013,\n",
       "       -0.14227634,  0.09523362,  0.05618313,  0.03467563, -0.20119255,\n",
       "       -0.07870102,  0.11652601,  0.04784023,  0.13198976, -0.10725904,\n",
       "       -0.09147749, -0.1107981 , -0.02998764, -0.19292734, -0.19328953,\n",
       "       -0.00497484,  0.00569143,  0.04810996,  0.06388207, -0.21928295,\n",
       "       -0.16083584, -0.04436043, -0.09845151,  0.05537217, -0.10485931,\n",
       "        0.08507789])"
      ]
     },
     "execution_count": 5,
     "metadata": {},
     "output_type": "execute_result"
    }
   ],
   "source": [
    "# 샘플의 편자기상관계수함수 구하기\n",
    "pacf = sm.tsa.pacf(y)\n",
    "pacf"
   ]
  },
  {
   "cell_type": "code",
   "execution_count": 6,
   "metadata": {},
   "outputs": [
    {
     "data": {
      "text/plain": [
       "(41,)"
      ]
     },
     "execution_count": 6,
     "metadata": {},
     "output_type": "execute_result"
    }
   ],
   "source": [
    "pacf.shape"
   ]
  },
  {
   "cell_type": "code",
   "execution_count": 10,
   "metadata": {},
   "outputs": [
    {
     "data": {
      "image/png": "[encoded data removed]",
      "text/plain": [
       "<Figure size 432x288 with 1 Axes>"
      ]
     },
     "metadata": {},
     "output_type": "display_data"
    }
   ],
   "source": [
    "# 샘플의 편자기상관계수함수 그리기\n",
    "sm.graphics.tsa.plot_pacf(y, lags=40)\n",
    "plt.show()"
   ]
  },
  {
   "cell_type": "markdown",
   "metadata": {},
   "source": [
    "PACF 값을 ACF와 비교하면 차이점을 쉽게 볼 수 있다."
   ]
  },
  {
   "cell_type": "code",
   "execution_count": 8,
   "metadata": {},
   "outputs": [
    {
     "data": {
      "image/png": "[encoded data removed]",
      "text/plain": [
       "<Figure size 432x288 with 1 Axes>"
      ]
     },
     "metadata": {},
     "output_type": "display_data"
    }
   ],
   "source": [
    "# 샘플의 자기상관계수함수 그리기\n",
    "sm.graphics.tsa.plot_acf(y, lags=40)\n",
    "plt.show()"
   ]
  },
  {
   "cell_type": "markdown",
   "metadata": {},
   "source": [
    "앞서 요약에서 설명했듯이 AR(p)모형은 자기상관계수는 점차적으로 감소하고 있고, 반대로 편자기상관계수는 0 근처에서 계속 진동하고 있다. 시차 p 이후에는 0으로 수렴될 것이다."
   ]
  },
  {
   "cell_type": "code",
   "execution_count": null,
   "metadata": {},
   "outputs": [],
   "source": []
  }
 ],
 "metadata": {
  "kernelspec": {
   "display_name": "Python 3",
   "language": "python",
   "name": "python3"
  },
  "language_info": {
   "codemirror_mode": {
    "name": "ipython",
    "version": 3
   },
   "file_extension": ".py",
   "mimetype": "text/x-python",
   "name": "python",
   "nbconvert_exporter": "python",
   "pygments_lexer": "ipython3",
   "version": "3.7.3"
  }
 },
 "nbformat": 4,
 "nbformat_minor": 2
}
