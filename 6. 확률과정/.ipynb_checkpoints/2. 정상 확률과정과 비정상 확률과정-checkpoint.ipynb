{
 "cells": [
  {
   "cell_type": "markdown",
   "metadata": {},
   "source": [
    "## 정상 확률과정\n",
    "\n",
    "#### 협의의 정상 확률과정(strictly stationary process, strong stationary process)은 확률 과정의 모든 모멘트(moment)가 시간 차이(time lag)에만 의존하고 \n",
    "#### 절대 시간에는 의존하지 않는 것이다.\n",
    "\n",
    "이를 수학적으로 표현하면 임의의  𝑡 ,  𝑠 ,  𝑘𝑖 에 대해\n",
    "\n",
    "$$\\text{E}[Y_{t} Y_{t+k_1} Y_{t+k_2} \\cdots Y_{t+k_i} \\cdots ] = \\text{E}[Y_s Y_{s+k_1} Y_{s+k_2} \\cdots Y_{s+k_i} \\cdots]$$\n",
    "\n",
    "즉. 기댓값의 경우\n",
    "\n",
    "$$\\text{E}[Y_{t}] = \\text{E}[Y_{s}] = \\mu$$\n",
    "\n",
    "가 성립하고\n",
    "\n",
    "자기공분산의 경우,\n",
    "\n",
    "$$\\text{E}[Y_{t}Y_{t+k}] = \\text{E}[Y_{s}Y_{s+k}] = f(k)$$\n",
    "\n",
    "가 성립한다.\n",
    "\n",
    "#### 위 두가지 조건만 성립하는 경우에는 광의의 정상 확률 과정(wide-sense stationary process, weak stationary process)라고 한다."
   ]
  },
  {
   "cell_type": "markdown",
   "metadata": {},
   "source": [
    "정상 확률과정에서는 자기공분산과 자기상관계수의 값이 시간 변수의 차이 즉 시차(lag)  𝑘 에만 의존한다. \n",
    "\n",
    "#### 따라서 자기공분산은 시차에 대한 함수이다. 이를 자기공분산함수(auto covariance function)라고 한다.\n",
    "\n",
    "$$\\gamma_{t,t+k} =  \\gamma_{0,k} \\triangleq  \\gamma_k$$"
   ]
  },
  {
   "cell_type": "markdown",
   "metadata": {},
   "source": [
    "#### 정상 확률 과정의 자기상관계수도 마찬가지로 시차  𝑘 에만 의존한다. 이를 자기상관계수 함수(auto-correlation function) 줄여서 ACF라고 한다.\n",
    "\n",
    "$$\\rho_{t,t+k} = \\rho_{0,k} \\triangleq \\rho_k = \\dfrac{\\gamma_k}{\\gamma_0}$$"
   ]
  },
  {
   "cell_type": "markdown",
   "metadata": {},
   "source": [
    "정상 확률 과정은 다음과 같은 성질을 만족한다.\n",
    "\n",
    "\\begin{eqnarray}\n",
    "\\gamma_0 &=& \\text{Var}[Y_t] \\\\\n",
    "\\gamma_{k} &=& \\gamma_{-k} \\\\\n",
    "\\left| \\gamma_{k} \\right| &\\leq& \\gamma_{0}  \\\\\n",
    "\\rho_{0} &=& 1 \\\\\n",
    "\\rho_{k} &=& \\rho_{-k} \\\\\n",
    "\\left| \\rho_{k} \\right| &\\leq& 1 \\\\\n",
    "\\end{eqnarray}"
   ]
  },
  {
   "cell_type": "markdown",
   "metadata": {},
   "source": [
    "## 에르고딕 성질\n",
    "\n",
    "#### 정상 확률과정에서는 각각의 시간에 해당하는 확률변수의 무조건부 분포가 모두 같다. \n",
    "\n",
    "따라서 시계열 데이터를 이루는 각 숫자가 하나의 분포에서 나온 표본 데이터 집합이라고 생각할 수 있다. \n",
    "\n",
    "이 성질을 이용하면 기댓값이나 자기공분산 등에서 필요한 앙상블 평균을 계산할 때 여러 개의 시계열 데이터 표본이 필요하지 않고 단 하나의 시계열 데이터 표본만 있어도 된다.\n",
    "\n",
    "기댓값의 경우,\n",
    "\n",
    "$$\\lim_{N\\rightarrow \\infty} \\dfrac{1}{N} \\sum^N Y_t = \\text{E}[Y_t]$$"
   ]
  },
  {
   "cell_type": "markdown",
   "metadata": {},
   "source": [
    "자기공분산의 경우\n",
    "\n",
    "$$\\lim_{N\\rightarrow \\infty} \\dfrac{1}{N} \\sum^N Y_t Y_{t+k} =  \\text{E}[Y_tY_{t+k}]$$"
   ]
  },
  {
   "cell_type": "markdown",
   "metadata": {},
   "source": [
    "가 성립한다.\n",
    "\n",
    "#### 이를 에르고딕 성질(ergodicity)이라고 한다."
   ]
  },
  {
   "cell_type": "markdown",
   "metadata": {},
   "source": [
    "## 비정상 확률과정\n",
    "\n",
    "정상 확률과정이 아닌 확률과정은 비정상 확률 과정(non-stationary process)이라고 한다.\n",
    "\n",
    "비정상 확률 과정이 되는 경우는\n",
    "\n",
    "+ 추세를 가지는 경우. 일차 모멘트 즉, 기댓값  E[𝑦𝑡] 이 시간에 따라 변화함\n",
    "+ 추세가 없지만 분산  Var[𝑦𝑡]  이 시간에 따라 변하는 경우\n",
    "\n",
    "등이 있다."
   ]
  },
  {
   "cell_type": "code",
   "execution_count": 1,
   "metadata": {},
   "outputs": [],
   "source": [
    "import matplotlib.pylab as plt\n",
    "import matplotlib as mpl\n",
    "import matplotlib.font_manager as fm\n",
    "import seaborn as sns\n",
    "import numpy as np\n",
    "\n",
    "sns.set_style(\"whitegrid\")\n",
    "mpl.rcParams['axes.unicode_minus'] = False\n",
    "plt.rcParams['font.size'] = 12\n",
    "\n",
    "path = \"/Library/Fonts/NanumGothic.otf\"\n",
    "font_name = fm.FontProperties(fname=path, size=20).get_name()\n",
    "\n",
    "plt.rc('font', family=font_name)"
   ]
  },
  {
   "cell_type": "code",
   "execution_count": 2,
   "metadata": {},
   "outputs": [
    {
     "data": {
      "text/html": [
       "<div>\n",
       "<style scoped>\n",
       "    .dataframe tbody tr th:only-of-type {\n",
       "        vertical-align: middle;\n",
       "    }\n",
       "\n",
       "    .dataframe tbody tr th {\n",
       "        vertical-align: top;\n",
       "    }\n",
       "\n",
       "    .dataframe thead th {\n",
       "        text-align: right;\n",
       "    }\n",
       "</style>\n",
       "<table border=\"1\" class=\"dataframe\">\n",
       "  <thead>\n",
       "    <tr style=\"text-align: right;\">\n",
       "      <th></th>\n",
       "      <th>year</th>\n",
       "      <th>population</th>\n",
       "    </tr>\n",
       "  </thead>\n",
       "  <tbody>\n",
       "    <tr>\n",
       "      <th>11</th>\n",
       "      <td>1961</td>\n",
       "      <td>17.780</td>\n",
       "    </tr>\n",
       "    <tr>\n",
       "      <th>12</th>\n",
       "      <td>1971</td>\n",
       "      <td>21.046</td>\n",
       "    </tr>\n",
       "    <tr>\n",
       "      <th>13</th>\n",
       "      <td>1981</td>\n",
       "      <td>23.774</td>\n",
       "    </tr>\n",
       "    <tr>\n",
       "      <th>14</th>\n",
       "      <td>1991</td>\n",
       "      <td>26.429</td>\n",
       "    </tr>\n",
       "    <tr>\n",
       "      <th>15</th>\n",
       "      <td>2001</td>\n",
       "      <td>30.007</td>\n",
       "    </tr>\n",
       "  </tbody>\n",
       "</table>\n",
       "</div>"
      ],
      "text/plain": [
       "    year  population\n",
       "11  1961      17.780\n",
       "12  1971      21.046\n",
       "13  1981      23.774\n",
       "14  1991      26.429\n",
       "15  2001      30.007"
      ]
     },
     "execution_count": 2,
     "metadata": {},
     "output_type": "execute_result"
    }
   ],
   "source": [
    "import statsmodels.api as sm\n",
    "import pandas as pd\n",
    "\n",
    "df = sm.datasets.get_rdataset(\"CanPop\", package=\"carData\").data\n",
    "df.tail()"
   ]
  },
  {
   "cell_type": "code",
   "execution_count": 3,
   "metadata": {},
   "outputs": [
    {
     "data": {
      "image/png": "[encoded data removed]",
      "text/plain": [
       "<Figure size 432x288 with 1 Axes>"
      ]
     },
     "metadata": {
      "needs_background": "light"
     },
     "output_type": "display_data"
    }
   ],
   "source": [
    "df.plot(x=\"year\", y=\"population\")\n",
    "plt.xlabel(\"연도\")\n",
    "plt.ylabel(\"인구\")\n",
    "plt.title(\"시간에 따른 캐나다 인구의 변화\")\n",
    "plt.show()"
   ]
  },
  {
   "cell_type": "markdown",
   "metadata": {},
   "source": [
    "다음 시계열 자료들은 동일한 확률 과정의 샘플들이다. 각각의 샘플(시계열 자료)만 보면 마치 추세가 있는 것처럼 보인다. \n",
    "\n",
    "그러나 이는 확률 과정의 분산  Var[𝑦𝑡] 이 시간  𝑡 에 따라 커지기 때문이다. 그래프에 표시하였듯이  𝑡=400 에서의 분산  Var[𝑦400] 은  𝑡=100 에서의 분산  Var[𝑦100] 보다 크다. \n",
    "\n",
    "#### 이런 경우 확률적 추세(stochastic trend)를 가진다고 말하기도 한다."
   ]
  },
  {
   "cell_type": "code",
   "execution_count": 6,
   "metadata": {},
   "outputs": [],
   "source": [
    "import scipy as sp\n",
    "\n",
    "N = 500\n",
    "t1 = 100\n",
    "t2 = 400\n",
    "t = np.arange(N)\n",
    "\n",
    "np.random.seed(12)\n",
    "y1 = np.insert(np.cumsum(sp.stats.norm.rvs(size=N-1)), 0, 0)\n",
    "np.random.seed(18)\n",
    "y2 = np.insert(np.cumsum(sp.stats.norm.rvs(size=N-1)), 0, 0)\n",
    "np.random.seed(22)\n",
    "y3 = np.insert(np.cumsum(sp.stats.norm.rvs(size=N-1)), 0, 0)\n",
    "np.random.seed(24)\n",
    "y4 = np.insert(np.cumsum(sp.stats.norm.rvs(size=N-1)), 0, 0)"
   ]
  },
  {
   "cell_type": "code",
   "execution_count": 9,
   "metadata": {},
   "outputs": [
    {
     "data": {
      "image/png": "[encoded data removed]",
      "text/plain": [
       "<Figure size 432x288 with 2 Axes>"
      ]
     },
     "metadata": {
      "needs_background": "light"
     },
     "output_type": "display_data"
    }
   ],
   "source": [
    "plt.subplot(211)\n",
    "plt.title(\"확률적 추세가 있는 시계열 사례\")\n",
    "plt.plot(t, y1)\n",
    "plt.plot(t, y2)\n",
    "plt.plot(t, y3)\n",
    "plt.plot(t, y4)\n",
    "plt.plot(t1, y1[t1], 'o', markersize=5)\n",
    "plt.plot(t2, y1[t2], 'o', markersize=5)\n",
    "plt.plot(t1, y2[t1], 'o', markersize=5)\n",
    "plt.plot(t2, y2[t2], 'o', markersize=5)\n",
    "plt.plot(t1, y3[t1], 'o', markersize=5)\n",
    "plt.plot(t2, y3[t2], 'o', markersize=5)\n",
    "plt.plot(t1, y4[t1], 'o', markersize=5)\n",
    "plt.plot(t2, y4[t2], 'o', markersize=5)\n",
    "\n",
    "plt.subplot(212)\n",
    "plt.grid(False)\n",
    "plt.title(\"각 시점에서의 확률분포 모양\")\n",
    "plt.plot(t, sp.stats.norm(t1, 0.08*t1).pdf(t))\n",
    "plt.plot(t, sp.stats.norm(t2, 0.08*t2).pdf(t))\n",
    "\n",
    "plt.tight_layout()\n",
    "plt.show()"
   ]
  },
  {
   "cell_type": "code",
   "execution_count": null,
   "metadata": {},
   "outputs": [],
   "source": []
  }
 ],
 "metadata": {
  "kernelspec": {
   "display_name": "Python 3",
   "language": "python",
   "name": "python3"
  },
  "language_info": {
   "codemirror_mode": {
    "name": "ipython",
    "version": 3
   },
   "file_extension": ".py",
   "mimetype": "text/x-python",
   "name": "python",
   "nbconvert_exporter": "python",
   "pygments_lexer": "ipython3",
   "version": "3.7.3"
  }
 },
 "nbformat": 4,
 "nbformat_minor": 2
}
