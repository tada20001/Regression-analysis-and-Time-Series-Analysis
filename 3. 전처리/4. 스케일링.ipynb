{
 "cells": [
  {
   "cell_type": "markdown",
   "metadata": {},
   "source": [
    "회귀분석에 사용되는 데이터는 그 자체로 사용하기 보다는 스케일링이나 함수 변환 등의 전처리 과정을 거치는 경우가 많다. 전처리 과정은 공분산 행렬의 조건을 향상시키거나 데이터 간의 관계를 선형 모형에 맞게 바꾸기 위해 사용된다.\n",
    "\n",
    "## 조건수\n",
    "\n",
    "조건수(conditional number)는 공분산 행렬  𝑋𝑇𝑋 의 가장 큰 고유치와 가장 작은 고유치의 비율을 뜻한다.\n",
    "\n",
    "$$\\text{condition number} = \\dfrac{\\lambda_{\\text{max}}}{\\lambda_{\\text{min}}}$$"
   ]
  },
  {
   "cell_type": "markdown",
   "metadata": {},
   "source": [
    "##### 조건수가 크면 역행렬을 계산할 때 오차가 미치는 영향이 커진다. \n",
    "\n",
    "여기에서는 다음 연립방정식을 예로 들어 설명을 하겠다.\n",
    "\n",
    "$$Ax = b$$\n",
    "\n",
    "행렬  𝐴 가 단위 행렬이면 조건수는 가장 작은 경우로 조건수의 값이 1이다.\n",
    "\n",
    "$$\\text{cond}(I) = 1$$"
   ]
  },
  {
   "cell_type": "code",
   "execution_count": 1,
   "metadata": {},
   "outputs": [],
   "source": [
    "import numpy as np"
   ]
  },
  {
   "cell_type": "code",
   "execution_count": 2,
   "metadata": {},
   "outputs": [],
   "source": [
    "A = np.eye(4)"
   ]
  },
  {
   "cell_type": "code",
   "execution_count": 3,
   "metadata": {},
   "outputs": [
    {
     "data": {
      "text/plain": [
       "array([[1., 0., 0., 0.],\n",
       "       [0., 1., 0., 0.],\n",
       "       [0., 0., 1., 0.],\n",
       "       [0., 0., 0., 1.]])"
      ]
     },
     "execution_count": 3,
     "metadata": {},
     "output_type": "execute_result"
    }
   ],
   "source": [
    "A"
   ]
  },
  {
   "cell_type": "markdown",
   "metadata": {},
   "source": [
    "이 행렬  𝐴 와 곱해져서 상수 벡터  𝑏 가 되는 벡터  𝑥 를 역행렬  𝐴−1 을 사용하여 계산할 수 있다. 이 예에서는 상수 벡터  𝑏 가 1-벡터이다."
   ]
  },
  {
   "cell_type": "code",
   "execution_count": 5,
   "metadata": {},
   "outputs": [
    {
     "data": {
      "text/plain": [
       "array([1., 1., 1., 1.])"
      ]
     },
     "execution_count": 5,
     "metadata": {},
     "output_type": "execute_result"
    }
   ],
   "source": [
    "b = np.ones(4)\n",
    "np.linalg.solve(A, b)  "
   ]
  },
  {
   "cell_type": "markdown",
   "metadata": {},
   "source": [
    "만약 상수 벡터에 약간의 오차가 있었다면 연립방정식의 해에도 동일한 수준의 오차가 발행한다."
   ]
  },
  {
   "cell_type": "code",
   "execution_count": 6,
   "metadata": {},
   "outputs": [
    {
     "data": {
      "text/plain": [
       "array([0.999001, 0.999001, 0.999001, 0.999001])"
      ]
     },
     "execution_count": 6,
     "metadata": {},
     "output_type": "execute_result"
    }
   ],
   "source": [
    "np.linalg.solve(A + 0.001 * np.eye(4), b)"
   ]
  },
  {
   "cell_type": "code",
   "execution_count": 8,
   "metadata": {},
   "outputs": [
    {
     "data": {
      "text/plain": [
       "array([[1.001, 0.   , 0.   , 0.   ],\n",
       "       [0.   , 1.001, 0.   , 0.   ],\n",
       "       [0.   , 0.   , 1.001, 0.   ],\n",
       "       [0.   , 0.   , 0.   , 1.001]])"
      ]
     },
     "execution_count": 8,
     "metadata": {},
     "output_type": "execute_result"
    }
   ],
   "source": [
    "A + 0.001 * np.eye(4)"
   ]
  },
  {
   "cell_type": "code",
   "execution_count": 10,
   "metadata": {},
   "outputs": [
    {
     "data": {
      "text/plain": [
       "array([[0.001, 0.   , 0.   , 0.   ],\n",
       "       [0.   , 0.001, 0.   , 0.   ],\n",
       "       [0.   , 0.   , 0.001, 0.   ],\n",
       "       [0.   , 0.   , 0.   , 0.001]])"
      ]
     },
     "execution_count": 10,
     "metadata": {},
     "output_type": "execute_result"
    }
   ],
   "source": [
    "0.001 * np.eye(4)"
   ]
  },
  {
   "cell_type": "markdown",
   "metadata": {},
   "source": [
    "다음과 같은 행렬을 생각하자. 이 행렬은 4차 힐버트 행렬로 조건수가 15000이 넘는다. 이렇게 연립방정식을 이루는 행렬의 조건수가 커지면 상수항 오차가 작은 경우에도 해의 오차가 커지게 된다."
   ]
  },
  {
   "cell_type": "code",
   "execution_count": 15,
   "metadata": {},
   "outputs": [],
   "source": [
    "import scipy as sp\n",
    "import scipy.linalg"
   ]
  },
  {
   "cell_type": "code",
   "execution_count": 16,
   "metadata": {},
   "outputs": [
    {
     "data": {
      "text/plain": [
       "array([[1.        , 0.5       , 0.33333333, 0.25      ],\n",
       "       [0.5       , 0.33333333, 0.25      , 0.2       ],\n",
       "       [0.33333333, 0.25      , 0.2       , 0.16666667],\n",
       "       [0.25      , 0.2       , 0.16666667, 0.14285714]])"
      ]
     },
     "execution_count": 16,
     "metadata": {},
     "output_type": "execute_result"
    }
   ],
   "source": [
    "A = sp.linalg.hilbert(4) \n",
    "A"
   ]
  },
  {
   "cell_type": "code",
   "execution_count": 17,
   "metadata": {},
   "outputs": [
    {
     "data": {
      "text/plain": [
       "15513.738738929038"
      ]
     },
     "execution_count": 17,
     "metadata": {},
     "output_type": "execute_result"
    }
   ],
   "source": [
    "np.linalg.cond(A)"
   ]
  },
  {
   "cell_type": "markdown",
   "metadata": {},
   "source": [
    "이 행렬과 곱해져서 상수 벡터가 되는 벡터를 역행렬을 사용하여 찾으면 다음과 같다."
   ]
  },
  {
   "cell_type": "code",
   "execution_count": 18,
   "metadata": {},
   "outputs": [
    {
     "data": {
      "text/plain": [
       "array([  -4.,   60., -180.,  140.])"
      ]
     },
     "execution_count": 18,
     "metadata": {},
     "output_type": "execute_result"
    }
   ],
   "source": [
    "sp.linalg.solve(A, b)"
   ]
  },
  {
   "cell_type": "markdown",
   "metadata": {},
   "source": [
    "조건수가 크면 약간의 오차만 있어도 해가 전혀 다른 값을 가진다. 따라서 조건수가 크면 회귀분석을 사용한 예측값도 오차가 커지게 된다."
   ]
  },
  {
   "cell_type": "code",
   "execution_count": 20,
   "metadata": {},
   "outputs": [
    {
     "data": {
      "text/plain": [
       "array([ -0.58897672,  21.1225671 , -85.75912499,  78.45650825])"
      ]
     },
     "execution_count": 20,
     "metadata": {},
     "output_type": "execute_result"
    }
   ],
   "source": [
    "sp.linalg.solve(A + 0.0001 * np.eye(4), b)"
   ]
  },
  {
   "cell_type": "markdown",
   "metadata": {},
   "source": [
    "## 회귀분석과 스케일링\n",
    "\n",
    "회귀분석에서 조건수가 커지는 경우는 크게 두 가지가 있다.\n",
    "\n",
    "1. 변수들의 단위 차이로 인해 숫자의 스케일이 크게 달라지는 경우. 이 경우에는 스케일링(scaling)으로 해결한다.\n",
    "\n",
    "2. 다중 공선성 즉, 상관관계가 큰 독립 변수들이 있는 경우, 이 경우에는 변수 선택이나 PCA를 사용한 차원 축소 등으로 해결한다.\n",
    "\n",
    "보스턴 집값 데이터의 경우 회귀분석을 하면 조건수가 15,000 정도로 크게 나온다."
   ]
  },
  {
   "cell_type": "code",
   "execution_count": 21,
   "metadata": {},
   "outputs": [],
   "source": [
    "import pandas as pd\n",
    "from sklearn.datasets import load_boston\n",
    "\n",
    "boston = load_boston()\n",
    "\n",
    "dfX = pd.DataFrame(boston.data, columns=boston.feature_names)\n",
    "dfy = pd.DataFrame(boston.target, columns=[\"MEDV\"])\n",
    "df = pd.concat([dfX, dfy], axis=1)"
   ]
  },
  {
   "cell_type": "code",
   "execution_count": 22,
   "metadata": {},
   "outputs": [
    {
     "name": "stdout",
     "output_type": "stream",
     "text": [
      "                            OLS Regression Results                            \n",
      "==============================================================================\n",
      "Dep. Variable:                   MEDV   R-squared:                       0.741\n",
      "Model:                            OLS   Adj. R-squared:                  0.734\n",
      "Method:                 Least Squares   F-statistic:                     108.1\n",
      "Date:                Tue, 13 Aug 2019   Prob (F-statistic):          6.72e-135\n",
      "Time:                        11:35:17   Log-Likelihood:                -1498.8\n",
      "No. Observations:                 506   AIC:                             3026.\n",
      "Df Residuals:                     492   BIC:                             3085.\n",
      "Df Model:                          13                                         \n",
      "Covariance Type:            nonrobust                                         \n",
      "==============================================================================\n",
      "                 coef    std err          t      P>|t|      [0.025      0.975]\n",
      "------------------------------------------------------------------------------\n",
      "Intercept     36.4595      5.103      7.144      0.000      26.432      46.487\n",
      "CRIM          -0.1080      0.033     -3.287      0.001      -0.173      -0.043\n",
      "ZN             0.0464      0.014      3.382      0.001       0.019       0.073\n",
      "INDUS          0.0206      0.061      0.334      0.738      -0.100       0.141\n",
      "CHAS           2.6867      0.862      3.118      0.002       0.994       4.380\n",
      "NOX          -17.7666      3.820     -4.651      0.000     -25.272     -10.262\n",
      "RM             3.8099      0.418      9.116      0.000       2.989       4.631\n",
      "AGE            0.0007      0.013      0.052      0.958      -0.025       0.027\n",
      "DIS           -1.4756      0.199     -7.398      0.000      -1.867      -1.084\n",
      "RAD            0.3060      0.066      4.613      0.000       0.176       0.436\n",
      "TAX           -0.0123      0.004     -3.280      0.001      -0.020      -0.005\n",
      "PTRATIO       -0.9527      0.131     -7.283      0.000      -1.210      -0.696\n",
      "B              0.0093      0.003      3.467      0.001       0.004       0.015\n",
      "LSTAT         -0.5248      0.051    -10.347      0.000      -0.624      -0.425\n",
      "==============================================================================\n",
      "Omnibus:                      178.041   Durbin-Watson:                   1.078\n",
      "Prob(Omnibus):                  0.000   Jarque-Bera (JB):              783.126\n",
      "Skew:                           1.521   Prob(JB):                    8.84e-171\n",
      "Kurtosis:                       8.281   Cond. No.                     1.51e+04\n",
      "==============================================================================\n",
      "\n",
      "Warnings:\n",
      "[1] Standard Errors assume that the covariance matrix of the errors is correctly specified.\n",
      "[2] The condition number is large, 1.51e+04. This might indicate that there are\n",
      "strong multicollinearity or other numerical problems.\n"
     ]
    }
   ],
   "source": [
    "import statsmodels.api as sm\n",
    "\n",
    "model1 = sm.OLS.from_formula(\"MEDV ~ \" + \"+\".join(boston.feature_names), data=df)\n",
    "result1 = model1.fit()\n",
    "print(result1.summary())"
   ]
  },
  {
   "cell_type": "markdown",
   "metadata": {},
   "source": [
    "조건수(Cond. No.) = 1,5100\n",
    "\n",
    "그 이유는 각 독립 변수들이 0.1 단위부터 수백 단위까지 제각각의 크기를 가지고 있기 때문이다.  "
   ]
  },
  {
   "cell_type": "code",
   "execution_count": 27,
   "metadata": {},
   "outputs": [
    {
     "data": {
      "text/html": [
       "<div>\n",
       "<style scoped>\n",
       "    .dataframe tbody tr th:only-of-type {\n",
       "        vertical-align: middle;\n",
       "    }\n",
       "\n",
       "    .dataframe tbody tr th {\n",
       "        vertical-align: top;\n",
       "    }\n",
       "\n",
       "    .dataframe thead th {\n",
       "        text-align: right;\n",
       "    }\n",
       "</style>\n",
       "<table border=\"1\" class=\"dataframe\">\n",
       "  <thead>\n",
       "    <tr style=\"text-align: right;\">\n",
       "      <th></th>\n",
       "      <th>CRIM</th>\n",
       "      <th>ZN</th>\n",
       "      <th>INDUS</th>\n",
       "      <th>CHAS</th>\n",
       "      <th>NOX</th>\n",
       "      <th>RM</th>\n",
       "      <th>AGE</th>\n",
       "      <th>DIS</th>\n",
       "      <th>RAD</th>\n",
       "      <th>TAX</th>\n",
       "      <th>PTRATIO</th>\n",
       "      <th>B</th>\n",
       "      <th>LSTAT</th>\n",
       "    </tr>\n",
       "  </thead>\n",
       "  <tbody>\n",
       "    <tr>\n",
       "      <th>min</th>\n",
       "      <td>0.00632</td>\n",
       "      <td>0.0</td>\n",
       "      <td>0.46</td>\n",
       "      <td>0.0</td>\n",
       "      <td>0.385</td>\n",
       "      <td>3.561</td>\n",
       "      <td>2.9</td>\n",
       "      <td>1.1296</td>\n",
       "      <td>1.0</td>\n",
       "      <td>187.0</td>\n",
       "      <td>12.6</td>\n",
       "      <td>0.32</td>\n",
       "      <td>1.73</td>\n",
       "    </tr>\n",
       "    <tr>\n",
       "      <th>max</th>\n",
       "      <td>88.97620</td>\n",
       "      <td>100.0</td>\n",
       "      <td>27.74</td>\n",
       "      <td>1.0</td>\n",
       "      <td>0.871</td>\n",
       "      <td>8.780</td>\n",
       "      <td>100.0</td>\n",
       "      <td>12.1265</td>\n",
       "      <td>24.0</td>\n",
       "      <td>711.0</td>\n",
       "      <td>22.0</td>\n",
       "      <td>396.90</td>\n",
       "      <td>37.97</td>\n",
       "    </tr>\n",
       "  </tbody>\n",
       "</table>\n",
       "</div>"
      ],
      "text/plain": [
       "         CRIM     ZN  INDUS  CHAS    NOX     RM    AGE      DIS   RAD    TAX  \\\n",
       "min   0.00632    0.0   0.46   0.0  0.385  3.561    2.9   1.1296   1.0  187.0   \n",
       "max  88.97620  100.0  27.74   1.0  0.871  8.780  100.0  12.1265  24.0  711.0   \n",
       "\n",
       "     PTRATIO       B  LSTAT  \n",
       "min     12.6    0.32   1.73  \n",
       "max     22.0  396.90  37.97  "
      ]
     },
     "execution_count": 27,
     "metadata": {},
     "output_type": "execute_result"
    }
   ],
   "source": [
    "dfX.describe().iloc[[3, 7], :]  #각 독립변수별로 최대값, 최소값의 차이가 크다"
   ]
  },
  {
   "cell_type": "markdown",
   "metadata": {},
   "source": [
    "이렇게 조건수가 크면 모수 추정 오차가 증폭될 가능성이 커진다. 이 효과를 확실하게 보기 위하여 일부러 다음과 같이 조건수를 더 크게 만들어 보았다. 이 상태로 선형 회귀분석을 하면 성능이 급격하게 떨어진다.\n",
    "\n",
    "summary 리포트에서 성능을 나타내는 지표는 R-squared라는 이름의 결정계수다. 결정계수에 대해서는 분산분석에서 자세히 설명한다. 결정계수 값이 원래의 모형에서는 0.741이었는데 조건이 나빠지면서 0.332로 감소한 것을 볼 수 있다."
   ]
  },
  {
   "cell_type": "code",
   "execution_count": 28,
   "metadata": {},
   "outputs": [],
   "source": [
    "dfX2 = dfX.copy()\n",
    "dfX2[\"TAX\"] *= 1e13  # TAX * 100000000000000\n",
    "df2 = pd.concat([dfX2, dfy], axis=1)"
   ]
  },
  {
   "cell_type": "code",
   "execution_count": 30,
   "metadata": {},
   "outputs": [
    {
     "name": "stdout",
     "output_type": "stream",
     "text": [
      "                            OLS Regression Results                            \n",
      "==============================================================================\n",
      "Dep. Variable:                   MEDV   R-squared:                       0.333\n",
      "Model:                            OLS   Adj. R-squared:                  0.329\n",
      "Method:                 Least Squares   F-statistic:                     83.39\n",
      "Date:                Tue, 13 Aug 2019   Prob (F-statistic):           8.62e-44\n",
      "Time:                        11:43:41   Log-Likelihood:                -1737.9\n",
      "No. Observations:                 506   AIC:                             3484.\n",
      "Df Residuals:                     502   BIC:                             3501.\n",
      "Df Model:                           3                                         \n",
      "Covariance Type:            nonrobust                                         \n",
      "==============================================================================\n",
      "                 coef    std err          t      P>|t|      [0.025      0.975]\n",
      "------------------------------------------------------------------------------\n",
      "Intercept     -0.0038      0.000     -8.543      0.000      -0.005      -0.003\n",
      "CRIM          -0.1567      0.046     -3.376      0.001      -0.248      -0.066\n",
      "ZN             0.1273      0.016      7.752      0.000       0.095       0.160\n",
      "INDUS         -0.1971      0.019    -10.433      0.000      -0.234      -0.160\n",
      "CHAS           0.0034      0.000     12.430      0.000       0.003       0.004\n",
      "NOX           -0.0023      0.000     -9.285      0.000      -0.003      -0.002\n",
      "RM             0.0267      0.002     14.132      0.000       0.023       0.030\n",
      "AGE            0.1410      0.017      8.443      0.000       0.108       0.174\n",
      "DIS           -0.0286      0.004     -7.531      0.000      -0.036      -0.021\n",
      "RAD            0.1094      0.018      6.163      0.000       0.075       0.144\n",
      "TAX         1.077e-15   2.66e-16      4.051      0.000    5.55e-16     1.6e-15\n",
      "PTRATIO       -0.1124      0.011    -10.390      0.000      -0.134      -0.091\n",
      "B              0.0516      0.003     19.916      0.000       0.046       0.057\n",
      "LSTAT         -0.6569      0.056    -11.790      0.000      -0.766      -0.547\n",
      "==============================================================================\n",
      "Omnibus:                       39.447   Durbin-Watson:                   0.863\n",
      "Prob(Omnibus):                  0.000   Jarque-Bera (JB):               46.611\n",
      "Skew:                           0.704   Prob(JB):                     7.56e-11\n",
      "Kurtosis:                       3.479   Cond. No.                     1.19e+17\n",
      "==============================================================================\n",
      "\n",
      "Warnings:\n",
      "[1] Standard Errors assume that the covariance matrix of the errors is correctly specified.\n",
      "[2] The condition number is large, 1.19e+17. This might indicate that there are\n",
      "strong multicollinearity or other numerical problems.\n"
     ]
    }
   ],
   "source": [
    "model2 = sm.OLS.from_formula(\"MEDV ~ \" + \"+\".join(boston.feature_names), data=df2)\n",
    "result2 = model2.fit()\n",
    "print(result2.summary())"
   ]
  },
  {
   "cell_type": "markdown",
   "metadata": {},
   "source": [
    "StatsModels에서는 모형지정 문자열에서 scale 명령을 사용하여 스케일링을 할 수 있다. \n",
    "\n",
    "이 방식으로 스케일을 하면 스케일링에 사용된 평균과 표준편차를 저장하였다가 나중에 predict 명령을 사용할 때도 같은 스케일을 사용하기 때문에 편리하다. 더미 변수인 CHAS는 스케일을 하지 않는다는 점에 주의한다."
   ]
  },
  {
   "cell_type": "code",
   "execution_count": 31,
   "metadata": {},
   "outputs": [
    {
     "data": {
      "text/plain": [
       "['scale(CRIM)',\n",
       " 'scale(ZN)',\n",
       " 'scale(INDUS)',\n",
       " 'scale(NOX)',\n",
       " 'scale(RM)',\n",
       " 'scale(AGE)',\n",
       " 'scale(DIS)',\n",
       " 'scale(RAD)',\n",
       " 'scale(TAX)',\n",
       " 'scale(PTRATIO)',\n",
       " 'scale(B)',\n",
       " 'scale(LSTAT)',\n",
       " 'CHAS']"
      ]
     },
     "execution_count": 31,
     "metadata": {},
     "output_type": "execute_result"
    }
   ],
   "source": [
    "feature_names = list(boston.feature_names)\n",
    "feature_names.remove(\"CHAS\")\n",
    "feature_names = [\"scale({})\".format(name) for name in feature_names] + [\"CHAS\"]\n",
    "feature_names"
   ]
  },
  {
   "cell_type": "code",
   "execution_count": 32,
   "metadata": {},
   "outputs": [
    {
     "name": "stdout",
     "output_type": "stream",
     "text": [
      "                            OLS Regression Results                            \n",
      "==============================================================================\n",
      "Dep. Variable:                   MEDV   R-squared:                       0.741\n",
      "Model:                            OLS   Adj. R-squared:                  0.734\n",
      "Method:                 Least Squares   F-statistic:                     108.1\n",
      "Date:                Tue, 13 Aug 2019   Prob (F-statistic):          6.72e-135\n",
      "Time:                        11:55:30   Log-Likelihood:                -1498.8\n",
      "No. Observations:                 506   AIC:                             3026.\n",
      "Df Residuals:                     492   BIC:                             3085.\n",
      "Df Model:                          13                                         \n",
      "Covariance Type:            nonrobust                                         \n",
      "==================================================================================\n",
      "                     coef    std err          t      P>|t|      [0.025      0.975]\n",
      "----------------------------------------------------------------------------------\n",
      "Intercept         22.3470      0.219    101.943      0.000      21.916      22.778\n",
      "scale(CRIM)       -0.9281      0.282     -3.287      0.001      -1.483      -0.373\n",
      "scale(ZN)          1.0816      0.320      3.382      0.001       0.453       1.710\n",
      "scale(INDUS)       0.1409      0.421      0.334      0.738      -0.687       0.969\n",
      "scale(NOX)        -2.0567      0.442     -4.651      0.000      -2.926      -1.188\n",
      "scale(RM)          2.6742      0.293      9.116      0.000       2.098       3.251\n",
      "scale(AGE)         0.0195      0.371      0.052      0.958      -0.710       0.749\n",
      "scale(DIS)        -3.1040      0.420     -7.398      0.000      -3.928      -2.280\n",
      "scale(RAD)         2.6622      0.577      4.613      0.000       1.528       3.796\n",
      "scale(TAX)        -2.0768      0.633     -3.280      0.001      -3.321      -0.833\n",
      "scale(PTRATIO)    -2.0606      0.283     -7.283      0.000      -2.617      -1.505\n",
      "scale(B)           0.8493      0.245      3.467      0.001       0.368       1.331\n",
      "scale(LSTAT)      -3.7436      0.362    -10.347      0.000      -4.454      -3.033\n",
      "CHAS               2.6867      0.862      3.118      0.002       0.994       4.380\n",
      "==============================================================================\n",
      "Omnibus:                      178.041   Durbin-Watson:                   1.078\n",
      "Prob(Omnibus):                  0.000   Jarque-Bera (JB):              783.126\n",
      "Skew:                           1.521   Prob(JB):                    8.84e-171\n",
      "Kurtosis:                       8.281   Cond. No.                         10.6\n",
      "==============================================================================\n",
      "\n",
      "Warnings:\n",
      "[1] Standard Errors assume that the covariance matrix of the errors is correctly specified.\n"
     ]
    }
   ],
   "source": [
    "model3 = sm.OLS.from_formula(\"MEDV ~ \" + \"+\".join(feature_names), data=df2)\n",
    "result3 = model3.fit()\n",
    "print(result3.summary())"
   ]
  },
  {
   "cell_type": "markdown",
   "metadata": {},
   "source": [
    "조건수가 10.6으로 떨어지고, R-squared도 0.741로 올라감"
   ]
  },
  {
   "cell_type": "code",
   "execution_count": 33,
   "metadata": {},
   "outputs": [
    {
     "name": "stdout",
     "output_type": "stream",
     "text": [
      "                            OLS Regression Results                            \n",
      "==============================================================================\n",
      "Dep. Variable:                   MEDV   R-squared:                       0.741\n",
      "Model:                            OLS   Adj. R-squared:                  0.734\n",
      "Method:                 Least Squares   F-statistic:                     108.1\n",
      "Date:                Tue, 13 Aug 2019   Prob (F-statistic):          6.72e-135\n",
      "Time:                        11:57:29   Log-Likelihood:                -1498.8\n",
      "No. Observations:                 506   AIC:                             3026.\n",
      "Df Residuals:                     492   BIC:                             3085.\n",
      "Df Model:                          13                                         \n",
      "Covariance Type:            nonrobust                                         \n",
      "==================================================================================\n",
      "                     coef    std err          t      P>|t|      [0.025      0.975]\n",
      "----------------------------------------------------------------------------------\n",
      "Intercept         22.3470      0.219    101.943      0.000      21.916      22.778\n",
      "scale(CRIM)       -0.9281      0.282     -3.287      0.001      -1.483      -0.373\n",
      "scale(ZN)          1.0816      0.320      3.382      0.001       0.453       1.710\n",
      "scale(INDUS)       0.1409      0.421      0.334      0.738      -0.687       0.969\n",
      "scale(NOX)        -2.0567      0.442     -4.651      0.000      -2.926      -1.188\n",
      "scale(RM)          2.6742      0.293      9.116      0.000       2.098       3.251\n",
      "scale(AGE)         0.0195      0.371      0.052      0.958      -0.710       0.749\n",
      "scale(DIS)        -3.1040      0.420     -7.398      0.000      -3.928      -2.280\n",
      "scale(RAD)         2.6622      0.577      4.613      0.000       1.528       3.796\n",
      "scale(TAX)        -2.0768      0.633     -3.280      0.001      -3.321      -0.833\n",
      "scale(PTRATIO)    -2.0606      0.283     -7.283      0.000      -2.617      -1.505\n",
      "scale(B)           0.8493      0.245      3.467      0.001       0.368       1.331\n",
      "scale(LSTAT)      -3.7436      0.362    -10.347      0.000      -4.454      -3.033\n",
      "CHAS               2.6867      0.862      3.118      0.002       0.994       4.380\n",
      "==============================================================================\n",
      "Omnibus:                      178.041   Durbin-Watson:                   1.078\n",
      "Prob(Omnibus):                  0.000   Jarque-Bera (JB):              783.126\n",
      "Skew:                           1.521   Prob(JB):                    8.84e-171\n",
      "Kurtosis:                       8.281   Cond. No.                         10.6\n",
      "==============================================================================\n",
      "\n",
      "Warnings:\n",
      "[1] Standard Errors assume that the covariance matrix of the errors is correctly specified.\n"
     ]
    }
   ],
   "source": [
    "model4 = sm.OLS.from_formula(\"MEDV ~ \" + \"+\".join(feature_names), data=df)\n",
    "result4 = model4.fit()\n",
    "print(result4.summary())"
   ]
  },
  {
   "cell_type": "markdown",
   "metadata": {},
   "source": [
    "df에 대해 스케일링을 하고 회귀분석을 하면 조건수는 크게 줄어들었으나 R-squared(결정계수)는 바뀌지 않았다."
   ]
  },
  {
   "cell_type": "code",
   "execution_count": null,
   "metadata": {},
   "outputs": [],
   "source": []
  }
 ],
 "metadata": {
  "kernelspec": {
   "display_name": "Python 3",
   "language": "python",
   "name": "python3"
  },
  "language_info": {
   "codemirror_mode": {
    "name": "ipython",
    "version": 3
   },
   "file_extension": ".py",
   "mimetype": "text/x-python",
   "name": "python",
   "nbconvert_exporter": "python",
   "pygments_lexer": "ipython3",
   "version": "3.7.3"
  }
 },
 "nbformat": 4,
 "nbformat_minor": 2
}
