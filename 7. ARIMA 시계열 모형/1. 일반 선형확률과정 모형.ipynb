{
 "cells": [
  {
   "cell_type": "markdown",
   "metadata": {},
   "source": [
    "정상 확률 과정(stationary process)에서 가장 일반적으로 사용되는 모형은 일반 선형확률과정 모형(general linear process model)이다. \n",
    "\n",
    "#### 일반 선형확률과정 모형은 시계열이 가우시안 백색 잡음의 현재 값과 과거 값들의 선형 조합으로 이루어져 있다고 가정한다. \n",
    "\n",
    "이 수식에서  𝜖𝑡 는 가우시안 백색 잡음이고  𝜓 는 백색 잡음에 곱해지는 가중 계수(weight coefficient)이다.\n",
    "\n",
    "$$Y_t = \\epsilon_t + \\psi_1 \\epsilon_{t-1}  + \\psi_2 \\epsilon_{t-2}  + \\psi_3 \\epsilon_{t-3}  + \\cdots$$"
   ]
  },
  {
   "cell_type": "markdown",
   "metadata": {},
   "source": [
    "다만 선형확률과정 모형이 성립하려면 계수들이 다음 조건을 만족해야 한다. 이 조건은 전체 항들의 합이 수렴하도록 즉, 전체 값의 크기가 과도하게 커지지 않도록 하는 역할을 한다.\n",
    "\n",
    "$$\\sum_{i=1}^{\\infty} \\psi_i^2 < \\infty$$"
   ]
  },
  {
   "cell_type": "markdown",
   "metadata": {},
   "source": [
    "이 모형을 블럭 다이어그램으로 나타내면 다음과 같다. 이 다이어그램에서  𝐿 는 신호가 저장되었다가 다음 시간에 나오는 일종의 저장 장치이다. 지연(lag) 요소라고 불린다. 책에 따라서는 D(Delay), B(Backshift)라고 표기하는 경우도 있다.\n",
    "\n",
    "[그림] 일반선형확률과정 모형 블럭 다이어그램 : https://datascienceschool.net/upfiles/5d01f13eaf534ceda83306bdd0bb6fec.png"
   ]
  },
  {
   "cell_type": "markdown",
   "metadata": {},
   "source": [
    "Lag 연산자는 수식에서 다음과 같은 의미를 가진다.\n",
    "\n",
    "$$Y_{t-1} = LY_{t}$$\n",
    "\n",
    "$$Y_{t-2} = L^2Y_{t}$$\n",
    "\n",
    "$$Y_{t-k} = L^kY_{t}$$"
   ]
  },
  {
   "cell_type": "markdown",
   "metadata": {},
   "source": [
    "일반 선형확률과정 모형은 계수의 특성에 따라 다음과 같은 하위 모형으로 분류할 수 있다\n",
    "\n",
    "+ MA (Moving Average) 모형\n",
    "+ AR (Auto-Regressive) 모형\n",
    "+ ARMA (Auto-Regressive Moving Average) 모형"
   ]
  },
  {
   "cell_type": "markdown",
   "metadata": {},
   "source": [
    "## MA 모형\n",
    "\n",
    "#### MA 모형은 일반 선형 확률 모형의 차수가 유한(finite)한 경우를 말한다.  \n",
    "\n",
    "𝑞 차수의 MA 모형은 MA(q)로 표기하며 다음 수식을 만족한다.\n",
    "\n",
    "$$Y_t = \\epsilon_t + \\theta_1 \\epsilon_{t-1} + \\theta_2 \\epsilon_{t-2} + \\cdots + \\theta_q \\epsilon_{t-q}$$\n",
    "\n",
    "[그림] MA 모형 블럭 다이어그램 : https://datascienceschool.net/upfiles/e87600b2c3454bfeb28e93440aa920ec.png"
   ]
  },
  {
   "cell_type": "markdown",
   "metadata": {},
   "source": [
    "MA 수식을 Lag 연산자(operator)를 사용하면 다음처럼 쓸 수 있다.\n",
    "\n",
    "$$Y_t = \\epsilon_t + \\theta_1 L \\epsilon_{t} + \\theta_2 L^2 \\epsilon_{t} + \\cdots + \\theta_q L^q \\epsilon_{t}$$\n",
    "\n",
    "$$Y_t = (1 + \\theta_1 L + \\theta_2 L^2 + \\cdots + \\theta_q L^q) \\epsilon_{t}$$\n",
    "\n",
    "이를 줄여서 다음과 같이 쓰기도 한다.\n",
    "\n",
    "$$Y_t = \\theta(L) \\epsilon_t$$\n",
    "\n",
    "이 식에서  𝜃(𝐿) 은 다음 다항식을 뜻한다.\n",
    "\n",
    "$$\\theta(L) = 1 + \\theta_1 L + \\theta_2 L^2 + \\cdots \\theta_q L^q$$"
   ]
  },
  {
   "cell_type": "markdown",
   "metadata": {},
   "source": [
    "## AR 모형\n",
    "\n",
    "#### AR 모형은 자기 자신의 과거값에 의존적인 모형을 말한다.  \n",
    "\n",
    "𝑝 차수의 AR 모형은 AR(p)로 표기하며 다음 수식을 만족한다.\n",
    "\n",
    "$$Y_t = -\\phi_1 Y_{t-1} - \\phi_2 Y_{t-2} - \\cdots - \\phi_p Y_{t-p}  + \\epsilon_t$$\n",
    "\n",
    "AR 수식을 Lag 연산자(operator)를 사용하면 다음처럼 쓸 수 있다.\n",
    "\n",
    "$$(1 + \\phi_1 L + \\phi_2 L^2 + \\cdots + \\phi_p L^p) Y_t = \\epsilon_{t}$$\n",
    "\n",
    "이를 줄여서 다음과 같이 쓰기도 한다.\n",
    "\n",
    "$$\\phi(L) Y_t = \\epsilon_t$$"
   ]
  },
  {
   "cell_type": "markdown",
   "metadata": {},
   "source": [
    "이 식에서  𝜙(𝐿) 은 다음 다항식을 뜻한다.\n",
    "\n",
    "$$\\phi(L) = 1 + \\phi_1 L + \\phi_2 L^2 + \\cdots \\phi_p L^p$$\n",
    "\n",
    "[그림] AR 모형 블럭 다이어그램 : https://datascienceschool.net/upfiles/bdd7ce9c7996435baa1dd57e0661c0a5.png"
   ]
  },
  {
   "cell_type": "markdown",
   "metadata": {},
   "source": [
    "## ARMA 모형\n",
    "ARMA 모형은 AR 모형과 MA 모형을 합친 모형이다.\n",
    "\n",
    "$$Y_t = -\\phi_1 Y_{t-1} - \\phi_2 Y_{t-2} - \\cdots - \\phi_p Y_{t-p} + \\epsilon_t + \\theta_1 \\epsilon_{t-1} + \\theta_2 \\epsilon_{t-2} + \\cdots + \\theta_q \\epsilon_{t-q}$$\n",
    "\n",
    "줄여서 다음과 같이 쓰기도 한다.\n",
    "\n",
    "$$\\phi(L) Y_t = \\theta(L) \\epsilon_t$$"
   ]
  },
  {
   "cell_type": "code",
   "execution_count": null,
   "metadata": {},
   "outputs": [],
   "source": []
  }
 ],
 "metadata": {
  "kernelspec": {
   "display_name": "Python 3",
   "language": "python",
   "name": "python3"
  },
  "language_info": {
   "codemirror_mode": {
    "name": "ipython",
    "version": 3
   },
   "file_extension": ".py",
   "mimetype": "text/x-python",
   "name": "python",
   "nbconvert_exporter": "python",
   "pygments_lexer": "ipython3",
   "version": "3.7.3"
  }
 },
 "nbformat": 4,
 "nbformat_minor": 2
}
